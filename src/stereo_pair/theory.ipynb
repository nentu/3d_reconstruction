{
 "cells": [
  {
   "cell_type": "markdown",
   "metadata": {},
   "source": [
    "# How to get coordinate of closest point to both lines"
   ]
  },
  {
   "cell_type": "markdown",
   "metadata": {},
   "source": [
    "Let's found point which has same distance to the lines"
   ]
  },
  {
   "cell_type": "markdown",
   "metadata": {},
   "source": [
    "We have 2 points of first line `A`, `B`. And two points of the second line `C`, `D`"
   ]
  },
  {
   "cell_type": "code",
   "execution_count": 77,
   "metadata": {},
   "outputs": [],
   "source": [
    "from sympy import symbols\n",
    "from sympy import sqrt, simplify, solve, Eq, expand\n",
    "import numpy as np\n",
    "from IPython.display import display\n",
    "import re"
   ]
  },
  {
   "cell_type": "markdown",
   "metadata": {},
   "source": [
    "line points"
   ]
  },
  {
   "cell_type": "code",
   "execution_count": 78,
   "metadata": {},
   "outputs": [
    {
     "data": {
      "text/latex": [
       "$\\displaystyle a_{x} i + a_{y} j + a_{z} k$"
      ],
      "text/plain": [
       "a_x*i + a_y*j + a_z*k"
      ]
     },
     "execution_count": 78,
     "metadata": {},
     "output_type": "execute_result"
    }
   ],
   "source": [
    "i, j, k = symbols(\"i j k\")\n",
    "\n",
    "\n",
    "def get_coordinates(label):\n",
    "    return sum([i * symbols(label + \"_\" + v) for i, v in zip([i, j, k], \"xyz\")])\n",
    "\n",
    "\n",
    "def vec_to_ijk(vec):\n",
    "    return sum([i * v for i, v in zip([i, j, k], vec)])\n",
    "\n",
    "\n",
    "def ijk_to_vec(ijk):\n",
    "    return np.array(\n",
    "        [\n",
    "            ijk.subs({i: 1, j: 0, k: 0}),\n",
    "            ijk.subs({i: 0, j: 1, k: 0}),\n",
    "            ijk.subs({i: 0, j: 0, k: 1}),\n",
    "        ]\n",
    "    )\n",
    "\n",
    "\n",
    "a = get_coordinates(\"a\")\n",
    "assert vec_to_ijk(ijk_to_vec(a)) == a\n",
    "a"
   ]
  },
  {
   "cell_type": "code",
   "execution_count": 79,
   "metadata": {},
   "outputs": [
    {
     "data": {
      "text/latex": [
       "$\\displaystyle a_{x} i + a_{y} j + a_{z} k + b_{x} i + b_{y} j + b_{z} k + c_{x} i + c_{y} j + c_{z} k + d_{x} i + d_{y} j + d_{z} k$"
      ],
      "text/plain": [
       "a_x*i + a_y*j + a_z*k + b_x*i + b_y*j + b_z*k + c_x*i + c_y*j + c_z*k + d_x*i + d_y*j + d_z*k"
      ]
     },
     "execution_count": 79,
     "metadata": {},
     "output_type": "execute_result"
    }
   ],
   "source": [
    "a = get_coordinates(\"a\")\n",
    "b = get_coordinates(\"b\")\n",
    "c = get_coordinates(\"c\")\n",
    "d = get_coordinates(\"d\")\n",
    "a + b + c + d"
   ]
  },
  {
   "cell_type": "markdown",
   "metadata": {},
   "source": [
    "# Same distance"
   ]
  },
  {
   "cell_type": "markdown",
   "metadata": {},
   "source": [
    "Searching coordinates"
   ]
  },
  {
   "cell_type": "code",
   "execution_count": null,
   "metadata": {},
   "outputs": [
    {
     "data": {
      "text/plain": [
       "array([x, y, z], dtype=object)"
      ]
     },
     "execution_count": 54,
     "metadata": {},
     "output_type": "execute_result"
    }
   ],
   "source": [
    "point = np.array(symbols(\"x y z\"))\n",
    "point"
   ]
  },
  {
   "cell_type": "markdown",
   "metadata": {},
   "source": [
    "## Solution\n",
    "Let's define line r as \n",
    "$$ \\overline{r} = \\overline{r_0} + t \\overline{p}$$\n",
    "\n",
    "in this case $\\overline{r_0}$ - point `A`(translation) and $\\overline{p}$ - point `A` - `B` (diraction)\n",
    "\n",
    "We have point `point`. Put pendicular on the line and then draw a parallelogram with edges $\\overline{p}$ and $\\overline{A} - \\overline{point}$\n",
    "\n",
    "Area is `d` * $|\\overline{p}|$ where `d` is distance\n",
    "And area is $|\\overline{A}-\\overline{point}|*|\\overline{p}|*sin(\\alpha)=|(\\overline{A}-\\overline{point})\\times (\\overline{p})|$\n",
    "\n",
    "So\n",
    "\n",
    "$$\n",
    "d = \\dfrac{|(\\overline{A}-\\overline{point})\\times (\\overline{p})|}{|(\\overline{p})|}\n",
    "$$\n",
    "\n",
    "$\\overline{p}$ is `A` - `B`"
   ]
  },
  {
   "cell_type": "code",
   "execution_count": 55,
   "metadata": {},
   "outputs": [],
   "source": [
    "def norm(vec):\n",
    "    return sqrt(sum([i**2 for i in vec]))"
   ]
  },
  {
   "cell_type": "code",
   "execution_count": null,
   "metadata": {},
   "outputs": [],
   "source": [
    "def get_distance(point_a, point_b, point_x):\n",
    "    p = point_a - point_b\n",
    "    return norm(np.cross((point_a - point_x), p)) / norm(p)"
   ]
  },
  {
   "cell_type": "code",
   "execution_count": 68,
   "metadata": {},
   "outputs": [
    {
     "data": {
      "text/plain": [
       "'sqrt((-(a_x - b_x)*(a_y - y) + (a_x - x)*(a_y - b_y))**2 + ((a_x - b_x)*(a_z - z) - (a_x - x)*(a_z - b_z))**2 + (-(a_y - b_y)*(a_z - z) + (a_y - y)*(a_z - b_z))**2)/sqrt((a_x - b_x)**2 + (a_y - b_y)**2 + (a_z - b_z)**2)'"
      ]
     },
     "execution_count": 68,
     "metadata": {},
     "output_type": "execute_result"
    }
   ],
   "source": [
    "d1 = get_distance(a, b, point)\n",
    "str(d1)"
   ]
  },
  {
   "cell_type": "code",
   "execution_count": 70,
   "metadata": {},
   "outputs": [
    {
     "data": {
      "text/plain": [
       "'sqrt((-(c_x - d_x)*(c_y - y) + (c_x - x)*(c_y - d_y))**2 + ((c_x - d_x)*(c_z - z) - (c_x - x)*(c_z - d_z))**2 + (-(c_y - d_y)*(c_z - z) + (c_y - y)*(c_z - d_z))**2)/sqrt((c_x - d_x)**2 + (c_y - d_y)**2 + (c_z - d_z)**2)'"
      ]
     },
     "execution_count": 70,
     "metadata": {},
     "output_type": "execute_result"
    }
   ],
   "source": [
    "d2 = get_distance(c, d, point)\n",
    "str(d2)"
   ]
  },
  {
   "cell_type": "code",
   "execution_count": 59,
   "metadata": {},
   "outputs": [
    {
     "data": {
      "text/latex": [
       "$\\displaystyle - \\frac{\\sqrt{\\left(- \\left(c_{x} - d_{x}\\right) \\left(c_{y} - y\\right) + \\left(c_{x} - x\\right) \\left(c_{y} - d_{y}\\right)\\right)^{2} + \\left(\\left(c_{x} - d_{x}\\right) \\left(c_{z} - z\\right) - \\left(c_{x} - x\\right) \\left(c_{z} - d_{z}\\right)\\right)^{2} + \\left(- \\left(c_{y} - d_{y}\\right) \\left(c_{z} - z\\right) + \\left(c_{y} - y\\right) \\left(c_{z} - d_{z}\\right)\\right)^{2}}}{\\sqrt{\\left(c_{x} - d_{x}\\right)^{2} + \\left(c_{y} - d_{y}\\right)^{2} + \\left(c_{z} - d_{z}\\right)^{2}}} + \\frac{\\sqrt{\\left(- \\left(a_{x} - b_{x}\\right) \\left(a_{y} - y\\right) + \\left(a_{x} - x\\right) \\left(a_{y} - b_{y}\\right)\\right)^{2} + \\left(\\left(a_{x} - b_{x}\\right) \\left(a_{z} - z\\right) - \\left(a_{x} - x\\right) \\left(a_{z} - b_{z}\\right)\\right)^{2} + \\left(- \\left(a_{y} - b_{y}\\right) \\left(a_{z} - z\\right) + \\left(a_{y} - y\\right) \\left(a_{z} - b_{z}\\right)\\right)^{2}}}{\\sqrt{\\left(a_{x} - b_{x}\\right)^{2} + \\left(a_{y} - b_{y}\\right)^{2} + \\left(a_{z} - b_{z}\\right)^{2}}}$"
      ],
      "text/plain": [
       "-sqrt((-(c_x - d_x)*(c_y - y) + (c_x - x)*(c_y - d_y))**2 + ((c_x - d_x)*(c_z - z) - (c_x - x)*(c_z - d_z))**2 + (-(c_y - d_y)*(c_z - z) + (c_y - y)*(c_z - d_z))**2)/sqrt((c_x - d_x)**2 + (c_y - d_y)**2 + (c_z - d_z)**2) + sqrt((-(a_x - b_x)*(a_y - y) + (a_x - x)*(a_y - b_y))**2 + ((a_x - b_x)*(a_z - z) - (a_x - x)*(a_z - b_z))**2 + (-(a_y - b_y)*(a_z - z) + (a_y - y)*(a_z - b_z))**2)/sqrt((a_x - b_x)**2 + (a_y - b_y)**2 + (a_z - b_z)**2)"
      ]
     },
     "execution_count": 59,
     "metadata": {},
     "output_type": "execute_result"
    }
   ],
   "source": [
    "d1 - d2"
   ]
  },
  {
   "cell_type": "code",
   "execution_count": null,
   "metadata": {},
   "outputs": [
    {
     "ename": "KeyboardInterrupt",
     "evalue": "",
     "output_type": "error",
     "traceback": [
      "\u001b[0;31m---------------------------------------------------------------------------\u001b[0m",
      "\u001b[0;31mKeyboardInterrupt\u001b[0m                         Traceback (most recent call last)",
      "Cell \u001b[0;32mIn[71], line 1\u001b[0m\n\u001b[0;32m----> 1\u001b[0m \u001b[43msolve\u001b[49m\u001b[43m(\u001b[49m\u001b[43mEq\u001b[49m\u001b[43m(\u001b[49m\u001b[43md1\u001b[49m\u001b[38;5;241;43m-\u001b[39;49m\u001b[43md2\u001b[49m\u001b[43m,\u001b[49m\u001b[43m \u001b[49m\u001b[38;5;241;43m0\u001b[39;49m\u001b[43m)\u001b[49m\u001b[43m,\u001b[49m\u001b[43m \u001b[49m\u001b[43m(\u001b[49m\u001b[43mpoint\u001b[49m\u001b[43m[\u001b[49m\u001b[38;5;241;43m0\u001b[39;49m\u001b[43m]\u001b[49m\u001b[43m,\u001b[49m\u001b[43m \u001b[49m\u001b[43mpoint\u001b[49m\u001b[43m[\u001b[49m\u001b[38;5;241;43m1\u001b[39;49m\u001b[43m]\u001b[49m\u001b[43m,\u001b[49m\u001b[43m \u001b[49m\u001b[43mpoint\u001b[49m\u001b[43m[\u001b[49m\u001b[38;5;241;43m2\u001b[39;49m\u001b[43m]\u001b[49m\u001b[43m)\u001b[49m\u001b[43m)\u001b[49m\n",
      "File \u001b[0;32m/usr/lib/python3/dist-packages/sympy/solvers/solvers.py:1095\u001b[0m, in \u001b[0;36msolve\u001b[0;34m(f, *symbols, **flags)\u001b[0m\n\u001b[1;32m   1091\u001b[0m \u001b[38;5;66;03m#\u001b[39;00m\n\u001b[1;32m   1092\u001b[0m \u001b[38;5;66;03m# try to get a solution\u001b[39;00m\n\u001b[1;32m   1093\u001b[0m \u001b[38;5;66;03m###########################################################################\u001b[39;00m\n\u001b[1;32m   1094\u001b[0m \u001b[38;5;28;01mif\u001b[39;00m bare_f:\n\u001b[0;32m-> 1095\u001b[0m     solution \u001b[38;5;241m=\u001b[39m \u001b[43m_solve\u001b[49m\u001b[43m(\u001b[49m\u001b[43mf\u001b[49m\u001b[43m[\u001b[49m\u001b[38;5;241;43m0\u001b[39;49m\u001b[43m]\u001b[49m\u001b[43m,\u001b[49m\u001b[43m \u001b[49m\u001b[38;5;241;43m*\u001b[39;49m\u001b[43msymbols\u001b[49m\u001b[43m,\u001b[49m\u001b[43m \u001b[49m\u001b[38;5;241;43m*\u001b[39;49m\u001b[38;5;241;43m*\u001b[39;49m\u001b[43mflags\u001b[49m\u001b[43m)\u001b[49m\n\u001b[1;32m   1096\u001b[0m \u001b[38;5;28;01melse\u001b[39;00m:\n\u001b[1;32m   1097\u001b[0m     solution \u001b[38;5;241m=\u001b[39m _solve_system(f, symbols, \u001b[38;5;241m*\u001b[39m\u001b[38;5;241m*\u001b[39mflags)\n",
      "File \u001b[0;32m/usr/lib/python3/dist-packages/sympy/solvers/solvers.py:1353\u001b[0m, in \u001b[0;36m_solve\u001b[0;34m(f, *symbols, **flags)\u001b[0m\n\u001b[1;32m   1351\u001b[0m \u001b[38;5;28;01mfor\u001b[39;00m s \u001b[38;5;129;01min\u001b[39;00m failed:\n\u001b[1;32m   1352\u001b[0m     \u001b[38;5;28;01mtry\u001b[39;00m:\n\u001b[0;32m-> 1353\u001b[0m         soln \u001b[38;5;241m=\u001b[39m \u001b[43m_solve\u001b[49m\u001b[43m(\u001b[49m\u001b[43mf\u001b[49m\u001b[43m,\u001b[49m\u001b[43m \u001b[49m\u001b[43ms\u001b[49m\u001b[43m,\u001b[49m\u001b[43m \u001b[49m\u001b[38;5;241;43m*\u001b[39;49m\u001b[38;5;241;43m*\u001b[39;49m\u001b[43mflags\u001b[49m\u001b[43m)\u001b[49m\n\u001b[1;32m   1354\u001b[0m         \u001b[38;5;28;01mfor\u001b[39;00m sol \u001b[38;5;129;01min\u001b[39;00m soln:\n\u001b[1;32m   1355\u001b[0m             \u001b[38;5;28;01mif\u001b[39;00m got_s \u001b[38;5;129;01mand\u001b[39;00m \u001b[38;5;28many\u001b[39m([ss \u001b[38;5;129;01min\u001b[39;00m sol\u001b[38;5;241m.\u001b[39mfree_symbols \u001b[38;5;28;01mfor\u001b[39;00m ss \u001b[38;5;129;01min\u001b[39;00m got_s]):\n\u001b[1;32m   1356\u001b[0m                 \u001b[38;5;66;03m# sol depends on previously solved symbols: discard it\u001b[39;00m\n",
      "File \u001b[0;32m/usr/lib/python3/dist-packages/sympy/solvers/solvers.py:1726\u001b[0m, in \u001b[0;36m_solve\u001b[0;34m(f, *symbols, **flags)\u001b[0m\n\u001b[1;32m   1721\u001b[0m     result \u001b[38;5;241m=\u001b[39m [s \u001b[38;5;28;01mfor\u001b[39;00m s \u001b[38;5;129;01min\u001b[39;00m result \u001b[38;5;28;01mif\u001b[39;00m\n\u001b[1;32m   1722\u001b[0m               \u001b[38;5;28mall\u001b[39m(\u001b[38;5;129;01mnot\u001b[39;00m checksol(d, {symbol: s}, \u001b[38;5;241m*\u001b[39m\u001b[38;5;241m*\u001b[39mflags)\n\u001b[1;32m   1723\u001b[0m                 \u001b[38;5;28;01mfor\u001b[39;00m d \u001b[38;5;129;01min\u001b[39;00m dens)]\n\u001b[1;32m   1724\u001b[0m \u001b[38;5;28;01mif\u001b[39;00m check:\n\u001b[1;32m   1725\u001b[0m     \u001b[38;5;66;03m# keep only results if the check is not False\u001b[39;00m\n\u001b[0;32m-> 1726\u001b[0m     result \u001b[38;5;241m=\u001b[39m [r \u001b[38;5;28;01mfor\u001b[39;00m r \u001b[38;5;129;01min\u001b[39;00m result \u001b[38;5;28;01mif\u001b[39;00m\n\u001b[1;32m   1727\u001b[0m               checksol(f_num, {symbol: r}, \u001b[38;5;241m*\u001b[39m\u001b[38;5;241m*\u001b[39mflags) \u001b[38;5;129;01mis\u001b[39;00m \u001b[38;5;129;01mnot\u001b[39;00m \u001b[38;5;28;01mFalse\u001b[39;00m]\n\u001b[1;32m   1728\u001b[0m \u001b[38;5;28;01mreturn\u001b[39;00m result\n",
      "File \u001b[0;32m/usr/lib/python3/dist-packages/sympy/solvers/solvers.py:1727\u001b[0m, in \u001b[0;36m<listcomp>\u001b[0;34m(.0)\u001b[0m\n\u001b[1;32m   1721\u001b[0m     result \u001b[38;5;241m=\u001b[39m [s \u001b[38;5;28;01mfor\u001b[39;00m s \u001b[38;5;129;01min\u001b[39;00m result \u001b[38;5;28;01mif\u001b[39;00m\n\u001b[1;32m   1722\u001b[0m               \u001b[38;5;28mall\u001b[39m(\u001b[38;5;129;01mnot\u001b[39;00m checksol(d, {symbol: s}, \u001b[38;5;241m*\u001b[39m\u001b[38;5;241m*\u001b[39mflags)\n\u001b[1;32m   1723\u001b[0m                 \u001b[38;5;28;01mfor\u001b[39;00m d \u001b[38;5;129;01min\u001b[39;00m dens)]\n\u001b[1;32m   1724\u001b[0m \u001b[38;5;28;01mif\u001b[39;00m check:\n\u001b[1;32m   1725\u001b[0m     \u001b[38;5;66;03m# keep only results if the check is not False\u001b[39;00m\n\u001b[1;32m   1726\u001b[0m     result \u001b[38;5;241m=\u001b[39m [r \u001b[38;5;28;01mfor\u001b[39;00m r \u001b[38;5;129;01min\u001b[39;00m result \u001b[38;5;28;01mif\u001b[39;00m\n\u001b[0;32m-> 1727\u001b[0m               \u001b[43mchecksol\u001b[49m\u001b[43m(\u001b[49m\u001b[43mf_num\u001b[49m\u001b[43m,\u001b[49m\u001b[43m \u001b[49m\u001b[43m{\u001b[49m\u001b[43msymbol\u001b[49m\u001b[43m:\u001b[49m\u001b[43m \u001b[49m\u001b[43mr\u001b[49m\u001b[43m}\u001b[49m\u001b[43m,\u001b[49m\u001b[43m \u001b[49m\u001b[38;5;241;43m*\u001b[39;49m\u001b[38;5;241;43m*\u001b[39;49m\u001b[43mflags\u001b[49m\u001b[43m)\u001b[49m \u001b[38;5;129;01mis\u001b[39;00m \u001b[38;5;129;01mnot\u001b[39;00m \u001b[38;5;28;01mFalse\u001b[39;00m]\n\u001b[1;32m   1728\u001b[0m \u001b[38;5;28;01mreturn\u001b[39;00m result\n",
      "File \u001b[0;32m/usr/lib/python3/dist-packages/sympy/solvers/solvers.py:308\u001b[0m, in \u001b[0;36mchecksol\u001b[0;34m(f, symbol, sol, **flags)\u001b[0m\n\u001b[1;32m    306\u001b[0m         \u001b[38;5;66;03m# there are free symbols -- simple expansion might work\u001b[39;00m\n\u001b[1;32m    307\u001b[0m         _, val \u001b[38;5;241m=\u001b[39m val\u001b[38;5;241m.\u001b[39mas_content_primitive()\n\u001b[0;32m--> 308\u001b[0m         val \u001b[38;5;241m=\u001b[39m \u001b[43m_mexpand\u001b[49m\u001b[43m(\u001b[49m\u001b[43mval\u001b[49m\u001b[38;5;241;43m.\u001b[39;49m\u001b[43mas_numer_denom\u001b[49m\u001b[43m(\u001b[49m\u001b[43m)\u001b[49m\u001b[43m[\u001b[49m\u001b[38;5;241;43m0\u001b[39;49m\u001b[43m]\u001b[49m\u001b[43m,\u001b[49m\u001b[43m \u001b[49m\u001b[43mrecursive\u001b[49m\u001b[38;5;241;43m=\u001b[39;49m\u001b[38;5;28;43;01mTrue\u001b[39;49;00m\u001b[43m)\u001b[49m\n\u001b[1;32m    309\u001b[0m \u001b[38;5;28;01melif\u001b[39;00m attempt \u001b[38;5;241m==\u001b[39m \u001b[38;5;241m2\u001b[39m:\n\u001b[1;32m    310\u001b[0m     \u001b[38;5;28;01mif\u001b[39;00m minimal:\n",
      "File \u001b[0;32m/usr/lib/python3/dist-packages/sympy/core/function.py:2837\u001b[0m, in \u001b[0;36m_mexpand\u001b[0;34m(expr, recursive)\u001b[0m\n\u001b[1;32m   2835\u001b[0m was \u001b[38;5;241m=\u001b[39m \u001b[38;5;28;01mNone\u001b[39;00m\n\u001b[1;32m   2836\u001b[0m \u001b[38;5;28;01mwhile\u001b[39;00m was \u001b[38;5;241m!=\u001b[39m expr:\n\u001b[0;32m-> 2837\u001b[0m     was, expr \u001b[38;5;241m=\u001b[39m expr, \u001b[43mexpand_mul\u001b[49m\u001b[43m(\u001b[49m\u001b[43mexpand_multinomial\u001b[49m\u001b[43m(\u001b[49m\u001b[43mexpr\u001b[49m\u001b[43m)\u001b[49m\u001b[43m)\u001b[49m\n\u001b[1;32m   2838\u001b[0m     \u001b[38;5;28;01mif\u001b[39;00m \u001b[38;5;129;01mnot\u001b[39;00m recursive:\n\u001b[1;32m   2839\u001b[0m         \u001b[38;5;28;01mbreak\u001b[39;00m\n",
      "File \u001b[0;32m/usr/lib/python3/dist-packages/sympy/core/function.py:2860\u001b[0m, in \u001b[0;36mexpand_mul\u001b[0;34m(expr, deep)\u001b[0m\n\u001b[1;32m   2846\u001b[0m \u001b[38;5;28;01mdef\u001b[39;00m \u001b[38;5;21mexpand_mul\u001b[39m(expr, deep\u001b[38;5;241m=\u001b[39m\u001b[38;5;28;01mTrue\u001b[39;00m):\n\u001b[1;32m   2847\u001b[0m     \u001b[38;5;124;03m\"\"\"\u001b[39;00m\n\u001b[1;32m   2848\u001b[0m \u001b[38;5;124;03m    Wrapper around expand that only uses the mul hint.  See the expand\u001b[39;00m\n\u001b[1;32m   2849\u001b[0m \u001b[38;5;124;03m    docstring for more information.\u001b[39;00m\n\u001b[0;32m   (...)\u001b[0m\n\u001b[1;32m   2858\u001b[0m \n\u001b[1;32m   2859\u001b[0m \u001b[38;5;124;03m    \"\"\"\u001b[39;00m\n\u001b[0;32m-> 2860\u001b[0m     \u001b[38;5;28;01mreturn\u001b[39;00m \u001b[43msympify\u001b[49m\u001b[43m(\u001b[49m\u001b[43mexpr\u001b[49m\u001b[43m)\u001b[49m\u001b[38;5;241;43m.\u001b[39;49m\u001b[43mexpand\u001b[49m\u001b[43m(\u001b[49m\u001b[43mdeep\u001b[49m\u001b[38;5;241;43m=\u001b[39;49m\u001b[43mdeep\u001b[49m\u001b[43m,\u001b[49m\u001b[43m \u001b[49m\u001b[43mmul\u001b[49m\u001b[38;5;241;43m=\u001b[39;49m\u001b[38;5;28;43;01mTrue\u001b[39;49;00m\u001b[43m,\u001b[49m\u001b[43m \u001b[49m\u001b[43mpower_exp\u001b[49m\u001b[38;5;241;43m=\u001b[39;49m\u001b[38;5;28;43;01mFalse\u001b[39;49;00m\u001b[43m,\u001b[49m\n\u001b[1;32m   2861\u001b[0m \u001b[43m    \u001b[49m\u001b[43mpower_base\u001b[49m\u001b[38;5;241;43m=\u001b[39;49m\u001b[38;5;28;43;01mFalse\u001b[39;49;00m\u001b[43m,\u001b[49m\u001b[43m \u001b[49m\u001b[43mbasic\u001b[49m\u001b[38;5;241;43m=\u001b[39;49m\u001b[38;5;28;43;01mFalse\u001b[39;49;00m\u001b[43m,\u001b[49m\u001b[43m \u001b[49m\u001b[43mmultinomial\u001b[49m\u001b[38;5;241;43m=\u001b[39;49m\u001b[38;5;28;43;01mFalse\u001b[39;49;00m\u001b[43m,\u001b[49m\u001b[43m \u001b[49m\u001b[43mlog\u001b[49m\u001b[38;5;241;43m=\u001b[39;49m\u001b[38;5;28;43;01mFalse\u001b[39;49;00m\u001b[43m)\u001b[49m\n",
      "File \u001b[0;32m/usr/lib/python3/dist-packages/sympy/core/cache.py:72\u001b[0m, in \u001b[0;36m__cacheit.<locals>.func_wrapper.<locals>.wrapper\u001b[0;34m(*args, **kwargs)\u001b[0m\n\u001b[1;32m     69\u001b[0m \u001b[38;5;129m@wraps\u001b[39m(func)\n\u001b[1;32m     70\u001b[0m \u001b[38;5;28;01mdef\u001b[39;00m \u001b[38;5;21mwrapper\u001b[39m(\u001b[38;5;241m*\u001b[39margs, \u001b[38;5;241m*\u001b[39m\u001b[38;5;241m*\u001b[39mkwargs):\n\u001b[1;32m     71\u001b[0m     \u001b[38;5;28;01mtry\u001b[39;00m:\n\u001b[0;32m---> 72\u001b[0m         retval \u001b[38;5;241m=\u001b[39m \u001b[43mcfunc\u001b[49m\u001b[43m(\u001b[49m\u001b[38;5;241;43m*\u001b[39;49m\u001b[43margs\u001b[49m\u001b[43m,\u001b[49m\u001b[43m \u001b[49m\u001b[38;5;241;43m*\u001b[39;49m\u001b[38;5;241;43m*\u001b[39;49m\u001b[43mkwargs\u001b[49m\u001b[43m)\u001b[49m\n\u001b[1;32m     73\u001b[0m     \u001b[38;5;28;01mexcept\u001b[39;00m \u001b[38;5;167;01mTypeError\u001b[39;00m \u001b[38;5;28;01mas\u001b[39;00m e:\n\u001b[1;32m     74\u001b[0m         \u001b[38;5;28;01mif\u001b[39;00m \u001b[38;5;129;01mnot\u001b[39;00m e\u001b[38;5;241m.\u001b[39margs \u001b[38;5;129;01mor\u001b[39;00m \u001b[38;5;129;01mnot\u001b[39;00m e\u001b[38;5;241m.\u001b[39margs[\u001b[38;5;241m0\u001b[39m]\u001b[38;5;241m.\u001b[39mstartswith(\u001b[38;5;124m'\u001b[39m\u001b[38;5;124munhashable type:\u001b[39m\u001b[38;5;124m'\u001b[39m):\n",
      "File \u001b[0;32m/usr/lib/python3/dist-packages/sympy/core/expr.py:3622\u001b[0m, in \u001b[0;36mExpr.expand\u001b[0;34m(self, deep, modulus, power_base, power_exp, mul, log, multinomial, basic, **hints)\u001b[0m\n\u001b[1;32m   3620\u001b[0m     \u001b[38;5;28;01mif\u001b[39;00m use_hint:\n\u001b[1;32m   3621\u001b[0m         hint \u001b[38;5;241m=\u001b[39m \u001b[38;5;124m'\u001b[39m\u001b[38;5;124m_eval_expand_\u001b[39m\u001b[38;5;124m'\u001b[39m \u001b[38;5;241m+\u001b[39m hint\n\u001b[0;32m-> 3622\u001b[0m         expr, hit \u001b[38;5;241m=\u001b[39m \u001b[43mExpr\u001b[49m\u001b[38;5;241;43m.\u001b[39;49m\u001b[43m_expand_hint\u001b[49m\u001b[43m(\u001b[49m\u001b[43mexpr\u001b[49m\u001b[43m,\u001b[49m\u001b[43m \u001b[49m\u001b[43mhint\u001b[49m\u001b[43m,\u001b[49m\u001b[43m \u001b[49m\u001b[43mdeep\u001b[49m\u001b[38;5;241;43m=\u001b[39;49m\u001b[43mdeep\u001b[49m\u001b[43m,\u001b[49m\u001b[43m \u001b[49m\u001b[38;5;241;43m*\u001b[39;49m\u001b[38;5;241;43m*\u001b[39;49m\u001b[43mhints\u001b[49m\u001b[43m)\u001b[49m\n\u001b[1;32m   3624\u001b[0m \u001b[38;5;28;01mwhile\u001b[39;00m \u001b[38;5;28;01mTrue\u001b[39;00m:\n\u001b[1;32m   3625\u001b[0m     was \u001b[38;5;241m=\u001b[39m expr\n",
      "File \u001b[0;32m/usr/lib/python3/dist-packages/sympy/core/expr.py:3555\u001b[0m, in \u001b[0;36mExpr._expand_hint\u001b[0;34m(expr, hint, deep, **hints)\u001b[0m\n\u001b[1;32m   3553\u001b[0m sargs \u001b[38;5;241m=\u001b[39m []\n\u001b[1;32m   3554\u001b[0m \u001b[38;5;28;01mfor\u001b[39;00m arg \u001b[38;5;129;01min\u001b[39;00m expr\u001b[38;5;241m.\u001b[39margs:\n\u001b[0;32m-> 3555\u001b[0m     arg, arghit \u001b[38;5;241m=\u001b[39m \u001b[43mExpr\u001b[49m\u001b[38;5;241;43m.\u001b[39;49m\u001b[43m_expand_hint\u001b[49m\u001b[43m(\u001b[49m\u001b[43marg\u001b[49m\u001b[43m,\u001b[49m\u001b[43m \u001b[49m\u001b[43mhint\u001b[49m\u001b[43m,\u001b[49m\u001b[43m \u001b[49m\u001b[38;5;241;43m*\u001b[39;49m\u001b[38;5;241;43m*\u001b[39;49m\u001b[43mhints\u001b[49m\u001b[43m)\u001b[49m\n\u001b[1;32m   3556\u001b[0m     hit \u001b[38;5;241m|\u001b[39m\u001b[38;5;241m=\u001b[39m arghit\n\u001b[1;32m   3557\u001b[0m     sargs\u001b[38;5;241m.\u001b[39mappend(arg)\n",
      "File \u001b[0;32m/usr/lib/python3/dist-packages/sympy/core/expr.py:3555\u001b[0m, in \u001b[0;36mExpr._expand_hint\u001b[0;34m(expr, hint, deep, **hints)\u001b[0m\n\u001b[1;32m   3553\u001b[0m sargs \u001b[38;5;241m=\u001b[39m []\n\u001b[1;32m   3554\u001b[0m \u001b[38;5;28;01mfor\u001b[39;00m arg \u001b[38;5;129;01min\u001b[39;00m expr\u001b[38;5;241m.\u001b[39margs:\n\u001b[0;32m-> 3555\u001b[0m     arg, arghit \u001b[38;5;241m=\u001b[39m \u001b[43mExpr\u001b[49m\u001b[38;5;241;43m.\u001b[39;49m\u001b[43m_expand_hint\u001b[49m\u001b[43m(\u001b[49m\u001b[43marg\u001b[49m\u001b[43m,\u001b[49m\u001b[43m \u001b[49m\u001b[43mhint\u001b[49m\u001b[43m,\u001b[49m\u001b[43m \u001b[49m\u001b[38;5;241;43m*\u001b[39;49m\u001b[38;5;241;43m*\u001b[39;49m\u001b[43mhints\u001b[49m\u001b[43m)\u001b[49m\n\u001b[1;32m   3556\u001b[0m     hit \u001b[38;5;241m|\u001b[39m\u001b[38;5;241m=\u001b[39m arghit\n\u001b[1;32m   3557\u001b[0m     sargs\u001b[38;5;241m.\u001b[39mappend(arg)\n",
      "    \u001b[0;31m[... skipping similar frames: Expr._expand_hint at line 3555 (7 times)]\u001b[0m\n",
      "File \u001b[0;32m/usr/lib/python3/dist-packages/sympy/core/expr.py:3555\u001b[0m, in \u001b[0;36mExpr._expand_hint\u001b[0;34m(expr, hint, deep, **hints)\u001b[0m\n\u001b[1;32m   3553\u001b[0m sargs \u001b[38;5;241m=\u001b[39m []\n\u001b[1;32m   3554\u001b[0m \u001b[38;5;28;01mfor\u001b[39;00m arg \u001b[38;5;129;01min\u001b[39;00m expr\u001b[38;5;241m.\u001b[39margs:\n\u001b[0;32m-> 3555\u001b[0m     arg, arghit \u001b[38;5;241m=\u001b[39m \u001b[43mExpr\u001b[49m\u001b[38;5;241;43m.\u001b[39;49m\u001b[43m_expand_hint\u001b[49m\u001b[43m(\u001b[49m\u001b[43marg\u001b[49m\u001b[43m,\u001b[49m\u001b[43m \u001b[49m\u001b[43mhint\u001b[49m\u001b[43m,\u001b[49m\u001b[43m \u001b[49m\u001b[38;5;241;43m*\u001b[39;49m\u001b[38;5;241;43m*\u001b[39;49m\u001b[43mhints\u001b[49m\u001b[43m)\u001b[49m\n\u001b[1;32m   3556\u001b[0m     hit \u001b[38;5;241m|\u001b[39m\u001b[38;5;241m=\u001b[39m arghit\n\u001b[1;32m   3557\u001b[0m     sargs\u001b[38;5;241m.\u001b[39mappend(arg)\n",
      "File \u001b[0;32m/usr/lib/python3/dist-packages/sympy/core/expr.py:3563\u001b[0m, in \u001b[0;36mExpr._expand_hint\u001b[0;34m(expr, hint, deep, **hints)\u001b[0m\n\u001b[1;32m   3560\u001b[0m         expr \u001b[38;5;241m=\u001b[39m expr\u001b[38;5;241m.\u001b[39mfunc(\u001b[38;5;241m*\u001b[39msargs)\n\u001b[1;32m   3562\u001b[0m \u001b[38;5;28;01mif\u001b[39;00m \u001b[38;5;28mhasattr\u001b[39m(expr, hint):\n\u001b[0;32m-> 3563\u001b[0m     newexpr \u001b[38;5;241m=\u001b[39m \u001b[38;5;28;43mgetattr\u001b[39;49m\u001b[43m(\u001b[49m\u001b[43mexpr\u001b[49m\u001b[43m,\u001b[49m\u001b[43m \u001b[49m\u001b[43mhint\u001b[49m\u001b[43m)\u001b[49m\u001b[43m(\u001b[49m\u001b[38;5;241;43m*\u001b[39;49m\u001b[38;5;241;43m*\u001b[39;49m\u001b[43mhints\u001b[49m\u001b[43m)\u001b[49m\n\u001b[1;32m   3564\u001b[0m     \u001b[38;5;28;01mif\u001b[39;00m newexpr \u001b[38;5;241m!=\u001b[39m expr:\n\u001b[1;32m   3565\u001b[0m         \u001b[38;5;28;01mreturn\u001b[39;00m (newexpr, \u001b[38;5;28;01mTrue\u001b[39;00m)\n",
      "File \u001b[0;32m/usr/lib/python3/dist-packages/sympy/core/mul.py:961\u001b[0m, in \u001b[0;36mMul._eval_expand_mul\u001b[0;34m(self, **hints)\u001b[0m\n\u001b[1;32m    959\u001b[0m \u001b[38;5;28;01mif\u001b[39;00m sums:\n\u001b[1;32m    960\u001b[0m     deep \u001b[38;5;241m=\u001b[39m hints\u001b[38;5;241m.\u001b[39mget(\u001b[38;5;124m\"\u001b[39m\u001b[38;5;124mdeep\u001b[39m\u001b[38;5;124m\"\u001b[39m, \u001b[38;5;28;01mFalse\u001b[39;00m)\n\u001b[0;32m--> 961\u001b[0m     terms \u001b[38;5;241m=\u001b[39m \u001b[38;5;28;43mself\u001b[39;49m\u001b[38;5;241;43m.\u001b[39;49m\u001b[43mfunc\u001b[49m\u001b[38;5;241;43m.\u001b[39;49m\u001b[43m_expandsums\u001b[49m\u001b[43m(\u001b[49m\u001b[43msums\u001b[49m\u001b[43m)\u001b[49m\n\u001b[1;32m    962\u001b[0m     args \u001b[38;5;241m=\u001b[39m []\n\u001b[1;32m    963\u001b[0m     \u001b[38;5;28;01mfor\u001b[39;00m term \u001b[38;5;129;01min\u001b[39;00m terms:\n",
      "File \u001b[0;32m/usr/lib/python3/dist-packages/sympy/core/mul.py:926\u001b[0m, in \u001b[0;36mMul._expandsums\u001b[0;34m(sums)\u001b[0m\n\u001b[1;32m    923\u001b[0m left \u001b[38;5;241m=\u001b[39m Mul\u001b[38;5;241m.\u001b[39m_expandsums(sums[:L\u001b[38;5;241m/\u001b[39m\u001b[38;5;241m/\u001b[39m\u001b[38;5;241m2\u001b[39m])\n\u001b[1;32m    924\u001b[0m right \u001b[38;5;241m=\u001b[39m Mul\u001b[38;5;241m.\u001b[39m_expandsums(sums[L\u001b[38;5;241m/\u001b[39m\u001b[38;5;241m/\u001b[39m\u001b[38;5;241m2\u001b[39m:])\n\u001b[0;32m--> 926\u001b[0m terms \u001b[38;5;241m=\u001b[39m [Mul(a, b) \u001b[38;5;28;01mfor\u001b[39;00m a \u001b[38;5;129;01min\u001b[39;00m left \u001b[38;5;28;01mfor\u001b[39;00m b \u001b[38;5;129;01min\u001b[39;00m right]\n\u001b[1;32m    927\u001b[0m added \u001b[38;5;241m=\u001b[39m Add(\u001b[38;5;241m*\u001b[39mterms)\n\u001b[1;32m    928\u001b[0m \u001b[38;5;28;01mreturn\u001b[39;00m Add\u001b[38;5;241m.\u001b[39mmake_args(added)\n",
      "File \u001b[0;32m/usr/lib/python3/dist-packages/sympy/core/mul.py:926\u001b[0m, in \u001b[0;36m<listcomp>\u001b[0;34m(.0)\u001b[0m\n\u001b[1;32m    923\u001b[0m left \u001b[38;5;241m=\u001b[39m Mul\u001b[38;5;241m.\u001b[39m_expandsums(sums[:L\u001b[38;5;241m/\u001b[39m\u001b[38;5;241m/\u001b[39m\u001b[38;5;241m2\u001b[39m])\n\u001b[1;32m    924\u001b[0m right \u001b[38;5;241m=\u001b[39m Mul\u001b[38;5;241m.\u001b[39m_expandsums(sums[L\u001b[38;5;241m/\u001b[39m\u001b[38;5;241m/\u001b[39m\u001b[38;5;241m2\u001b[39m:])\n\u001b[0;32m--> 926\u001b[0m terms \u001b[38;5;241m=\u001b[39m [\u001b[43mMul\u001b[49m\u001b[43m(\u001b[49m\u001b[43ma\u001b[49m\u001b[43m,\u001b[49m\u001b[43m \u001b[49m\u001b[43mb\u001b[49m\u001b[43m)\u001b[49m \u001b[38;5;28;01mfor\u001b[39;00m a \u001b[38;5;129;01min\u001b[39;00m left \u001b[38;5;28;01mfor\u001b[39;00m b \u001b[38;5;129;01min\u001b[39;00m right]\n\u001b[1;32m    927\u001b[0m added \u001b[38;5;241m=\u001b[39m Add(\u001b[38;5;241m*\u001b[39mterms)\n\u001b[1;32m    928\u001b[0m \u001b[38;5;28;01mreturn\u001b[39;00m Add\u001b[38;5;241m.\u001b[39mmake_args(added)\n",
      "File \u001b[0;32m/usr/lib/python3/dist-packages/sympy/core/cache.py:72\u001b[0m, in \u001b[0;36m__cacheit.<locals>.func_wrapper.<locals>.wrapper\u001b[0;34m(*args, **kwargs)\u001b[0m\n\u001b[1;32m     69\u001b[0m \u001b[38;5;129m@wraps\u001b[39m(func)\n\u001b[1;32m     70\u001b[0m \u001b[38;5;28;01mdef\u001b[39;00m \u001b[38;5;21mwrapper\u001b[39m(\u001b[38;5;241m*\u001b[39margs, \u001b[38;5;241m*\u001b[39m\u001b[38;5;241m*\u001b[39mkwargs):\n\u001b[1;32m     71\u001b[0m     \u001b[38;5;28;01mtry\u001b[39;00m:\n\u001b[0;32m---> 72\u001b[0m         retval \u001b[38;5;241m=\u001b[39m \u001b[43mcfunc\u001b[49m\u001b[43m(\u001b[49m\u001b[38;5;241;43m*\u001b[39;49m\u001b[43margs\u001b[49m\u001b[43m,\u001b[49m\u001b[43m \u001b[49m\u001b[38;5;241;43m*\u001b[39;49m\u001b[38;5;241;43m*\u001b[39;49m\u001b[43mkwargs\u001b[49m\u001b[43m)\u001b[49m\n\u001b[1;32m     73\u001b[0m     \u001b[38;5;28;01mexcept\u001b[39;00m \u001b[38;5;167;01mTypeError\u001b[39;00m \u001b[38;5;28;01mas\u001b[39;00m e:\n\u001b[1;32m     74\u001b[0m         \u001b[38;5;28;01mif\u001b[39;00m \u001b[38;5;129;01mnot\u001b[39;00m e\u001b[38;5;241m.\u001b[39margs \u001b[38;5;129;01mor\u001b[39;00m \u001b[38;5;129;01mnot\u001b[39;00m e\u001b[38;5;241m.\u001b[39margs[\u001b[38;5;241m0\u001b[39m]\u001b[38;5;241m.\u001b[39mstartswith(\u001b[38;5;124m'\u001b[39m\u001b[38;5;124munhashable type:\u001b[39m\u001b[38;5;124m'\u001b[39m):\n",
      "File \u001b[0;32m/usr/lib/python3/dist-packages/sympy/core/operations.py:85\u001b[0m, in \u001b[0;36mAssocOp.__new__\u001b[0;34m(cls, evaluate, _sympify, *args)\u001b[0m\n\u001b[1;32m     82\u001b[0m \u001b[38;5;28;01mif\u001b[39;00m \u001b[38;5;28mlen\u001b[39m(args) \u001b[38;5;241m==\u001b[39m \u001b[38;5;241m1\u001b[39m:\n\u001b[1;32m     83\u001b[0m     \u001b[38;5;28;01mreturn\u001b[39;00m args[\u001b[38;5;241m0\u001b[39m]\n\u001b[0;32m---> 85\u001b[0m c_part, nc_part, order_symbols \u001b[38;5;241m=\u001b[39m \u001b[38;5;28;43mcls\u001b[39;49m\u001b[38;5;241;43m.\u001b[39;49m\u001b[43mflatten\u001b[49m\u001b[43m(\u001b[49m\u001b[43margs\u001b[49m\u001b[43m)\u001b[49m\n\u001b[1;32m     86\u001b[0m is_commutative \u001b[38;5;241m=\u001b[39m \u001b[38;5;129;01mnot\u001b[39;00m nc_part\n\u001b[1;32m     87\u001b[0m obj \u001b[38;5;241m=\u001b[39m \u001b[38;5;28mcls\u001b[39m\u001b[38;5;241m.\u001b[39m_from_args(c_part \u001b[38;5;241m+\u001b[39m nc_part, is_commutative)\n",
      "File \u001b[0;32m/usr/lib/python3/dist-packages/sympy/core/mul.py:521\u001b[0m, in \u001b[0;36mMul.flatten\u001b[0;34m(cls, seq)\u001b[0m\n\u001b[1;32m    519\u001b[0m         bi \u001b[38;5;241m=\u001b[39m b\n\u001b[1;32m    520\u001b[0m         b, e \u001b[38;5;241m=\u001b[39m p\u001b[38;5;241m.\u001b[39mas_base_exp()\n\u001b[0;32m--> 521\u001b[0m         \u001b[38;5;28;01mif\u001b[39;00m \u001b[43mb\u001b[49m\u001b[43m \u001b[49m\u001b[38;5;241;43m!=\u001b[39;49m\u001b[43m \u001b[49m\u001b[43mbi\u001b[49m:\n\u001b[1;32m    522\u001b[0m             changed \u001b[38;5;241m=\u001b[39m \u001b[38;5;28;01mTrue\u001b[39;00m\n\u001b[1;32m    523\u001b[0m c_part\u001b[38;5;241m.\u001b[39mappend(p)\n",
      "File \u001b[0;32m/usr/lib/python3/dist-packages/sympy/core/basic.py:368\u001b[0m, in \u001b[0;36mBasic.__ne__\u001b[0;34m(self, other)\u001b[0m\n\u001b[1;32m    359\u001b[0m \u001b[38;5;28;01mdef\u001b[39;00m \u001b[38;5;21m__ne__\u001b[39m(\u001b[38;5;28mself\u001b[39m, other):\n\u001b[1;32m    360\u001b[0m     \u001b[38;5;124;03m\"\"\"``a != b``  -> Compare two symbolic trees and see whether they are different\u001b[39;00m\n\u001b[1;32m    361\u001b[0m \n\u001b[1;32m    362\u001b[0m \u001b[38;5;124;03m    this is the same as:\u001b[39;00m\n\u001b[0;32m   (...)\u001b[0m\n\u001b[1;32m    366\u001b[0m \u001b[38;5;124;03m    but faster\u001b[39;00m\n\u001b[1;32m    367\u001b[0m \u001b[38;5;124;03m    \"\"\"\u001b[39;00m\n\u001b[0;32m--> 368\u001b[0m     \u001b[38;5;28;01mreturn\u001b[39;00m \u001b[38;5;129;01mnot\u001b[39;00m \u001b[38;5;28;43mself\u001b[39;49m\u001b[43m \u001b[49m\u001b[38;5;241;43m==\u001b[39;49m\u001b[43m \u001b[49m\u001b[43mother\u001b[49m\n",
      "File \u001b[0;32m/usr/lib/python3/dist-packages/sympy/core/expr.py:155\u001b[0m, in \u001b[0;36mExpr.__eq__\u001b[0;34m(self, other)\u001b[0m\n\u001b[1;32m    152\u001b[0m \u001b[38;5;28;01mif\u001b[39;00m  \u001b[38;5;129;01mnot\u001b[39;00m (\u001b[38;5;28mself\u001b[39m\u001b[38;5;241m.\u001b[39mis_Number \u001b[38;5;129;01mand\u001b[39;00m other\u001b[38;5;241m.\u001b[39mis_Number) \u001b[38;5;129;01mand\u001b[39;00m (\n\u001b[1;32m    153\u001b[0m         \u001b[38;5;28mtype\u001b[39m(\u001b[38;5;28mself\u001b[39m) \u001b[38;5;241m!=\u001b[39m \u001b[38;5;28mtype\u001b[39m(other)):\n\u001b[1;32m    154\u001b[0m     \u001b[38;5;28;01mreturn\u001b[39;00m \u001b[38;5;28;01mFalse\u001b[39;00m\n\u001b[0;32m--> 155\u001b[0m a, b \u001b[38;5;241m=\u001b[39m \u001b[38;5;28mself\u001b[39m\u001b[38;5;241m.\u001b[39m_hashable_content(), \u001b[43mother\u001b[49m\u001b[38;5;241;43m.\u001b[39;49m\u001b[43m_hashable_content\u001b[49m\u001b[43m(\u001b[49m\u001b[43m)\u001b[49m\n\u001b[1;32m    156\u001b[0m \u001b[38;5;28;01mif\u001b[39;00m a \u001b[38;5;241m!=\u001b[39m b:\n\u001b[1;32m    157\u001b[0m     \u001b[38;5;28;01mreturn\u001b[39;00m \u001b[38;5;28;01mFalse\u001b[39;00m\n",
      "File \u001b[0;32m/usr/lib/python3/dist-packages/sympy/core/symbol.py:308\u001b[0m, in \u001b[0;36mSymbol._hashable_content\u001b[0;34m(self)\u001b[0m\n\u001b[1;32m    306\u001b[0m \u001b[38;5;28;01mdef\u001b[39;00m \u001b[38;5;21m_hashable_content\u001b[39m(\u001b[38;5;28mself\u001b[39m):\n\u001b[1;32m    307\u001b[0m     \u001b[38;5;66;03m# Note: user-specified assumptions not hashed, just derived ones\u001b[39;00m\n\u001b[0;32m--> 308\u001b[0m     \u001b[38;5;28;01mreturn\u001b[39;00m (\u001b[38;5;28mself\u001b[39m\u001b[38;5;241m.\u001b[39mname,) \u001b[38;5;241m+\u001b[39m \u001b[38;5;28mtuple\u001b[39m(\u001b[38;5;28msorted\u001b[39m(\u001b[38;5;28;43mself\u001b[39;49m\u001b[38;5;241;43m.\u001b[39;49m\u001b[43massumptions0\u001b[49m\u001b[38;5;241m.\u001b[39mitems()))\n",
      "File \u001b[0;32m/usr/lib/python3/dist-packages/sympy/core/symbol.py:320\u001b[0m, in \u001b[0;36mSymbol.assumptions0\u001b[0;34m(self)\u001b[0m\n\u001b[1;32m    318\u001b[0m \u001b[38;5;129m@property\u001b[39m\n\u001b[1;32m    319\u001b[0m \u001b[38;5;28;01mdef\u001b[39;00m \u001b[38;5;21massumptions0\u001b[39m(\u001b[38;5;28mself\u001b[39m):\n\u001b[0;32m--> 320\u001b[0m     \u001b[38;5;28;01mreturn\u001b[39;00m {key: value \u001b[38;5;28;01mfor\u001b[39;00m key, value\n\u001b[1;32m    321\u001b[0m             \u001b[38;5;129;01min\u001b[39;00m \u001b[38;5;28mself\u001b[39m\u001b[38;5;241m.\u001b[39m_assumptions\u001b[38;5;241m.\u001b[39mitems() \u001b[38;5;28;01mif\u001b[39;00m value \u001b[38;5;129;01mis\u001b[39;00m \u001b[38;5;129;01mnot\u001b[39;00m \u001b[38;5;28;01mNone\u001b[39;00m}\n",
      "File \u001b[0;32m/usr/lib/python3/dist-packages/sympy/core/symbol.py:321\u001b[0m, in \u001b[0;36m<dictcomp>\u001b[0;34m(.0)\u001b[0m\n\u001b[1;32m    318\u001b[0m \u001b[38;5;129m@property\u001b[39m\n\u001b[1;32m    319\u001b[0m \u001b[38;5;28;01mdef\u001b[39;00m \u001b[38;5;21massumptions0\u001b[39m(\u001b[38;5;28mself\u001b[39m):\n\u001b[1;32m    320\u001b[0m     \u001b[38;5;28;01mreturn\u001b[39;00m {key: value \u001b[38;5;28;01mfor\u001b[39;00m key, value\n\u001b[0;32m--> 321\u001b[0m             \u001b[38;5;129;01min\u001b[39;00m \u001b[38;5;28mself\u001b[39m\u001b[38;5;241m.\u001b[39m_assumptions\u001b[38;5;241m.\u001b[39mitems() \u001b[38;5;28;01mif\u001b[39;00m value \u001b[38;5;129;01mis\u001b[39;00m \u001b[38;5;129;01mnot\u001b[39;00m \u001b[38;5;28;01mNone\u001b[39;00m}\n",
      "\u001b[0;31mKeyboardInterrupt\u001b[0m: "
     ]
    }
   ],
   "source": [
    "solve(Eq(d1 - d2, 0), (point[0], point[1], point[2]))"
   ]
  },
  {
   "cell_type": "markdown",
   "metadata": {},
   "source": [
    "# Use vectors"
   ]
  },
  {
   "cell_type": "code",
   "execution_count": 24,
   "metadata": {},
   "outputs": [],
   "source": [
    "h = get_coordinates(\"h\")\n",
    "_h = ijk_to_vec(h)\n",
    "\n",
    "t1, t2 = symbols(\"t_1 t_2\")"
   ]
  },
  {
   "cell_type": "code",
   "execution_count": 304,
   "metadata": {},
   "outputs": [],
   "source": [
    "ab = a - b\n",
    "cd = c - d\n",
    "\n",
    "p1 = a + (a - b) * t1\n",
    "p2 = d + (d - c) * t2"
   ]
  },
  {
   "cell_type": "markdown",
   "metadata": {},
   "source": [
    "## vec H || [AB, CD]"
   ]
  },
  {
   "cell_type": "code",
   "execution_count": 306,
   "metadata": {},
   "outputs": [
    {
     "name": "stdout",
     "output_type": "stream",
     "text": [
      "System\n"
     ]
    },
    {
     "data": {
      "text/latex": [
       "$\\displaystyle h_{y} \\left(\\left(a_{x} - b_{x}\\right) \\left(c_{y} - d_{y}\\right) - \\left(a_{y} - b_{y}\\right) \\left(c_{x} - d_{x}\\right)\\right) - h_{z} \\left(- \\left(a_{x} - b_{x}\\right) \\left(c_{z} - d_{z}\\right) + \\left(a_{z} - b_{z}\\right) \\left(c_{x} - d_{x}\\right)\\right) = 0$"
      ],
      "text/plain": [
       "Eq(h_y*((a_x - b_x)*(c_y - d_y) - (a_y - b_y)*(c_x - d_x)) - h_z*(-(a_x - b_x)*(c_z - d_z) + (a_z - b_z)*(c_x - d_x)), 0)"
      ]
     },
     "metadata": {},
     "output_type": "display_data"
    },
    {
     "data": {
      "text/latex": [
       "$\\displaystyle - h_{x} \\left(\\left(a_{x} - b_{x}\\right) \\left(c_{y} - d_{y}\\right) - \\left(a_{y} - b_{y}\\right) \\left(c_{x} - d_{x}\\right)\\right) + h_{z} \\left(\\left(a_{y} - b_{y}\\right) \\left(c_{z} - d_{z}\\right) - \\left(a_{z} - b_{z}\\right) \\left(c_{y} - d_{y}\\right)\\right) = 0$"
      ],
      "text/plain": [
       "Eq(-h_x*((a_x - b_x)*(c_y - d_y) - (a_y - b_y)*(c_x - d_x)) + h_z*((a_y - b_y)*(c_z - d_z) - (a_z - b_z)*(c_y - d_y)), 0)"
      ]
     },
     "metadata": {},
     "output_type": "display_data"
    },
    {
     "data": {
      "text/latex": [
       "$\\displaystyle h_{x} \\left(- \\left(a_{x} - b_{x}\\right) \\left(c_{z} - d_{z}\\right) + \\left(a_{z} - b_{z}\\right) \\left(c_{x} - d_{x}\\right)\\right) - h_{y} \\left(\\left(a_{y} - b_{y}\\right) \\left(c_{z} - d_{z}\\right) - \\left(a_{z} - b_{z}\\right) \\left(c_{y} - d_{y}\\right)\\right) = 0$"
      ],
      "text/plain": [
       "Eq(h_x*(-(a_x - b_x)*(c_z - d_z) + (a_z - b_z)*(c_x - d_x)) - h_y*((a_y - b_y)*(c_z - d_z) - (a_z - b_z)*(c_y - d_y)), 0)"
      ]
     },
     "metadata": {},
     "output_type": "display_data"
    }
   ],
   "source": [
    "eq1 = vec_to_ijk(np.cross(ijk_to_vec(h), np.cross(ijk_to_vec(ab), ijk_to_vec(cd))))\n",
    "\n",
    "eqs1 = [ijk_to_vec(eq1)[i] for i in range(3)]\n",
    "\n",
    "print(\"System\")\n",
    "for eq in eqs1:\n",
    "    display(Eq(eq, 0))"
   ]
  },
  {
   "cell_type": "code",
   "execution_count": 307,
   "metadata": {},
   "outputs": [],
   "source": [
    "def str_to_eq(s):\n",
    "    s = '(' + s.replace(\" \", \"\") + ')'\n",
    "    return re.sub(\"_(\\w)\", r\"_{\\1}\", s)"
   ]
  },
  {
   "cell_type": "code",
   "execution_count": 308,
   "metadata": {},
   "outputs": [
    {
     "name": "stdout",
     "output_type": "stream",
     "text": [
      "System\n"
     ]
    },
    {
     "data": {
      "text/latex": [
       "$\\displaystyle ((a_{x}-b_{x})*(c_{y}-d_{y})-(a_{y}-b_{y})*(c_{x}-d_{x})) h_{y} + ((a_{x}-b_{x})*(c_{z}-d_{z})-(a_{z}-b_{z})*(c_{x}-d_{x})) h_{z} = 0$"
      ],
      "text/plain": [
       "Eq(((a_{x}-b_{x})*(c_{y}-d_{y})-(a_{y}-b_{y})*(c_{x}-d_{x}))*h_y + ((a_{x}-b_{x})*(c_{z}-d_{z})-(a_{z}-b_{z})*(c_{x}-d_{x}))*h_z, 0)"
      ]
     },
     "metadata": {},
     "output_type": "display_data"
    },
    {
     "data": {
      "text/latex": [
       "$\\displaystyle ((a_{y}-b_{y})*(c_{z}-d_{z})-(a_{z}-b_{z})*(c_{y}-d_{y})) h_{z} + (-(a_{x}-b_{x})*(c_{y}-d_{y})+(a_{y}-b_{y})*(c_{x}-d_{x})) h_{x} = 0$"
      ],
      "text/plain": [
       "Eq(((a_{y}-b_{y})*(c_{z}-d_{z})-(a_{z}-b_{z})*(c_{y}-d_{y}))*h_z + (-(a_{x}-b_{x})*(c_{y}-d_{y})+(a_{y}-b_{y})*(c_{x}-d_{x}))*h_x, 0)"
      ]
     },
     "metadata": {},
     "output_type": "display_data"
    },
    {
     "data": {
      "text/latex": [
       "$\\displaystyle (-(a_{x}-b_{x})*(c_{z}-d_{z})+(a_{z}-b_{z})*(c_{x}-d_{x})) h_{x} + (-(a_{y}-b_{y})*(c_{z}-d_{z})+(a_{z}-b_{z})*(c_{y}-d_{y})) h_{y} = 0$"
      ],
      "text/plain": [
       "Eq((-(a_{x}-b_{x})*(c_{z}-d_{z})+(a_{z}-b_{z})*(c_{x}-d_{x}))*h_x + (-(a_{y}-b_{y})*(c_{z}-d_{z})+(a_{z}-b_{z})*(c_{y}-d_{y}))*h_y, 0)"
      ]
     },
     "metadata": {},
     "output_type": "display_data"
    }
   ],
   "source": [
    "koef_matrix = list()\n",
    "\n",
    "for eq in eqs1:\n",
    "    koef_matrix.append([0] * 3)\n",
    "\n",
    "    for i in range(3):\n",
    "        tmp = eq.subs({_h[j]: int(j == i) for j in range(3)})\n",
    "        if tmp == 0:\n",
    "            koef_matrix[-1][i] = 0\n",
    "            continue\n",
    "        \n",
    "        koef_matrix[-1][i] = symbols(\n",
    "            str_to_eq(str(tmp))\n",
    "        )\n",
    "koef_matrix = np.array(koef_matrix)\n",
    "\n",
    "eqs1 = list()\n",
    "for row in koef_matrix:\n",
    "    eqs1.append(row.dot(_h))\n",
    "\n",
    "eqs1 = np.array(eqs1)\n",
    "print(\"System\")\n",
    "for eq in eqs1:\n",
    "    display(Eq(eq, 0))"
   ]
  },
  {
   "cell_type": "code",
   "execution_count": 309,
   "metadata": {},
   "outputs": [],
   "source": [
    "eqs2 = [ijk_to_vec(p2 - p1 - h)[i] for i in range(3)]"
   ]
  },
  {
   "cell_type": "code",
   "execution_count": 310,
   "metadata": {},
   "outputs": [
    {
     "name": "stdout",
     "output_type": "stream",
     "text": [
      "System\n"
     ]
    },
    {
     "data": {
      "text/latex": [
       "$\\displaystyle ((a_{x}-b_{x})*(c_{y}-d_{y})-(a_{y}-b_{y})*(c_{x}-d_{x})) h_{y} + ((a_{x}-b_{x})*(c_{z}-d_{z})-(a_{z}-b_{z})*(c_{x}-d_{x})) h_{z}$"
      ],
      "text/plain": [
       "((a_{x}-b_{x})*(c_{y}-d_{y})-(a_{y}-b_{y})*(c_{x}-d_{x}))*h_y + ((a_{x}-b_{x})*(c_{z}-d_{z})-(a_{z}-b_{z})*(c_{x}-d_{x}))*h_z"
      ]
     },
     "metadata": {},
     "output_type": "display_data"
    },
    {
     "data": {
      "text/latex": [
       "$\\displaystyle ((a_{y}-b_{y})*(c_{z}-d_{z})-(a_{z}-b_{z})*(c_{y}-d_{y})) h_{z} + (-(a_{x}-b_{x})*(c_{y}-d_{y})+(a_{y}-b_{y})*(c_{x}-d_{x})) h_{x}$"
      ],
      "text/plain": [
       "((a_{y}-b_{y})*(c_{z}-d_{z})-(a_{z}-b_{z})*(c_{y}-d_{y}))*h_z + (-(a_{x}-b_{x})*(c_{y}-d_{y})+(a_{y}-b_{y})*(c_{x}-d_{x}))*h_x"
      ]
     },
     "metadata": {},
     "output_type": "display_data"
    },
    {
     "data": {
      "text/latex": [
       "$\\displaystyle (-(a_{x}-b_{x})*(c_{z}-d_{z})+(a_{z}-b_{z})*(c_{x}-d_{x})) h_{x} + (-(a_{y}-b_{y})*(c_{z}-d_{z})+(a_{z}-b_{z})*(c_{y}-d_{y})) h_{y}$"
      ],
      "text/plain": [
       "(-(a_{x}-b_{x})*(c_{z}-d_{z})+(a_{z}-b_{z})*(c_{x}-d_{x}))*h_x + (-(a_{y}-b_{y})*(c_{z}-d_{z})+(a_{z}-b_{z})*(c_{y}-d_{y}))*h_y"
      ]
     },
     "metadata": {},
     "output_type": "display_data"
    },
    {
     "data": {
      "text/latex": [
       "$\\displaystyle - a_{x} i + d_{x} i - h_{x} i - t_{1} \\left(a_{x} i - b_{x} i\\right) + t_{2} \\left(- c_{x} i + d_{x} i\\right)$"
      ],
      "text/plain": [
       "-a_x*i + d_x*i - h_x*i - t_1*(a_x*i - b_x*i) + t_2*(-c_x*i + d_x*i)"
      ]
     },
     "metadata": {},
     "output_type": "display_data"
    },
    {
     "data": {
      "text/latex": [
       "$\\displaystyle - a_{x} i - a_{y} + d_{x} i + d_{y} - h_{x} i - h_{y} - t_{1} \\left(a_{x} i + a_{y} - b_{x} i - b_{y}\\right) + t_{2} \\left(- c_{x} i - c_{y} + d_{x} i + d_{y}\\right)$"
      ],
      "text/plain": [
       "-a_x*i - a_y + d_x*i + d_y - h_x*i - h_y - t_1*(a_x*i + a_y - b_x*i - b_y) + t_2*(-c_x*i - c_y + d_x*i + d_y)"
      ]
     },
     "metadata": {},
     "output_type": "display_data"
    },
    {
     "data": {
      "text/latex": [
       "$\\displaystyle - a_{x} i - a_{z} + d_{x} i + d_{z} - h_{x} i - h_{z} - t_{1} \\left(a_{x} i + a_{z} - b_{x} i - b_{z}\\right) + t_{2} \\left(- c_{x} i - c_{z} + d_{x} i + d_{z}\\right)$"
      ],
      "text/plain": [
       "-a_x*i - a_z + d_x*i + d_z - h_x*i - h_z - t_1*(a_x*i + a_z - b_x*i - b_z) + t_2*(-c_x*i - c_z + d_x*i + d_z)"
      ]
     },
     "metadata": {},
     "output_type": "display_data"
    }
   ],
   "source": [
    "eqs = list(eqs1) + list(eqs2)\n",
    "\n",
    "print(\"System\")\n",
    "for eq in eqs:\n",
    "    display(eq)"
   ]
  },
  {
   "cell_type": "code",
   "execution_count": 312,
   "metadata": {},
   "outputs": [
    {
     "data": {
      "text/plain": [
       "{h_x: (((a_{y}-b_{y})*(c_{z}-d_{z})-(a_{z}-b_{z})*(c_{y}-d_{y}))*(-(a_{y}-b_{y})*(c_{z}-d_{z})+(a_{z}-b_{z})*(c_{y}-d_{y}))*a_x*b_y*c_z - ((a_{y}-b_{y})*(c_{z}-d_{z})-(a_{z}-b_{z})*(c_{y}-d_{y}))*(-(a_{y}-b_{y})*(c_{z}-d_{z})+(a_{z}-b_{z})*(c_{y}-d_{y}))*a_x*b_y*d_z - ((a_{y}-b_{y})*(c_{z}-d_{z})-(a_{z}-b_{z})*(c_{y}-d_{y}))*(-(a_{y}-b_{y})*(c_{z}-d_{z})+(a_{z}-b_{z})*(c_{y}-d_{y}))*a_x*b_z*c_y + ((a_{y}-b_{y})*(c_{z}-d_{z})-(a_{z}-b_{z})*(c_{y}-d_{y}))*(-(a_{y}-b_{y})*(c_{z}-d_{z})+(a_{z}-b_{z})*(c_{y}-d_{y}))*a_x*b_z*d_y + ((a_{y}-b_{y})*(c_{z}-d_{z})-(a_{z}-b_{z})*(c_{y}-d_{y}))*(-(a_{y}-b_{y})*(c_{z}-d_{z})+(a_{z}-b_{z})*(c_{y}-d_{y}))*a_x*c_y*d_z - ((a_{y}-b_{y})*(c_{z}-d_{z})-(a_{z}-b_{z})*(c_{y}-d_{y}))*(-(a_{y}-b_{y})*(c_{z}-d_{z})+(a_{z}-b_{z})*(c_{y}-d_{y}))*a_x*c_z*d_y - ((a_{y}-b_{y})*(c_{z}-d_{z})-(a_{z}-b_{z})*(c_{y}-d_{y}))*(-(a_{y}-b_{y})*(c_{z}-d_{z})+(a_{z}-b_{z})*(c_{y}-d_{y}))*a_y*b_x*c_z + ((a_{y}-b_{y})*(c_{z}-d_{z})-(a_{z}-b_{z})*(c_{y}-d_{y}))*(-(a_{y}-b_{y})*(c_{z}-d_{z})+(a_{z}-b_{z})*(c_{y}-d_{y}))*a_y*b_x*d_z + ((a_{y}-b_{y})*(c_{z}-d_{z})-(a_{z}-b_{z})*(c_{y}-d_{y}))*(-(a_{y}-b_{y})*(c_{z}-d_{z})+(a_{z}-b_{z})*(c_{y}-d_{y}))*a_y*b_z*c_x - ((a_{y}-b_{y})*(c_{z}-d_{z})-(a_{z}-b_{z})*(c_{y}-d_{y}))*(-(a_{y}-b_{y})*(c_{z}-d_{z})+(a_{z}-b_{z})*(c_{y}-d_{y}))*a_y*b_z*d_x - ((a_{y}-b_{y})*(c_{z}-d_{z})-(a_{z}-b_{z})*(c_{y}-d_{y}))*(-(a_{y}-b_{y})*(c_{z}-d_{z})+(a_{z}-b_{z})*(c_{y}-d_{y}))*a_y*c_x*d_z + ((a_{y}-b_{y})*(c_{z}-d_{z})-(a_{z}-b_{z})*(c_{y}-d_{y}))*(-(a_{y}-b_{y})*(c_{z}-d_{z})+(a_{z}-b_{z})*(c_{y}-d_{y}))*a_y*c_z*d_x + ((a_{y}-b_{y})*(c_{z}-d_{z})-(a_{z}-b_{z})*(c_{y}-d_{y}))*(-(a_{y}-b_{y})*(c_{z}-d_{z})+(a_{z}-b_{z})*(c_{y}-d_{y}))*a_z*b_x*c_y - ((a_{y}-b_{y})*(c_{z}-d_{z})-(a_{z}-b_{z})*(c_{y}-d_{y}))*(-(a_{y}-b_{y})*(c_{z}-d_{z})+(a_{z}-b_{z})*(c_{y}-d_{y}))*a_z*b_x*d_y - ((a_{y}-b_{y})*(c_{z}-d_{z})-(a_{z}-b_{z})*(c_{y}-d_{y}))*(-(a_{y}-b_{y})*(c_{z}-d_{z})+(a_{z}-b_{z})*(c_{y}-d_{y}))*a_z*b_y*c_x + ((a_{y}-b_{y})*(c_{z}-d_{z})-(a_{z}-b_{z})*(c_{y}-d_{y}))*(-(a_{y}-b_{y})*(c_{z}-d_{z})+(a_{z}-b_{z})*(c_{y}-d_{y}))*a_z*b_y*d_x + ((a_{y}-b_{y})*(c_{z}-d_{z})-(a_{z}-b_{z})*(c_{y}-d_{y}))*(-(a_{y}-b_{y})*(c_{z}-d_{z})+(a_{z}-b_{z})*(c_{y}-d_{y}))*a_z*c_x*d_y - ((a_{y}-b_{y})*(c_{z}-d_{z})-(a_{z}-b_{z})*(c_{y}-d_{y}))*(-(a_{y}-b_{y})*(c_{z}-d_{z})+(a_{z}-b_{z})*(c_{y}-d_{y}))*a_z*c_y*d_x - ((a_{y}-b_{y})*(c_{z}-d_{z})-(a_{z}-b_{z})*(c_{y}-d_{y}))*(-(a_{y}-b_{y})*(c_{z}-d_{z})+(a_{z}-b_{z})*(c_{y}-d_{y}))*b_x*c_y*d_z + ((a_{y}-b_{y})*(c_{z}-d_{z})-(a_{z}-b_{z})*(c_{y}-d_{y}))*(-(a_{y}-b_{y})*(c_{z}-d_{z})+(a_{z}-b_{z})*(c_{y}-d_{y}))*b_x*c_z*d_y + ((a_{y}-b_{y})*(c_{z}-d_{z})-(a_{z}-b_{z})*(c_{y}-d_{y}))*(-(a_{y}-b_{y})*(c_{z}-d_{z})+(a_{z}-b_{z})*(c_{y}-d_{y}))*b_y*c_x*d_z - ((a_{y}-b_{y})*(c_{z}-d_{z})-(a_{z}-b_{z})*(c_{y}-d_{y}))*(-(a_{y}-b_{y})*(c_{z}-d_{z})+(a_{z}-b_{z})*(c_{y}-d_{y}))*b_y*c_z*d_x - ((a_{y}-b_{y})*(c_{z}-d_{z})-(a_{z}-b_{z})*(c_{y}-d_{y}))*(-(a_{y}-b_{y})*(c_{z}-d_{z})+(a_{z}-b_{z})*(c_{y}-d_{y}))*b_z*c_x*d_y + ((a_{y}-b_{y})*(c_{z}-d_{z})-(a_{z}-b_{z})*(c_{y}-d_{y}))*(-(a_{y}-b_{y})*(c_{z}-d_{z})+(a_{z}-b_{z})*(c_{y}-d_{y}))*b_z*c_y*d_x)/(((a_{y}-b_{y})*(c_{z}-d_{z})-(a_{z}-b_{z})*(c_{y}-d_{y}))*(-(a_{x}-b_{x})*(c_{z}-d_{z})+(a_{z}-b_{z})*(c_{x}-d_{x}))*a_x*c_z - ((a_{y}-b_{y})*(c_{z}-d_{z})-(a_{z}-b_{z})*(c_{y}-d_{y}))*(-(a_{x}-b_{x})*(c_{z}-d_{z})+(a_{z}-b_{z})*(c_{x}-d_{x}))*a_x*d_z - ((a_{y}-b_{y})*(c_{z}-d_{z})-(a_{z}-b_{z})*(c_{y}-d_{y}))*(-(a_{x}-b_{x})*(c_{z}-d_{z})+(a_{z}-b_{z})*(c_{x}-d_{x}))*a_z*c_x + ((a_{y}-b_{y})*(c_{z}-d_{z})-(a_{z}-b_{z})*(c_{y}-d_{y}))*(-(a_{x}-b_{x})*(c_{z}-d_{z})+(a_{z}-b_{z})*(c_{x}-d_{x}))*a_z*d_x - ((a_{y}-b_{y})*(c_{z}-d_{z})-(a_{z}-b_{z})*(c_{y}-d_{y}))*(-(a_{x}-b_{x})*(c_{z}-d_{z})+(a_{z}-b_{z})*(c_{x}-d_{x}))*b_x*c_z + ((a_{y}-b_{y})*(c_{z}-d_{z})-(a_{z}-b_{z})*(c_{y}-d_{y}))*(-(a_{x}-b_{x})*(c_{z}-d_{z})+(a_{z}-b_{z})*(c_{x}-d_{x}))*b_x*d_z + ((a_{y}-b_{y})*(c_{z}-d_{z})-(a_{z}-b_{z})*(c_{y}-d_{y}))*(-(a_{x}-b_{x})*(c_{z}-d_{z})+(a_{z}-b_{z})*(c_{x}-d_{x}))*b_z*c_x - ((a_{y}-b_{y})*(c_{z}-d_{z})-(a_{z}-b_{z})*(c_{y}-d_{y}))*(-(a_{x}-b_{x})*(c_{z}-d_{z})+(a_{z}-b_{z})*(c_{x}-d_{x}))*b_z*d_x + ((a_{y}-b_{y})*(c_{z}-d_{z})-(a_{z}-b_{z})*(c_{y}-d_{y}))*(-(a_{y}-b_{y})*(c_{z}-d_{z})+(a_{z}-b_{z})*(c_{y}-d_{y}))*a_y*c_z - ((a_{y}-b_{y})*(c_{z}-d_{z})-(a_{z}-b_{z})*(c_{y}-d_{y}))*(-(a_{y}-b_{y})*(c_{z}-d_{z})+(a_{z}-b_{z})*(c_{y}-d_{y}))*a_y*d_z - ((a_{y}-b_{y})*(c_{z}-d_{z})-(a_{z}-b_{z})*(c_{y}-d_{y}))*(-(a_{y}-b_{y})*(c_{z}-d_{z})+(a_{z}-b_{z})*(c_{y}-d_{y}))*a_z*c_y + ((a_{y}-b_{y})*(c_{z}-d_{z})-(a_{z}-b_{z})*(c_{y}-d_{y}))*(-(a_{y}-b_{y})*(c_{z}-d_{z})+(a_{z}-b_{z})*(c_{y}-d_{y}))*a_z*d_y - ((a_{y}-b_{y})*(c_{z}-d_{z})-(a_{z}-b_{z})*(c_{y}-d_{y}))*(-(a_{y}-b_{y})*(c_{z}-d_{z})+(a_{z}-b_{z})*(c_{y}-d_{y}))*b_y*c_z + ((a_{y}-b_{y})*(c_{z}-d_{z})-(a_{z}-b_{z})*(c_{y}-d_{y}))*(-(a_{y}-b_{y})*(c_{z}-d_{z})+(a_{z}-b_{z})*(c_{y}-d_{y}))*b_y*d_z + ((a_{y}-b_{y})*(c_{z}-d_{z})-(a_{z}-b_{z})*(c_{y}-d_{y}))*(-(a_{y}-b_{y})*(c_{z}-d_{z})+(a_{z}-b_{z})*(c_{y}-d_{y}))*b_z*c_y - ((a_{y}-b_{y})*(c_{z}-d_{z})-(a_{z}-b_{z})*(c_{y}-d_{y}))*(-(a_{y}-b_{y})*(c_{z}-d_{z})+(a_{z}-b_{z})*(c_{y}-d_{y}))*b_z*d_y - (-(a_{x}-b_{x})*(c_{y}-d_{y})+(a_{y}-b_{y})*(c_{x}-d_{x}))*(-(a_{y}-b_{y})*(c_{z}-d_{z})+(a_{z}-b_{z})*(c_{y}-d_{y}))*a_x*c_y + (-(a_{x}-b_{x})*(c_{y}-d_{y})+(a_{y}-b_{y})*(c_{x}-d_{x}))*(-(a_{y}-b_{y})*(c_{z}-d_{z})+(a_{z}-b_{z})*(c_{y}-d_{y}))*a_x*d_y + (-(a_{x}-b_{x})*(c_{y}-d_{y})+(a_{y}-b_{y})*(c_{x}-d_{x}))*(-(a_{y}-b_{y})*(c_{z}-d_{z})+(a_{z}-b_{z})*(c_{y}-d_{y}))*a_y*c_x - (-(a_{x}-b_{x})*(c_{y}-d_{y})+(a_{y}-b_{y})*(c_{x}-d_{x}))*(-(a_{y}-b_{y})*(c_{z}-d_{z})+(a_{z}-b_{z})*(c_{y}-d_{y}))*a_y*d_x + (-(a_{x}-b_{x})*(c_{y}-d_{y})+(a_{y}-b_{y})*(c_{x}-d_{x}))*(-(a_{y}-b_{y})*(c_{z}-d_{z})+(a_{z}-b_{z})*(c_{y}-d_{y}))*b_x*c_y - (-(a_{x}-b_{x})*(c_{y}-d_{y})+(a_{y}-b_{y})*(c_{x}-d_{x}))*(-(a_{y}-b_{y})*(c_{z}-d_{z})+(a_{z}-b_{z})*(c_{y}-d_{y}))*b_x*d_y - (-(a_{x}-b_{x})*(c_{y}-d_{y})+(a_{y}-b_{y})*(c_{x}-d_{x}))*(-(a_{y}-b_{y})*(c_{z}-d_{z})+(a_{z}-b_{z})*(c_{y}-d_{y}))*b_y*c_x + (-(a_{x}-b_{x})*(c_{y}-d_{y})+(a_{y}-b_{y})*(c_{x}-d_{x}))*(-(a_{y}-b_{y})*(c_{z}-d_{z})+(a_{z}-b_{z})*(c_{y}-d_{y}))*b_y*d_x),\n",
       " h_y: (-((a_{y}-b_{y})*(c_{z}-d_{z})-(a_{z}-b_{z})*(c_{y}-d_{y}))*(-(a_{x}-b_{x})*(c_{z}-d_{z})+(a_{z}-b_{z})*(c_{x}-d_{x}))*a_x*b_y*c_z + ((a_{y}-b_{y})*(c_{z}-d_{z})-(a_{z}-b_{z})*(c_{y}-d_{y}))*(-(a_{x}-b_{x})*(c_{z}-d_{z})+(a_{z}-b_{z})*(c_{x}-d_{x}))*a_x*b_y*d_z + ((a_{y}-b_{y})*(c_{z}-d_{z})-(a_{z}-b_{z})*(c_{y}-d_{y}))*(-(a_{x}-b_{x})*(c_{z}-d_{z})+(a_{z}-b_{z})*(c_{x}-d_{x}))*a_x*b_z*c_y - ((a_{y}-b_{y})*(c_{z}-d_{z})-(a_{z}-b_{z})*(c_{y}-d_{y}))*(-(a_{x}-b_{x})*(c_{z}-d_{z})+(a_{z}-b_{z})*(c_{x}-d_{x}))*a_x*b_z*d_y - ((a_{y}-b_{y})*(c_{z}-d_{z})-(a_{z}-b_{z})*(c_{y}-d_{y}))*(-(a_{x}-b_{x})*(c_{z}-d_{z})+(a_{z}-b_{z})*(c_{x}-d_{x}))*a_x*c_y*d_z + ((a_{y}-b_{y})*(c_{z}-d_{z})-(a_{z}-b_{z})*(c_{y}-d_{y}))*(-(a_{x}-b_{x})*(c_{z}-d_{z})+(a_{z}-b_{z})*(c_{x}-d_{x}))*a_x*c_z*d_y + ((a_{y}-b_{y})*(c_{z}-d_{z})-(a_{z}-b_{z})*(c_{y}-d_{y}))*(-(a_{x}-b_{x})*(c_{z}-d_{z})+(a_{z}-b_{z})*(c_{x}-d_{x}))*a_y*b_x*c_z - ((a_{y}-b_{y})*(c_{z}-d_{z})-(a_{z}-b_{z})*(c_{y}-d_{y}))*(-(a_{x}-b_{x})*(c_{z}-d_{z})+(a_{z}-b_{z})*(c_{x}-d_{x}))*a_y*b_x*d_z - ((a_{y}-b_{y})*(c_{z}-d_{z})-(a_{z}-b_{z})*(c_{y}-d_{y}))*(-(a_{x}-b_{x})*(c_{z}-d_{z})+(a_{z}-b_{z})*(c_{x}-d_{x}))*a_y*b_z*c_x + ((a_{y}-b_{y})*(c_{z}-d_{z})-(a_{z}-b_{z})*(c_{y}-d_{y}))*(-(a_{x}-b_{x})*(c_{z}-d_{z})+(a_{z}-b_{z})*(c_{x}-d_{x}))*a_y*b_z*d_x + ((a_{y}-b_{y})*(c_{z}-d_{z})-(a_{z}-b_{z})*(c_{y}-d_{y}))*(-(a_{x}-b_{x})*(c_{z}-d_{z})+(a_{z}-b_{z})*(c_{x}-d_{x}))*a_y*c_x*d_z - ((a_{y}-b_{y})*(c_{z}-d_{z})-(a_{z}-b_{z})*(c_{y}-d_{y}))*(-(a_{x}-b_{x})*(c_{z}-d_{z})+(a_{z}-b_{z})*(c_{x}-d_{x}))*a_y*c_z*d_x - ((a_{y}-b_{y})*(c_{z}-d_{z})-(a_{z}-b_{z})*(c_{y}-d_{y}))*(-(a_{x}-b_{x})*(c_{z}-d_{z})+(a_{z}-b_{z})*(c_{x}-d_{x}))*a_z*b_x*c_y + ((a_{y}-b_{y})*(c_{z}-d_{z})-(a_{z}-b_{z})*(c_{y}-d_{y}))*(-(a_{x}-b_{x})*(c_{z}-d_{z})+(a_{z}-b_{z})*(c_{x}-d_{x}))*a_z*b_x*d_y + ((a_{y}-b_{y})*(c_{z}-d_{z})-(a_{z}-b_{z})*(c_{y}-d_{y}))*(-(a_{x}-b_{x})*(c_{z}-d_{z})+(a_{z}-b_{z})*(c_{x}-d_{x}))*a_z*b_y*c_x - ((a_{y}-b_{y})*(c_{z}-d_{z})-(a_{z}-b_{z})*(c_{y}-d_{y}))*(-(a_{x}-b_{x})*(c_{z}-d_{z})+(a_{z}-b_{z})*(c_{x}-d_{x}))*a_z*b_y*d_x - ((a_{y}-b_{y})*(c_{z}-d_{z})-(a_{z}-b_{z})*(c_{y}-d_{y}))*(-(a_{x}-b_{x})*(c_{z}-d_{z})+(a_{z}-b_{z})*(c_{x}-d_{x}))*a_z*c_x*d_y + ((a_{y}-b_{y})*(c_{z}-d_{z})-(a_{z}-b_{z})*(c_{y}-d_{y}))*(-(a_{x}-b_{x})*(c_{z}-d_{z})+(a_{z}-b_{z})*(c_{x}-d_{x}))*a_z*c_y*d_x + ((a_{y}-b_{y})*(c_{z}-d_{z})-(a_{z}-b_{z})*(c_{y}-d_{y}))*(-(a_{x}-b_{x})*(c_{z}-d_{z})+(a_{z}-b_{z})*(c_{x}-d_{x}))*b_x*c_y*d_z - ((a_{y}-b_{y})*(c_{z}-d_{z})-(a_{z}-b_{z})*(c_{y}-d_{y}))*(-(a_{x}-b_{x})*(c_{z}-d_{z})+(a_{z}-b_{z})*(c_{x}-d_{x}))*b_x*c_z*d_y - ((a_{y}-b_{y})*(c_{z}-d_{z})-(a_{z}-b_{z})*(c_{y}-d_{y}))*(-(a_{x}-b_{x})*(c_{z}-d_{z})+(a_{z}-b_{z})*(c_{x}-d_{x}))*b_y*c_x*d_z + ((a_{y}-b_{y})*(c_{z}-d_{z})-(a_{z}-b_{z})*(c_{y}-d_{y}))*(-(a_{x}-b_{x})*(c_{z}-d_{z})+(a_{z}-b_{z})*(c_{x}-d_{x}))*b_y*c_z*d_x + ((a_{y}-b_{y})*(c_{z}-d_{z})-(a_{z}-b_{z})*(c_{y}-d_{y}))*(-(a_{x}-b_{x})*(c_{z}-d_{z})+(a_{z}-b_{z})*(c_{x}-d_{x}))*b_z*c_x*d_y - ((a_{y}-b_{y})*(c_{z}-d_{z})-(a_{z}-b_{z})*(c_{y}-d_{y}))*(-(a_{x}-b_{x})*(c_{z}-d_{z})+(a_{z}-b_{z})*(c_{x}-d_{x}))*b_z*c_y*d_x)/(((a_{y}-b_{y})*(c_{z}-d_{z})-(a_{z}-b_{z})*(c_{y}-d_{y}))*(-(a_{x}-b_{x})*(c_{z}-d_{z})+(a_{z}-b_{z})*(c_{x}-d_{x}))*a_x*c_z - ((a_{y}-b_{y})*(c_{z}-d_{z})-(a_{z}-b_{z})*(c_{y}-d_{y}))*(-(a_{x}-b_{x})*(c_{z}-d_{z})+(a_{z}-b_{z})*(c_{x}-d_{x}))*a_x*d_z - ((a_{y}-b_{y})*(c_{z}-d_{z})-(a_{z}-b_{z})*(c_{y}-d_{y}))*(-(a_{x}-b_{x})*(c_{z}-d_{z})+(a_{z}-b_{z})*(c_{x}-d_{x}))*a_z*c_x + ((a_{y}-b_{y})*(c_{z}-d_{z})-(a_{z}-b_{z})*(c_{y}-d_{y}))*(-(a_{x}-b_{x})*(c_{z}-d_{z})+(a_{z}-b_{z})*(c_{x}-d_{x}))*a_z*d_x - ((a_{y}-b_{y})*(c_{z}-d_{z})-(a_{z}-b_{z})*(c_{y}-d_{y}))*(-(a_{x}-b_{x})*(c_{z}-d_{z})+(a_{z}-b_{z})*(c_{x}-d_{x}))*b_x*c_z + ((a_{y}-b_{y})*(c_{z}-d_{z})-(a_{z}-b_{z})*(c_{y}-d_{y}))*(-(a_{x}-b_{x})*(c_{z}-d_{z})+(a_{z}-b_{z})*(c_{x}-d_{x}))*b_x*d_z + ((a_{y}-b_{y})*(c_{z}-d_{z})-(a_{z}-b_{z})*(c_{y}-d_{y}))*(-(a_{x}-b_{x})*(c_{z}-d_{z})+(a_{z}-b_{z})*(c_{x}-d_{x}))*b_z*c_x - ((a_{y}-b_{y})*(c_{z}-d_{z})-(a_{z}-b_{z})*(c_{y}-d_{y}))*(-(a_{x}-b_{x})*(c_{z}-d_{z})+(a_{z}-b_{z})*(c_{x}-d_{x}))*b_z*d_x + ((a_{y}-b_{y})*(c_{z}-d_{z})-(a_{z}-b_{z})*(c_{y}-d_{y}))*(-(a_{y}-b_{y})*(c_{z}-d_{z})+(a_{z}-b_{z})*(c_{y}-d_{y}))*a_y*c_z - ((a_{y}-b_{y})*(c_{z}-d_{z})-(a_{z}-b_{z})*(c_{y}-d_{y}))*(-(a_{y}-b_{y})*(c_{z}-d_{z})+(a_{z}-b_{z})*(c_{y}-d_{y}))*a_y*d_z - ((a_{y}-b_{y})*(c_{z}-d_{z})-(a_{z}-b_{z})*(c_{y}-d_{y}))*(-(a_{y}-b_{y})*(c_{z}-d_{z})+(a_{z}-b_{z})*(c_{y}-d_{y}))*a_z*c_y + ((a_{y}-b_{y})*(c_{z}-d_{z})-(a_{z}-b_{z})*(c_{y}-d_{y}))*(-(a_{y}-b_{y})*(c_{z}-d_{z})+(a_{z}-b_{z})*(c_{y}-d_{y}))*a_z*d_y - ((a_{y}-b_{y})*(c_{z}-d_{z})-(a_{z}-b_{z})*(c_{y}-d_{y}))*(-(a_{y}-b_{y})*(c_{z}-d_{z})+(a_{z}-b_{z})*(c_{y}-d_{y}))*b_y*c_z + ((a_{y}-b_{y})*(c_{z}-d_{z})-(a_{z}-b_{z})*(c_{y}-d_{y}))*(-(a_{y}-b_{y})*(c_{z}-d_{z})+(a_{z}-b_{z})*(c_{y}-d_{y}))*b_y*d_z + ((a_{y}-b_{y})*(c_{z}-d_{z})-(a_{z}-b_{z})*(c_{y}-d_{y}))*(-(a_{y}-b_{y})*(c_{z}-d_{z})+(a_{z}-b_{z})*(c_{y}-d_{y}))*b_z*c_y - ((a_{y}-b_{y})*(c_{z}-d_{z})-(a_{z}-b_{z})*(c_{y}-d_{y}))*(-(a_{y}-b_{y})*(c_{z}-d_{z})+(a_{z}-b_{z})*(c_{y}-d_{y}))*b_z*d_y - (-(a_{x}-b_{x})*(c_{y}-d_{y})+(a_{y}-b_{y})*(c_{x}-d_{x}))*(-(a_{y}-b_{y})*(c_{z}-d_{z})+(a_{z}-b_{z})*(c_{y}-d_{y}))*a_x*c_y + (-(a_{x}-b_{x})*(c_{y}-d_{y})+(a_{y}-b_{y})*(c_{x}-d_{x}))*(-(a_{y}-b_{y})*(c_{z}-d_{z})+(a_{z}-b_{z})*(c_{y}-d_{y}))*a_x*d_y + (-(a_{x}-b_{x})*(c_{y}-d_{y})+(a_{y}-b_{y})*(c_{x}-d_{x}))*(-(a_{y}-b_{y})*(c_{z}-d_{z})+(a_{z}-b_{z})*(c_{y}-d_{y}))*a_y*c_x - (-(a_{x}-b_{x})*(c_{y}-d_{y})+(a_{y}-b_{y})*(c_{x}-d_{x}))*(-(a_{y}-b_{y})*(c_{z}-d_{z})+(a_{z}-b_{z})*(c_{y}-d_{y}))*a_y*d_x + (-(a_{x}-b_{x})*(c_{y}-d_{y})+(a_{y}-b_{y})*(c_{x}-d_{x}))*(-(a_{y}-b_{y})*(c_{z}-d_{z})+(a_{z}-b_{z})*(c_{y}-d_{y}))*b_x*c_y - (-(a_{x}-b_{x})*(c_{y}-d_{y})+(a_{y}-b_{y})*(c_{x}-d_{x}))*(-(a_{y}-b_{y})*(c_{z}-d_{z})+(a_{z}-b_{z})*(c_{y}-d_{y}))*b_x*d_y - (-(a_{x}-b_{x})*(c_{y}-d_{y})+(a_{y}-b_{y})*(c_{x}-d_{x}))*(-(a_{y}-b_{y})*(c_{z}-d_{z})+(a_{z}-b_{z})*(c_{y}-d_{y}))*b_y*c_x + (-(a_{x}-b_{x})*(c_{y}-d_{y})+(a_{y}-b_{y})*(c_{x}-d_{x}))*(-(a_{y}-b_{y})*(c_{z}-d_{z})+(a_{z}-b_{z})*(c_{y}-d_{y}))*b_y*d_x),\n",
       " h_z: (-(-(a_{x}-b_{x})*(c_{y}-d_{y})+(a_{y}-b_{y})*(c_{x}-d_{x}))*(-(a_{y}-b_{y})*(c_{z}-d_{z})+(a_{z}-b_{z})*(c_{y}-d_{y}))*a_x*b_y*c_z + (-(a_{x}-b_{x})*(c_{y}-d_{y})+(a_{y}-b_{y})*(c_{x}-d_{x}))*(-(a_{y}-b_{y})*(c_{z}-d_{z})+(a_{z}-b_{z})*(c_{y}-d_{y}))*a_x*b_y*d_z + (-(a_{x}-b_{x})*(c_{y}-d_{y})+(a_{y}-b_{y})*(c_{x}-d_{x}))*(-(a_{y}-b_{y})*(c_{z}-d_{z})+(a_{z}-b_{z})*(c_{y}-d_{y}))*a_x*b_z*c_y - (-(a_{x}-b_{x})*(c_{y}-d_{y})+(a_{y}-b_{y})*(c_{x}-d_{x}))*(-(a_{y}-b_{y})*(c_{z}-d_{z})+(a_{z}-b_{z})*(c_{y}-d_{y}))*a_x*b_z*d_y - (-(a_{x}-b_{x})*(c_{y}-d_{y})+(a_{y}-b_{y})*(c_{x}-d_{x}))*(-(a_{y}-b_{y})*(c_{z}-d_{z})+(a_{z}-b_{z})*(c_{y}-d_{y}))*a_x*c_y*d_z + (-(a_{x}-b_{x})*(c_{y}-d_{y})+(a_{y}-b_{y})*(c_{x}-d_{x}))*(-(a_{y}-b_{y})*(c_{z}-d_{z})+(a_{z}-b_{z})*(c_{y}-d_{y}))*a_x*c_z*d_y + (-(a_{x}-b_{x})*(c_{y}-d_{y})+(a_{y}-b_{y})*(c_{x}-d_{x}))*(-(a_{y}-b_{y})*(c_{z}-d_{z})+(a_{z}-b_{z})*(c_{y}-d_{y}))*a_y*b_x*c_z - (-(a_{x}-b_{x})*(c_{y}-d_{y})+(a_{y}-b_{y})*(c_{x}-d_{x}))*(-(a_{y}-b_{y})*(c_{z}-d_{z})+(a_{z}-b_{z})*(c_{y}-d_{y}))*a_y*b_x*d_z - (-(a_{x}-b_{x})*(c_{y}-d_{y})+(a_{y}-b_{y})*(c_{x}-d_{x}))*(-(a_{y}-b_{y})*(c_{z}-d_{z})+(a_{z}-b_{z})*(c_{y}-d_{y}))*a_y*b_z*c_x + (-(a_{x}-b_{x})*(c_{y}-d_{y})+(a_{y}-b_{y})*(c_{x}-d_{x}))*(-(a_{y}-b_{y})*(c_{z}-d_{z})+(a_{z}-b_{z})*(c_{y}-d_{y}))*a_y*b_z*d_x + (-(a_{x}-b_{x})*(c_{y}-d_{y})+(a_{y}-b_{y})*(c_{x}-d_{x}))*(-(a_{y}-b_{y})*(c_{z}-d_{z})+(a_{z}-b_{z})*(c_{y}-d_{y}))*a_y*c_x*d_z - (-(a_{x}-b_{x})*(c_{y}-d_{y})+(a_{y}-b_{y})*(c_{x}-d_{x}))*(-(a_{y}-b_{y})*(c_{z}-d_{z})+(a_{z}-b_{z})*(c_{y}-d_{y}))*a_y*c_z*d_x - (-(a_{x}-b_{x})*(c_{y}-d_{y})+(a_{y}-b_{y})*(c_{x}-d_{x}))*(-(a_{y}-b_{y})*(c_{z}-d_{z})+(a_{z}-b_{z})*(c_{y}-d_{y}))*a_z*b_x*c_y + (-(a_{x}-b_{x})*(c_{y}-d_{y})+(a_{y}-b_{y})*(c_{x}-d_{x}))*(-(a_{y}-b_{y})*(c_{z}-d_{z})+(a_{z}-b_{z})*(c_{y}-d_{y}))*a_z*b_x*d_y + (-(a_{x}-b_{x})*(c_{y}-d_{y})+(a_{y}-b_{y})*(c_{x}-d_{x}))*(-(a_{y}-b_{y})*(c_{z}-d_{z})+(a_{z}-b_{z})*(c_{y}-d_{y}))*a_z*b_y*c_x - (-(a_{x}-b_{x})*(c_{y}-d_{y})+(a_{y}-b_{y})*(c_{x}-d_{x}))*(-(a_{y}-b_{y})*(c_{z}-d_{z})+(a_{z}-b_{z})*(c_{y}-d_{y}))*a_z*b_y*d_x - (-(a_{x}-b_{x})*(c_{y}-d_{y})+(a_{y}-b_{y})*(c_{x}-d_{x}))*(-(a_{y}-b_{y})*(c_{z}-d_{z})+(a_{z}-b_{z})*(c_{y}-d_{y}))*a_z*c_x*d_y + (-(a_{x}-b_{x})*(c_{y}-d_{y})+(a_{y}-b_{y})*(c_{x}-d_{x}))*(-(a_{y}-b_{y})*(c_{z}-d_{z})+(a_{z}-b_{z})*(c_{y}-d_{y}))*a_z*c_y*d_x + (-(a_{x}-b_{x})*(c_{y}-d_{y})+(a_{y}-b_{y})*(c_{x}-d_{x}))*(-(a_{y}-b_{y})*(c_{z}-d_{z})+(a_{z}-b_{z})*(c_{y}-d_{y}))*b_x*c_y*d_z - (-(a_{x}-b_{x})*(c_{y}-d_{y})+(a_{y}-b_{y})*(c_{x}-d_{x}))*(-(a_{y}-b_{y})*(c_{z}-d_{z})+(a_{z}-b_{z})*(c_{y}-d_{y}))*b_x*c_z*d_y - (-(a_{x}-b_{x})*(c_{y}-d_{y})+(a_{y}-b_{y})*(c_{x}-d_{x}))*(-(a_{y}-b_{y})*(c_{z}-d_{z})+(a_{z}-b_{z})*(c_{y}-d_{y}))*b_y*c_x*d_z + (-(a_{x}-b_{x})*(c_{y}-d_{y})+(a_{y}-b_{y})*(c_{x}-d_{x}))*(-(a_{y}-b_{y})*(c_{z}-d_{z})+(a_{z}-b_{z})*(c_{y}-d_{y}))*b_y*c_z*d_x + (-(a_{x}-b_{x})*(c_{y}-d_{y})+(a_{y}-b_{y})*(c_{x}-d_{x}))*(-(a_{y}-b_{y})*(c_{z}-d_{z})+(a_{z}-b_{z})*(c_{y}-d_{y}))*b_z*c_x*d_y - (-(a_{x}-b_{x})*(c_{y}-d_{y})+(a_{y}-b_{y})*(c_{x}-d_{x}))*(-(a_{y}-b_{y})*(c_{z}-d_{z})+(a_{z}-b_{z})*(c_{y}-d_{y}))*b_z*c_y*d_x)/(((a_{y}-b_{y})*(c_{z}-d_{z})-(a_{z}-b_{z})*(c_{y}-d_{y}))*(-(a_{x}-b_{x})*(c_{z}-d_{z})+(a_{z}-b_{z})*(c_{x}-d_{x}))*a_x*c_z - ((a_{y}-b_{y})*(c_{z}-d_{z})-(a_{z}-b_{z})*(c_{y}-d_{y}))*(-(a_{x}-b_{x})*(c_{z}-d_{z})+(a_{z}-b_{z})*(c_{x}-d_{x}))*a_x*d_z - ((a_{y}-b_{y})*(c_{z}-d_{z})-(a_{z}-b_{z})*(c_{y}-d_{y}))*(-(a_{x}-b_{x})*(c_{z}-d_{z})+(a_{z}-b_{z})*(c_{x}-d_{x}))*a_z*c_x + ((a_{y}-b_{y})*(c_{z}-d_{z})-(a_{z}-b_{z})*(c_{y}-d_{y}))*(-(a_{x}-b_{x})*(c_{z}-d_{z})+(a_{z}-b_{z})*(c_{x}-d_{x}))*a_z*d_x - ((a_{y}-b_{y})*(c_{z}-d_{z})-(a_{z}-b_{z})*(c_{y}-d_{y}))*(-(a_{x}-b_{x})*(c_{z}-d_{z})+(a_{z}-b_{z})*(c_{x}-d_{x}))*b_x*c_z + ((a_{y}-b_{y})*(c_{z}-d_{z})-(a_{z}-b_{z})*(c_{y}-d_{y}))*(-(a_{x}-b_{x})*(c_{z}-d_{z})+(a_{z}-b_{z})*(c_{x}-d_{x}))*b_x*d_z + ((a_{y}-b_{y})*(c_{z}-d_{z})-(a_{z}-b_{z})*(c_{y}-d_{y}))*(-(a_{x}-b_{x})*(c_{z}-d_{z})+(a_{z}-b_{z})*(c_{x}-d_{x}))*b_z*c_x - ((a_{y}-b_{y})*(c_{z}-d_{z})-(a_{z}-b_{z})*(c_{y}-d_{y}))*(-(a_{x}-b_{x})*(c_{z}-d_{z})+(a_{z}-b_{z})*(c_{x}-d_{x}))*b_z*d_x + ((a_{y}-b_{y})*(c_{z}-d_{z})-(a_{z}-b_{z})*(c_{y}-d_{y}))*(-(a_{y}-b_{y})*(c_{z}-d_{z})+(a_{z}-b_{z})*(c_{y}-d_{y}))*a_y*c_z - ((a_{y}-b_{y})*(c_{z}-d_{z})-(a_{z}-b_{z})*(c_{y}-d_{y}))*(-(a_{y}-b_{y})*(c_{z}-d_{z})+(a_{z}-b_{z})*(c_{y}-d_{y}))*a_y*d_z - ((a_{y}-b_{y})*(c_{z}-d_{z})-(a_{z}-b_{z})*(c_{y}-d_{y}))*(-(a_{y}-b_{y})*(c_{z}-d_{z})+(a_{z}-b_{z})*(c_{y}-d_{y}))*a_z*c_y + ((a_{y}-b_{y})*(c_{z}-d_{z})-(a_{z}-b_{z})*(c_{y}-d_{y}))*(-(a_{y}-b_{y})*(c_{z}-d_{z})+(a_{z}-b_{z})*(c_{y}-d_{y}))*a_z*d_y - ((a_{y}-b_{y})*(c_{z}-d_{z})-(a_{z}-b_{z})*(c_{y}-d_{y}))*(-(a_{y}-b_{y})*(c_{z}-d_{z})+(a_{z}-b_{z})*(c_{y}-d_{y}))*b_y*c_z + ((a_{y}-b_{y})*(c_{z}-d_{z})-(a_{z}-b_{z})*(c_{y}-d_{y}))*(-(a_{y}-b_{y})*(c_{z}-d_{z})+(a_{z}-b_{z})*(c_{y}-d_{y}))*b_y*d_z + ((a_{y}-b_{y})*(c_{z}-d_{z})-(a_{z}-b_{z})*(c_{y}-d_{y}))*(-(a_{y}-b_{y})*(c_{z}-d_{z})+(a_{z}-b_{z})*(c_{y}-d_{y}))*b_z*c_y - ((a_{y}-b_{y})*(c_{z}-d_{z})-(a_{z}-b_{z})*(c_{y}-d_{y}))*(-(a_{y}-b_{y})*(c_{z}-d_{z})+(a_{z}-b_{z})*(c_{y}-d_{y}))*b_z*d_y - (-(a_{x}-b_{x})*(c_{y}-d_{y})+(a_{y}-b_{y})*(c_{x}-d_{x}))*(-(a_{y}-b_{y})*(c_{z}-d_{z})+(a_{z}-b_{z})*(c_{y}-d_{y}))*a_x*c_y + (-(a_{x}-b_{x})*(c_{y}-d_{y})+(a_{y}-b_{y})*(c_{x}-d_{x}))*(-(a_{y}-b_{y})*(c_{z}-d_{z})+(a_{z}-b_{z})*(c_{y}-d_{y}))*a_x*d_y + (-(a_{x}-b_{x})*(c_{y}-d_{y})+(a_{y}-b_{y})*(c_{x}-d_{x}))*(-(a_{y}-b_{y})*(c_{z}-d_{z})+(a_{z}-b_{z})*(c_{y}-d_{y}))*a_y*c_x - (-(a_{x}-b_{x})*(c_{y}-d_{y})+(a_{y}-b_{y})*(c_{x}-d_{x}))*(-(a_{y}-b_{y})*(c_{z}-d_{z})+(a_{z}-b_{z})*(c_{y}-d_{y}))*a_y*d_x + (-(a_{x}-b_{x})*(c_{y}-d_{y})+(a_{y}-b_{y})*(c_{x}-d_{x}))*(-(a_{y}-b_{y})*(c_{z}-d_{z})+(a_{z}-b_{z})*(c_{y}-d_{y}))*b_x*c_y - (-(a_{x}-b_{x})*(c_{y}-d_{y})+(a_{y}-b_{y})*(c_{x}-d_{x}))*(-(a_{y}-b_{y})*(c_{z}-d_{z})+(a_{z}-b_{z})*(c_{y}-d_{y}))*b_x*d_y - (-(a_{x}-b_{x})*(c_{y}-d_{y})+(a_{y}-b_{y})*(c_{x}-d_{x}))*(-(a_{y}-b_{y})*(c_{z}-d_{z})+(a_{z}-b_{z})*(c_{y}-d_{y}))*b_y*c_x + (-(a_{x}-b_{x})*(c_{y}-d_{y})+(a_{y}-b_{y})*(c_{x}-d_{x}))*(-(a_{y}-b_{y})*(c_{z}-d_{z})+(a_{z}-b_{z})*(c_{y}-d_{y}))*b_y*d_x),\n",
       " t_1: (-((a_{y}-b_{y})*(c_{z}-d_{z})-(a_{z}-b_{z})*(c_{y}-d_{y}))*(-(a_{x}-b_{x})*(c_{z}-d_{z})+(a_{z}-b_{z})*(c_{x}-d_{x}))*a_x*c_z + ((a_{y}-b_{y})*(c_{z}-d_{z})-(a_{z}-b_{z})*(c_{y}-d_{y}))*(-(a_{x}-b_{x})*(c_{z}-d_{z})+(a_{z}-b_{z})*(c_{x}-d_{x}))*a_x*d_z + ((a_{y}-b_{y})*(c_{z}-d_{z})-(a_{z}-b_{z})*(c_{y}-d_{y}))*(-(a_{x}-b_{x})*(c_{z}-d_{z})+(a_{z}-b_{z})*(c_{x}-d_{x}))*a_z*c_x - ((a_{y}-b_{y})*(c_{z}-d_{z})-(a_{z}-b_{z})*(c_{y}-d_{y}))*(-(a_{x}-b_{x})*(c_{z}-d_{z})+(a_{z}-b_{z})*(c_{x}-d_{x}))*a_z*d_x - ((a_{y}-b_{y})*(c_{z}-d_{z})-(a_{z}-b_{z})*(c_{y}-d_{y}))*(-(a_{x}-b_{x})*(c_{z}-d_{z})+(a_{z}-b_{z})*(c_{x}-d_{x}))*c_x*d_z + ((a_{y}-b_{y})*(c_{z}-d_{z})-(a_{z}-b_{z})*(c_{y}-d_{y}))*(-(a_{x}-b_{x})*(c_{z}-d_{z})+(a_{z}-b_{z})*(c_{x}-d_{x}))*c_z*d_x - ((a_{y}-b_{y})*(c_{z}-d_{z})-(a_{z}-b_{z})*(c_{y}-d_{y}))*(-(a_{y}-b_{y})*(c_{z}-d_{z})+(a_{z}-b_{z})*(c_{y}-d_{y}))*a_y*c_z + ((a_{y}-b_{y})*(c_{z}-d_{z})-(a_{z}-b_{z})*(c_{y}-d_{y}))*(-(a_{y}-b_{y})*(c_{z}-d_{z})+(a_{z}-b_{z})*(c_{y}-d_{y}))*a_y*d_z + ((a_{y}-b_{y})*(c_{z}-d_{z})-(a_{z}-b_{z})*(c_{y}-d_{y}))*(-(a_{y}-b_{y})*(c_{z}-d_{z})+(a_{z}-b_{z})*(c_{y}-d_{y}))*a_z*c_y - ((a_{y}-b_{y})*(c_{z}-d_{z})-(a_{z}-b_{z})*(c_{y}-d_{y}))*(-(a_{y}-b_{y})*(c_{z}-d_{z})+(a_{z}-b_{z})*(c_{y}-d_{y}))*a_z*d_y - ((a_{y}-b_{y})*(c_{z}-d_{z})-(a_{z}-b_{z})*(c_{y}-d_{y}))*(-(a_{y}-b_{y})*(c_{z}-d_{z})+(a_{z}-b_{z})*(c_{y}-d_{y}))*c_y*d_z + ((a_{y}-b_{y})*(c_{z}-d_{z})-(a_{z}-b_{z})*(c_{y}-d_{y}))*(-(a_{y}-b_{y})*(c_{z}-d_{z})+(a_{z}-b_{z})*(c_{y}-d_{y}))*c_z*d_y + (-(a_{x}-b_{x})*(c_{y}-d_{y})+(a_{y}-b_{y})*(c_{x}-d_{x}))*(-(a_{y}-b_{y})*(c_{z}-d_{z})+(a_{z}-b_{z})*(c_{y}-d_{y}))*a_x*c_y - (-(a_{x}-b_{x})*(c_{y}-d_{y})+(a_{y}-b_{y})*(c_{x}-d_{x}))*(-(a_{y}-b_{y})*(c_{z}-d_{z})+(a_{z}-b_{z})*(c_{y}-d_{y}))*a_x*d_y - (-(a_{x}-b_{x})*(c_{y}-d_{y})+(a_{y}-b_{y})*(c_{x}-d_{x}))*(-(a_{y}-b_{y})*(c_{z}-d_{z})+(a_{z}-b_{z})*(c_{y}-d_{y}))*a_y*c_x + (-(a_{x}-b_{x})*(c_{y}-d_{y})+(a_{y}-b_{y})*(c_{x}-d_{x}))*(-(a_{y}-b_{y})*(c_{z}-d_{z})+(a_{z}-b_{z})*(c_{y}-d_{y}))*a_y*d_x + (-(a_{x}-b_{x})*(c_{y}-d_{y})+(a_{y}-b_{y})*(c_{x}-d_{x}))*(-(a_{y}-b_{y})*(c_{z}-d_{z})+(a_{z}-b_{z})*(c_{y}-d_{y}))*c_x*d_y - (-(a_{x}-b_{x})*(c_{y}-d_{y})+(a_{y}-b_{y})*(c_{x}-d_{x}))*(-(a_{y}-b_{y})*(c_{z}-d_{z})+(a_{z}-b_{z})*(c_{y}-d_{y}))*c_y*d_x)/(((a_{y}-b_{y})*(c_{z}-d_{z})-(a_{z}-b_{z})*(c_{y}-d_{y}))*(-(a_{x}-b_{x})*(c_{z}-d_{z})+(a_{z}-b_{z})*(c_{x}-d_{x}))*a_x*c_z - ((a_{y}-b_{y})*(c_{z}-d_{z})-(a_{z}-b_{z})*(c_{y}-d_{y}))*(-(a_{x}-b_{x})*(c_{z}-d_{z})+(a_{z}-b_{z})*(c_{x}-d_{x}))*a_x*d_z - ((a_{y}-b_{y})*(c_{z}-d_{z})-(a_{z}-b_{z})*(c_{y}-d_{y}))*(-(a_{x}-b_{x})*(c_{z}-d_{z})+(a_{z}-b_{z})*(c_{x}-d_{x}))*a_z*c_x + ((a_{y}-b_{y})*(c_{z}-d_{z})-(a_{z}-b_{z})*(c_{y}-d_{y}))*(-(a_{x}-b_{x})*(c_{z}-d_{z})+(a_{z}-b_{z})*(c_{x}-d_{x}))*a_z*d_x - ((a_{y}-b_{y})*(c_{z}-d_{z})-(a_{z}-b_{z})*(c_{y}-d_{y}))*(-(a_{x}-b_{x})*(c_{z}-d_{z})+(a_{z}-b_{z})*(c_{x}-d_{x}))*b_x*c_z + ((a_{y}-b_{y})*(c_{z}-d_{z})-(a_{z}-b_{z})*(c_{y}-d_{y}))*(-(a_{x}-b_{x})*(c_{z}-d_{z})+(a_{z}-b_{z})*(c_{x}-d_{x}))*b_x*d_z + ((a_{y}-b_{y})*(c_{z}-d_{z})-(a_{z}-b_{z})*(c_{y}-d_{y}))*(-(a_{x}-b_{x})*(c_{z}-d_{z})+(a_{z}-b_{z})*(c_{x}-d_{x}))*b_z*c_x - ((a_{y}-b_{y})*(c_{z}-d_{z})-(a_{z}-b_{z})*(c_{y}-d_{y}))*(-(a_{x}-b_{x})*(c_{z}-d_{z})+(a_{z}-b_{z})*(c_{x}-d_{x}))*b_z*d_x + ((a_{y}-b_{y})*(c_{z}-d_{z})-(a_{z}-b_{z})*(c_{y}-d_{y}))*(-(a_{y}-b_{y})*(c_{z}-d_{z})+(a_{z}-b_{z})*(c_{y}-d_{y}))*a_y*c_z - ((a_{y}-b_{y})*(c_{z}-d_{z})-(a_{z}-b_{z})*(c_{y}-d_{y}))*(-(a_{y}-b_{y})*(c_{z}-d_{z})+(a_{z}-b_{z})*(c_{y}-d_{y}))*a_y*d_z - ((a_{y}-b_{y})*(c_{z}-d_{z})-(a_{z}-b_{z})*(c_{y}-d_{y}))*(-(a_{y}-b_{y})*(c_{z}-d_{z})+(a_{z}-b_{z})*(c_{y}-d_{y}))*a_z*c_y + ((a_{y}-b_{y})*(c_{z}-d_{z})-(a_{z}-b_{z})*(c_{y}-d_{y}))*(-(a_{y}-b_{y})*(c_{z}-d_{z})+(a_{z}-b_{z})*(c_{y}-d_{y}))*a_z*d_y - ((a_{y}-b_{y})*(c_{z}-d_{z})-(a_{z}-b_{z})*(c_{y}-d_{y}))*(-(a_{y}-b_{y})*(c_{z}-d_{z})+(a_{z}-b_{z})*(c_{y}-d_{y}))*b_y*c_z + ((a_{y}-b_{y})*(c_{z}-d_{z})-(a_{z}-b_{z})*(c_{y}-d_{y}))*(-(a_{y}-b_{y})*(c_{z}-d_{z})+(a_{z}-b_{z})*(c_{y}-d_{y}))*b_y*d_z + ((a_{y}-b_{y})*(c_{z}-d_{z})-(a_{z}-b_{z})*(c_{y}-d_{y}))*(-(a_{y}-b_{y})*(c_{z}-d_{z})+(a_{z}-b_{z})*(c_{y}-d_{y}))*b_z*c_y - ((a_{y}-b_{y})*(c_{z}-d_{z})-(a_{z}-b_{z})*(c_{y}-d_{y}))*(-(a_{y}-b_{y})*(c_{z}-d_{z})+(a_{z}-b_{z})*(c_{y}-d_{y}))*b_z*d_y - (-(a_{x}-b_{x})*(c_{y}-d_{y})+(a_{y}-b_{y})*(c_{x}-d_{x}))*(-(a_{y}-b_{y})*(c_{z}-d_{z})+(a_{z}-b_{z})*(c_{y}-d_{y}))*a_x*c_y + (-(a_{x}-b_{x})*(c_{y}-d_{y})+(a_{y}-b_{y})*(c_{x}-d_{x}))*(-(a_{y}-b_{y})*(c_{z}-d_{z})+(a_{z}-b_{z})*(c_{y}-d_{y}))*a_x*d_y + (-(a_{x}-b_{x})*(c_{y}-d_{y})+(a_{y}-b_{y})*(c_{x}-d_{x}))*(-(a_{y}-b_{y})*(c_{z}-d_{z})+(a_{z}-b_{z})*(c_{y}-d_{y}))*a_y*c_x - (-(a_{x}-b_{x})*(c_{y}-d_{y})+(a_{y}-b_{y})*(c_{x}-d_{x}))*(-(a_{y}-b_{y})*(c_{z}-d_{z})+(a_{z}-b_{z})*(c_{y}-d_{y}))*a_y*d_x + (-(a_{x}-b_{x})*(c_{y}-d_{y})+(a_{y}-b_{y})*(c_{x}-d_{x}))*(-(a_{y}-b_{y})*(c_{z}-d_{z})+(a_{z}-b_{z})*(c_{y}-d_{y}))*b_x*c_y - (-(a_{x}-b_{x})*(c_{y}-d_{y})+(a_{y}-b_{y})*(c_{x}-d_{x}))*(-(a_{y}-b_{y})*(c_{z}-d_{z})+(a_{z}-b_{z})*(c_{y}-d_{y}))*b_x*d_y - (-(a_{x}-b_{x})*(c_{y}-d_{y})+(a_{y}-b_{y})*(c_{x}-d_{x}))*(-(a_{y}-b_{y})*(c_{z}-d_{z})+(a_{z}-b_{z})*(c_{y}-d_{y}))*b_y*c_x + (-(a_{x}-b_{x})*(c_{y}-d_{y})+(a_{y}-b_{y})*(c_{x}-d_{x}))*(-(a_{y}-b_{y})*(c_{z}-d_{z})+(a_{z}-b_{z})*(c_{y}-d_{y}))*b_y*d_x),\n",
       " t_2: (-((a_{y}-b_{y})*(c_{z}-d_{z})-(a_{z}-b_{z})*(c_{y}-d_{y}))*(-(a_{x}-b_{x})*(c_{z}-d_{z})+(a_{z}-b_{z})*(c_{x}-d_{x}))*a_x*b_z + ((a_{y}-b_{y})*(c_{z}-d_{z})-(a_{z}-b_{z})*(c_{y}-d_{y}))*(-(a_{x}-b_{x})*(c_{z}-d_{z})+(a_{z}-b_{z})*(c_{x}-d_{x}))*a_x*d_z + ((a_{y}-b_{y})*(c_{z}-d_{z})-(a_{z}-b_{z})*(c_{y}-d_{y}))*(-(a_{x}-b_{x})*(c_{z}-d_{z})+(a_{z}-b_{z})*(c_{x}-d_{x}))*a_z*b_x - ((a_{y}-b_{y})*(c_{z}-d_{z})-(a_{z}-b_{z})*(c_{y}-d_{y}))*(-(a_{x}-b_{x})*(c_{z}-d_{z})+(a_{z}-b_{z})*(c_{x}-d_{x}))*a_z*d_x - ((a_{y}-b_{y})*(c_{z}-d_{z})-(a_{z}-b_{z})*(c_{y}-d_{y}))*(-(a_{x}-b_{x})*(c_{z}-d_{z})+(a_{z}-b_{z})*(c_{x}-d_{x}))*b_x*d_z + ((a_{y}-b_{y})*(c_{z}-d_{z})-(a_{z}-b_{z})*(c_{y}-d_{y}))*(-(a_{x}-b_{x})*(c_{z}-d_{z})+(a_{z}-b_{z})*(c_{x}-d_{x}))*b_z*d_x - ((a_{y}-b_{y})*(c_{z}-d_{z})-(a_{z}-b_{z})*(c_{y}-d_{y}))*(-(a_{y}-b_{y})*(c_{z}-d_{z})+(a_{z}-b_{z})*(c_{y}-d_{y}))*a_y*b_z + ((a_{y}-b_{y})*(c_{z}-d_{z})-(a_{z}-b_{z})*(c_{y}-d_{y}))*(-(a_{y}-b_{y})*(c_{z}-d_{z})+(a_{z}-b_{z})*(c_{y}-d_{y}))*a_y*d_z + ((a_{y}-b_{y})*(c_{z}-d_{z})-(a_{z}-b_{z})*(c_{y}-d_{y}))*(-(a_{y}-b_{y})*(c_{z}-d_{z})+(a_{z}-b_{z})*(c_{y}-d_{y}))*a_z*b_y - ((a_{y}-b_{y})*(c_{z}-d_{z})-(a_{z}-b_{z})*(c_{y}-d_{y}))*(-(a_{y}-b_{y})*(c_{z}-d_{z})+(a_{z}-b_{z})*(c_{y}-d_{y}))*a_z*d_y - ((a_{y}-b_{y})*(c_{z}-d_{z})-(a_{z}-b_{z})*(c_{y}-d_{y}))*(-(a_{y}-b_{y})*(c_{z}-d_{z})+(a_{z}-b_{z})*(c_{y}-d_{y}))*b_y*d_z + ((a_{y}-b_{y})*(c_{z}-d_{z})-(a_{z}-b_{z})*(c_{y}-d_{y}))*(-(a_{y}-b_{y})*(c_{z}-d_{z})+(a_{z}-b_{z})*(c_{y}-d_{y}))*b_z*d_y + (-(a_{x}-b_{x})*(c_{y}-d_{y})+(a_{y}-b_{y})*(c_{x}-d_{x}))*(-(a_{y}-b_{y})*(c_{z}-d_{z})+(a_{z}-b_{z})*(c_{y}-d_{y}))*a_x*b_y - (-(a_{x}-b_{x})*(c_{y}-d_{y})+(a_{y}-b_{y})*(c_{x}-d_{x}))*(-(a_{y}-b_{y})*(c_{z}-d_{z})+(a_{z}-b_{z})*(c_{y}-d_{y}))*a_x*d_y - (-(a_{x}-b_{x})*(c_{y}-d_{y})+(a_{y}-b_{y})*(c_{x}-d_{x}))*(-(a_{y}-b_{y})*(c_{z}-d_{z})+(a_{z}-b_{z})*(c_{y}-d_{y}))*a_y*b_x + (-(a_{x}-b_{x})*(c_{y}-d_{y})+(a_{y}-b_{y})*(c_{x}-d_{x}))*(-(a_{y}-b_{y})*(c_{z}-d_{z})+(a_{z}-b_{z})*(c_{y}-d_{y}))*a_y*d_x + (-(a_{x}-b_{x})*(c_{y}-d_{y})+(a_{y}-b_{y})*(c_{x}-d_{x}))*(-(a_{y}-b_{y})*(c_{z}-d_{z})+(a_{z}-b_{z})*(c_{y}-d_{y}))*b_x*d_y - (-(a_{x}-b_{x})*(c_{y}-d_{y})+(a_{y}-b_{y})*(c_{x}-d_{x}))*(-(a_{y}-b_{y})*(c_{z}-d_{z})+(a_{z}-b_{z})*(c_{y}-d_{y}))*b_y*d_x)/(((a_{y}-b_{y})*(c_{z}-d_{z})-(a_{z}-b_{z})*(c_{y}-d_{y}))*(-(a_{x}-b_{x})*(c_{z}-d_{z})+(a_{z}-b_{z})*(c_{x}-d_{x}))*a_x*c_z - ((a_{y}-b_{y})*(c_{z}-d_{z})-(a_{z}-b_{z})*(c_{y}-d_{y}))*(-(a_{x}-b_{x})*(c_{z}-d_{z})+(a_{z}-b_{z})*(c_{x}-d_{x}))*a_x*d_z - ((a_{y}-b_{y})*(c_{z}-d_{z})-(a_{z}-b_{z})*(c_{y}-d_{y}))*(-(a_{x}-b_{x})*(c_{z}-d_{z})+(a_{z}-b_{z})*(c_{x}-d_{x}))*a_z*c_x + ((a_{y}-b_{y})*(c_{z}-d_{z})-(a_{z}-b_{z})*(c_{y}-d_{y}))*(-(a_{x}-b_{x})*(c_{z}-d_{z})+(a_{z}-b_{z})*(c_{x}-d_{x}))*a_z*d_x - ((a_{y}-b_{y})*(c_{z}-d_{z})-(a_{z}-b_{z})*(c_{y}-d_{y}))*(-(a_{x}-b_{x})*(c_{z}-d_{z})+(a_{z}-b_{z})*(c_{x}-d_{x}))*b_x*c_z + ((a_{y}-b_{y})*(c_{z}-d_{z})-(a_{z}-b_{z})*(c_{y}-d_{y}))*(-(a_{x}-b_{x})*(c_{z}-d_{z})+(a_{z}-b_{z})*(c_{x}-d_{x}))*b_x*d_z + ((a_{y}-b_{y})*(c_{z}-d_{z})-(a_{z}-b_{z})*(c_{y}-d_{y}))*(-(a_{x}-b_{x})*(c_{z}-d_{z})+(a_{z}-b_{z})*(c_{x}-d_{x}))*b_z*c_x - ((a_{y}-b_{y})*(c_{z}-d_{z})-(a_{z}-b_{z})*(c_{y}-d_{y}))*(-(a_{x}-b_{x})*(c_{z}-d_{z})+(a_{z}-b_{z})*(c_{x}-d_{x}))*b_z*d_x + ((a_{y}-b_{y})*(c_{z}-d_{z})-(a_{z}-b_{z})*(c_{y}-d_{y}))*(-(a_{y}-b_{y})*(c_{z}-d_{z})+(a_{z}-b_{z})*(c_{y}-d_{y}))*a_y*c_z - ((a_{y}-b_{y})*(c_{z}-d_{z})-(a_{z}-b_{z})*(c_{y}-d_{y}))*(-(a_{y}-b_{y})*(c_{z}-d_{z})+(a_{z}-b_{z})*(c_{y}-d_{y}))*a_y*d_z - ((a_{y}-b_{y})*(c_{z}-d_{z})-(a_{z}-b_{z})*(c_{y}-d_{y}))*(-(a_{y}-b_{y})*(c_{z}-d_{z})+(a_{z}-b_{z})*(c_{y}-d_{y}))*a_z*c_y + ((a_{y}-b_{y})*(c_{z}-d_{z})-(a_{z}-b_{z})*(c_{y}-d_{y}))*(-(a_{y}-b_{y})*(c_{z}-d_{z})+(a_{z}-b_{z})*(c_{y}-d_{y}))*a_z*d_y - ((a_{y}-b_{y})*(c_{z}-d_{z})-(a_{z}-b_{z})*(c_{y}-d_{y}))*(-(a_{y}-b_{y})*(c_{z}-d_{z})+(a_{z}-b_{z})*(c_{y}-d_{y}))*b_y*c_z + ((a_{y}-b_{y})*(c_{z}-d_{z})-(a_{z}-b_{z})*(c_{y}-d_{y}))*(-(a_{y}-b_{y})*(c_{z}-d_{z})+(a_{z}-b_{z})*(c_{y}-d_{y}))*b_y*d_z + ((a_{y}-b_{y})*(c_{z}-d_{z})-(a_{z}-b_{z})*(c_{y}-d_{y}))*(-(a_{y}-b_{y})*(c_{z}-d_{z})+(a_{z}-b_{z})*(c_{y}-d_{y}))*b_z*c_y - ((a_{y}-b_{y})*(c_{z}-d_{z})-(a_{z}-b_{z})*(c_{y}-d_{y}))*(-(a_{y}-b_{y})*(c_{z}-d_{z})+(a_{z}-b_{z})*(c_{y}-d_{y}))*b_z*d_y - (-(a_{x}-b_{x})*(c_{y}-d_{y})+(a_{y}-b_{y})*(c_{x}-d_{x}))*(-(a_{y}-b_{y})*(c_{z}-d_{z})+(a_{z}-b_{z})*(c_{y}-d_{y}))*a_x*c_y + (-(a_{x}-b_{x})*(c_{y}-d_{y})+(a_{y}-b_{y})*(c_{x}-d_{x}))*(-(a_{y}-b_{y})*(c_{z}-d_{z})+(a_{z}-b_{z})*(c_{y}-d_{y}))*a_x*d_y + (-(a_{x}-b_{x})*(c_{y}-d_{y})+(a_{y}-b_{y})*(c_{x}-d_{x}))*(-(a_{y}-b_{y})*(c_{z}-d_{z})+(a_{z}-b_{z})*(c_{y}-d_{y}))*a_y*c_x - (-(a_{x}-b_{x})*(c_{y}-d_{y})+(a_{y}-b_{y})*(c_{x}-d_{x}))*(-(a_{y}-b_{y})*(c_{z}-d_{z})+(a_{z}-b_{z})*(c_{y}-d_{y}))*a_y*d_x + (-(a_{x}-b_{x})*(c_{y}-d_{y})+(a_{y}-b_{y})*(c_{x}-d_{x}))*(-(a_{y}-b_{y})*(c_{z}-d_{z})+(a_{z}-b_{z})*(c_{y}-d_{y}))*b_x*c_y - (-(a_{x}-b_{x})*(c_{y}-d_{y})+(a_{y}-b_{y})*(c_{x}-d_{x}))*(-(a_{y}-b_{y})*(c_{z}-d_{z})+(a_{z}-b_{z})*(c_{y}-d_{y}))*b_x*d_y - (-(a_{x}-b_{x})*(c_{y}-d_{y})+(a_{y}-b_{y})*(c_{x}-d_{x}))*(-(a_{y}-b_{y})*(c_{z}-d_{z})+(a_{z}-b_{z})*(c_{y}-d_{y}))*b_y*c_x + (-(a_{x}-b_{x})*(c_{y}-d_{y})+(a_{y}-b_{y})*(c_{x}-d_{x}))*(-(a_{y}-b_{y})*(c_{z}-d_{z})+(a_{z}-b_{z})*(c_{y}-d_{y}))*b_y*d_x)}"
      ]
     },
     "execution_count": 312,
     "metadata": {},
     "output_type": "execute_result"
    }
   ],
   "source": [
    "res = solve(eqs[1:], [*_h, t1, t2])\n",
    "res"
   ]
  },
  {
   "cell_type": "code",
   "execution_count": 313,
   "metadata": {},
   "outputs": [
    {
     "data": {
      "text/latex": [
       "$\\displaystyle - a_{x} t_{1} - a_{x} + b_{x} t_{1} - c_{x} t_{2} + d_{x} t_{2} + d_{x} = h_{x}$"
      ],
      "text/plain": [
       "Eq(-a_x*t_1 - a_x + b_x*t_1 - c_x*t_2 + d_x*t_2 + d_x, h_x)"
      ]
     },
     "metadata": {},
     "output_type": "display_data"
    },
    {
     "data": {
      "text/latex": [
       "$\\displaystyle - a_{x} i t_{1} - a_{x} i - a_{y} t_{1} - a_{y} + b_{x} i t_{1} + b_{y} t_{1} - c_{x} i t_{2} - c_{y} t_{2} + d_{x} i t_{2} + d_{x} i + d_{y} t_{2} + d_{y} - h_{x} i = h_{y}$"
      ],
      "text/plain": [
       "Eq(-a_x*i*t_1 - a_x*i - a_y*t_1 - a_y + b_x*i*t_1 + b_y*t_1 - c_x*i*t_2 - c_y*t_2 + d_x*i*t_2 + d_x*i + d_y*t_2 + d_y - h_x*i, h_y)"
      ]
     },
     "metadata": {},
     "output_type": "display_data"
    },
    {
     "data": {
      "text/latex": [
       "$\\displaystyle - a_{x} i t_{1} - a_{x} i - a_{z} t_{1} - a_{z} + b_{x} i t_{1} + b_{z} t_{1} - c_{x} i t_{2} - c_{z} t_{2} + d_{x} i t_{2} + d_{x} i + d_{z} t_{2} + d_{z} - h_{x} i = h_{z}$"
      ],
      "text/plain": [
       "Eq(-a_x*i*t_1 - a_x*i - a_z*t_1 - a_z + b_x*i*t_1 + b_z*t_1 - c_x*i*t_2 - c_z*t_2 + d_x*i*t_2 + d_x*i + d_z*t_2 + d_z - h_x*i, h_z)"
      ]
     },
     "metadata": {},
     "output_type": "display_data"
    }
   ],
   "source": [
    "htt = [solve(eqs[i + 3], [_h[i]])[0] for i in range(3)]\n",
    "[display(Eq(htt[i], _h[i])) for i in range(3)]\n",
    "None"
   ]
  },
  {
   "cell_type": "code",
   "execution_count": 314,
   "metadata": {},
   "outputs": [
    {
     "data": {
      "text/latex": [
       "$\\displaystyle ((a_{x}-b_{x})*(c_{y}-d_{y})-(a_{y}-b_{y})*(c_{x}-d_{x})) \\left(- a_{x} i t_{1} - a_{x} i - a_{y} t_{1} - a_{y} + b_{x} i t_{1} + b_{y} t_{1} - c_{x} i t_{2} - c_{y} t_{2} + d_{x} i t_{2} + d_{x} i + d_{y} t_{2} + d_{y} - h_{x} i\\right) + ((a_{x}-b_{x})*(c_{z}-d_{z})-(a_{z}-b_{z})*(c_{x}-d_{x})) \\left(- a_{x} i t_{1} - a_{x} i - a_{z} t_{1} - a_{z} + b_{x} i t_{1} + b_{z} t_{1} - c_{x} i t_{2} - c_{z} t_{2} + d_{x} i t_{2} + d_{x} i + d_{z} t_{2} + d_{z} - h_{x} i\\right)$"
      ],
      "text/plain": [
       "((a_{x}-b_{x})*(c_{y}-d_{y})-(a_{y}-b_{y})*(c_{x}-d_{x}))*(-a_x*i*t_1 - a_x*i - a_y*t_1 - a_y + b_x*i*t_1 + b_y*t_1 - c_x*i*t_2 - c_y*t_2 + d_x*i*t_2 + d_x*i + d_y*t_2 + d_y - h_x*i) + ((a_{x}-b_{x})*(c_{z}-d_{z})-(a_{z}-b_{z})*(c_{x}-d_{x}))*(-a_x*i*t_1 - a_x*i - a_z*t_1 - a_z + b_x*i*t_1 + b_z*t_1 - c_x*i*t_2 - c_z*t_2 + d_x*i*t_2 + d_x*i + d_z*t_2 + d_z - h_x*i)"
      ]
     },
     "metadata": {},
     "output_type": "display_data"
    },
    {
     "data": {
      "text/latex": [
       "$\\displaystyle ((a_{y}-b_{y})*(c_{z}-d_{z})-(a_{z}-b_{z})*(c_{y}-d_{y})) \\left(- a_{x} i t_{1} - a_{x} i - a_{z} t_{1} - a_{z} + b_{x} i t_{1} + b_{z} t_{1} - c_{x} i t_{2} - c_{z} t_{2} + d_{x} i t_{2} + d_{x} i + d_{z} t_{2} + d_{z} - h_{x} i\\right) + (-(a_{x}-b_{x})*(c_{y}-d_{y})+(a_{y}-b_{y})*(c_{x}-d_{x})) \\left(- a_{x} t_{1} - a_{x} + b_{x} t_{1} - c_{x} t_{2} + d_{x} t_{2} + d_{x}\\right)$"
      ],
      "text/plain": [
       "((a_{y}-b_{y})*(c_{z}-d_{z})-(a_{z}-b_{z})*(c_{y}-d_{y}))*(-a_x*i*t_1 - a_x*i - a_z*t_1 - a_z + b_x*i*t_1 + b_z*t_1 - c_x*i*t_2 - c_z*t_2 + d_x*i*t_2 + d_x*i + d_z*t_2 + d_z - h_x*i) + (-(a_{x}-b_{x})*(c_{y}-d_{y})+(a_{y}-b_{y})*(c_{x}-d_{x}))*(-a_x*t_1 - a_x + b_x*t_1 - c_x*t_2 + d_x*t_2 + d_x)"
      ]
     },
     "metadata": {},
     "output_type": "display_data"
    }
   ],
   "source": [
    "eqtt = [eqs[i].subs({_h[i]: htt[i] for i in range(3)}) for i in range(2)]\n",
    "[display(i) for i in eqtt]\n",
    "None"
   ]
  },
  {
   "cell_type": "code",
   "execution_count": 315,
   "metadata": {},
   "outputs": [
    {
     "data": {
      "text/latex": [
       "$\\displaystyle ((a_{y}-b_{y})*(c_{z}-d_{z})-(a_{z}-b_{z})*(c_{y}-d_{y})) \\left(- a_{x} i - \\frac{a_{x} i \\left(- ((a_{x}-b_{x})*(c_{y}-d_{y})-(a_{y}-b_{y})*(c_{x}-d_{x})) a_{x} i - ((a_{x}-b_{x})*(c_{y}-d_{y})-(a_{y}-b_{y})*(c_{x}-d_{x})) a_{y} - ((a_{x}-b_{x})*(c_{y}-d_{y})-(a_{y}-b_{y})*(c_{x}-d_{x})) c_{x} i t_{2} - ((a_{x}-b_{x})*(c_{y}-d_{y})-(a_{y}-b_{y})*(c_{x}-d_{x})) c_{y} t_{2} + ((a_{x}-b_{x})*(c_{y}-d_{y})-(a_{y}-b_{y})*(c_{x}-d_{x})) d_{x} i t_{2} + ((a_{x}-b_{x})*(c_{y}-d_{y})-(a_{y}-b_{y})*(c_{x}-d_{x})) d_{x} i + ((a_{x}-b_{x})*(c_{y}-d_{y})-(a_{y}-b_{y})*(c_{x}-d_{x})) d_{y} t_{2} + ((a_{x}-b_{x})*(c_{y}-d_{y})-(a_{y}-b_{y})*(c_{x}-d_{x})) d_{y} - ((a_{x}-b_{x})*(c_{y}-d_{y})-(a_{y}-b_{y})*(c_{x}-d_{x})) h_{x} i - ((a_{x}-b_{x})*(c_{z}-d_{z})-(a_{z}-b_{z})*(c_{x}-d_{x})) a_{x} i - ((a_{x}-b_{x})*(c_{z}-d_{z})-(a_{z}-b_{z})*(c_{x}-d_{x})) a_{z} - ((a_{x}-b_{x})*(c_{z}-d_{z})-(a_{z}-b_{z})*(c_{x}-d_{x})) c_{x} i t_{2} - ((a_{x}-b_{x})*(c_{z}-d_{z})-(a_{z}-b_{z})*(c_{x}-d_{x})) c_{z} t_{2} + ((a_{x}-b_{x})*(c_{z}-d_{z})-(a_{z}-b_{z})*(c_{x}-d_{x})) d_{x} i t_{2} + ((a_{x}-b_{x})*(c_{z}-d_{z})-(a_{z}-b_{z})*(c_{x}-d_{x})) d_{x} i + ((a_{x}-b_{x})*(c_{z}-d_{z})-(a_{z}-b_{z})*(c_{x}-d_{x})) d_{z} t_{2} + ((a_{x}-b_{x})*(c_{z}-d_{z})-(a_{z}-b_{z})*(c_{x}-d_{x})) d_{z} - ((a_{x}-b_{x})*(c_{z}-d_{z})-(a_{z}-b_{z})*(c_{x}-d_{x})) h_{x} i\\right)}{((a_{x}-b_{x})*(c_{y}-d_{y})-(a_{y}-b_{y})*(c_{x}-d_{x})) a_{x} i + ((a_{x}-b_{x})*(c_{y}-d_{y})-(a_{y}-b_{y})*(c_{x}-d_{x})) a_{y} - ((a_{x}-b_{x})*(c_{y}-d_{y})-(a_{y}-b_{y})*(c_{x}-d_{x})) b_{x} i - ((a_{x}-b_{x})*(c_{y}-d_{y})-(a_{y}-b_{y})*(c_{x}-d_{x})) b_{y} + ((a_{x}-b_{x})*(c_{z}-d_{z})-(a_{z}-b_{z})*(c_{x}-d_{x})) a_{x} i + ((a_{x}-b_{x})*(c_{z}-d_{z})-(a_{z}-b_{z})*(c_{x}-d_{x})) a_{z} - ((a_{x}-b_{x})*(c_{z}-d_{z})-(a_{z}-b_{z})*(c_{x}-d_{x})) b_{x} i - ((a_{x}-b_{x})*(c_{z}-d_{z})-(a_{z}-b_{z})*(c_{x}-d_{x})) b_{z}} - a_{z} - \\frac{a_{z} \\left(- ((a_{x}-b_{x})*(c_{y}-d_{y})-(a_{y}-b_{y})*(c_{x}-d_{x})) a_{x} i - ((a_{x}-b_{x})*(c_{y}-d_{y})-(a_{y}-b_{y})*(c_{x}-d_{x})) a_{y} - ((a_{x}-b_{x})*(c_{y}-d_{y})-(a_{y}-b_{y})*(c_{x}-d_{x})) c_{x} i t_{2} - ((a_{x}-b_{x})*(c_{y}-d_{y})-(a_{y}-b_{y})*(c_{x}-d_{x})) c_{y} t_{2} + ((a_{x}-b_{x})*(c_{y}-d_{y})-(a_{y}-b_{y})*(c_{x}-d_{x})) d_{x} i t_{2} + ((a_{x}-b_{x})*(c_{y}-d_{y})-(a_{y}-b_{y})*(c_{x}-d_{x})) d_{x} i + ((a_{x}-b_{x})*(c_{y}-d_{y})-(a_{y}-b_{y})*(c_{x}-d_{x})) d_{y} t_{2} + ((a_{x}-b_{x})*(c_{y}-d_{y})-(a_{y}-b_{y})*(c_{x}-d_{x})) d_{y} - ((a_{x}-b_{x})*(c_{y}-d_{y})-(a_{y}-b_{y})*(c_{x}-d_{x})) h_{x} i - ((a_{x}-b_{x})*(c_{z}-d_{z})-(a_{z}-b_{z})*(c_{x}-d_{x})) a_{x} i - ((a_{x}-b_{x})*(c_{z}-d_{z})-(a_{z}-b_{z})*(c_{x}-d_{x})) a_{z} - ((a_{x}-b_{x})*(c_{z}-d_{z})-(a_{z}-b_{z})*(c_{x}-d_{x})) c_{x} i t_{2} - ((a_{x}-b_{x})*(c_{z}-d_{z})-(a_{z}-b_{z})*(c_{x}-d_{x})) c_{z} t_{2} + ((a_{x}-b_{x})*(c_{z}-d_{z})-(a_{z}-b_{z})*(c_{x}-d_{x})) d_{x} i t_{2} + ((a_{x}-b_{x})*(c_{z}-d_{z})-(a_{z}-b_{z})*(c_{x}-d_{x})) d_{x} i + ((a_{x}-b_{x})*(c_{z}-d_{z})-(a_{z}-b_{z})*(c_{x}-d_{x})) d_{z} t_{2} + ((a_{x}-b_{x})*(c_{z}-d_{z})-(a_{z}-b_{z})*(c_{x}-d_{x})) d_{z} - ((a_{x}-b_{x})*(c_{z}-d_{z})-(a_{z}-b_{z})*(c_{x}-d_{x})) h_{x} i\\right)}{((a_{x}-b_{x})*(c_{y}-d_{y})-(a_{y}-b_{y})*(c_{x}-d_{x})) a_{x} i + ((a_{x}-b_{x})*(c_{y}-d_{y})-(a_{y}-b_{y})*(c_{x}-d_{x})) a_{y} - ((a_{x}-b_{x})*(c_{y}-d_{y})-(a_{y}-b_{y})*(c_{x}-d_{x})) b_{x} i - ((a_{x}-b_{x})*(c_{y}-d_{y})-(a_{y}-b_{y})*(c_{x}-d_{x})) b_{y} + ((a_{x}-b_{x})*(c_{z}-d_{z})-(a_{z}-b_{z})*(c_{x}-d_{x})) a_{x} i + ((a_{x}-b_{x})*(c_{z}-d_{z})-(a_{z}-b_{z})*(c_{x}-d_{x})) a_{z} - ((a_{x}-b_{x})*(c_{z}-d_{z})-(a_{z}-b_{z})*(c_{x}-d_{x})) b_{x} i - ((a_{x}-b_{x})*(c_{z}-d_{z})-(a_{z}-b_{z})*(c_{x}-d_{x})) b_{z}} + \\frac{b_{x} i \\left(- ((a_{x}-b_{x})*(c_{y}-d_{y})-(a_{y}-b_{y})*(c_{x}-d_{x})) a_{x} i - ((a_{x}-b_{x})*(c_{y}-d_{y})-(a_{y}-b_{y})*(c_{x}-d_{x})) a_{y} - ((a_{x}-b_{x})*(c_{y}-d_{y})-(a_{y}-b_{y})*(c_{x}-d_{x})) c_{x} i t_{2} - ((a_{x}-b_{x})*(c_{y}-d_{y})-(a_{y}-b_{y})*(c_{x}-d_{x})) c_{y} t_{2} + ((a_{x}-b_{x})*(c_{y}-d_{y})-(a_{y}-b_{y})*(c_{x}-d_{x})) d_{x} i t_{2} + ((a_{x}-b_{x})*(c_{y}-d_{y})-(a_{y}-b_{y})*(c_{x}-d_{x})) d_{x} i + ((a_{x}-b_{x})*(c_{y}-d_{y})-(a_{y}-b_{y})*(c_{x}-d_{x})) d_{y} t_{2} + ((a_{x}-b_{x})*(c_{y}-d_{y})-(a_{y}-b_{y})*(c_{x}-d_{x})) d_{y} - ((a_{x}-b_{x})*(c_{y}-d_{y})-(a_{y}-b_{y})*(c_{x}-d_{x})) h_{x} i - ((a_{x}-b_{x})*(c_{z}-d_{z})-(a_{z}-b_{z})*(c_{x}-d_{x})) a_{x} i - ((a_{x}-b_{x})*(c_{z}-d_{z})-(a_{z}-b_{z})*(c_{x}-d_{x})) a_{z} - ((a_{x}-b_{x})*(c_{z}-d_{z})-(a_{z}-b_{z})*(c_{x}-d_{x})) c_{x} i t_{2} - ((a_{x}-b_{x})*(c_{z}-d_{z})-(a_{z}-b_{z})*(c_{x}-d_{x})) c_{z} t_{2} + ((a_{x}-b_{x})*(c_{z}-d_{z})-(a_{z}-b_{z})*(c_{x}-d_{x})) d_{x} i t_{2} + ((a_{x}-b_{x})*(c_{z}-d_{z})-(a_{z}-b_{z})*(c_{x}-d_{x})) d_{x} i + ((a_{x}-b_{x})*(c_{z}-d_{z})-(a_{z}-b_{z})*(c_{x}-d_{x})) d_{z} t_{2} + ((a_{x}-b_{x})*(c_{z}-d_{z})-(a_{z}-b_{z})*(c_{x}-d_{x})) d_{z} - ((a_{x}-b_{x})*(c_{z}-d_{z})-(a_{z}-b_{z})*(c_{x}-d_{x})) h_{x} i\\right)}{((a_{x}-b_{x})*(c_{y}-d_{y})-(a_{y}-b_{y})*(c_{x}-d_{x})) a_{x} i + ((a_{x}-b_{x})*(c_{y}-d_{y})-(a_{y}-b_{y})*(c_{x}-d_{x})) a_{y} - ((a_{x}-b_{x})*(c_{y}-d_{y})-(a_{y}-b_{y})*(c_{x}-d_{x})) b_{x} i - ((a_{x}-b_{x})*(c_{y}-d_{y})-(a_{y}-b_{y})*(c_{x}-d_{x})) b_{y} + ((a_{x}-b_{x})*(c_{z}-d_{z})-(a_{z}-b_{z})*(c_{x}-d_{x})) a_{x} i + ((a_{x}-b_{x})*(c_{z}-d_{z})-(a_{z}-b_{z})*(c_{x}-d_{x})) a_{z} - ((a_{x}-b_{x})*(c_{z}-d_{z})-(a_{z}-b_{z})*(c_{x}-d_{x})) b_{x} i - ((a_{x}-b_{x})*(c_{z}-d_{z})-(a_{z}-b_{z})*(c_{x}-d_{x})) b_{z}} + \\frac{b_{z} \\left(- ((a_{x}-b_{x})*(c_{y}-d_{y})-(a_{y}-b_{y})*(c_{x}-d_{x})) a_{x} i - ((a_{x}-b_{x})*(c_{y}-d_{y})-(a_{y}-b_{y})*(c_{x}-d_{x})) a_{y} - ((a_{x}-b_{x})*(c_{y}-d_{y})-(a_{y}-b_{y})*(c_{x}-d_{x})) c_{x} i t_{2} - ((a_{x}-b_{x})*(c_{y}-d_{y})-(a_{y}-b_{y})*(c_{x}-d_{x})) c_{y} t_{2} + ((a_{x}-b_{x})*(c_{y}-d_{y})-(a_{y}-b_{y})*(c_{x}-d_{x})) d_{x} i t_{2} + ((a_{x}-b_{x})*(c_{y}-d_{y})-(a_{y}-b_{y})*(c_{x}-d_{x})) d_{x} i + ((a_{x}-b_{x})*(c_{y}-d_{y})-(a_{y}-b_{y})*(c_{x}-d_{x})) d_{y} t_{2} + ((a_{x}-b_{x})*(c_{y}-d_{y})-(a_{y}-b_{y})*(c_{x}-d_{x})) d_{y} - ((a_{x}-b_{x})*(c_{y}-d_{y})-(a_{y}-b_{y})*(c_{x}-d_{x})) h_{x} i - ((a_{x}-b_{x})*(c_{z}-d_{z})-(a_{z}-b_{z})*(c_{x}-d_{x})) a_{x} i - ((a_{x}-b_{x})*(c_{z}-d_{z})-(a_{z}-b_{z})*(c_{x}-d_{x})) a_{z} - ((a_{x}-b_{x})*(c_{z}-d_{z})-(a_{z}-b_{z})*(c_{x}-d_{x})) c_{x} i t_{2} - ((a_{x}-b_{x})*(c_{z}-d_{z})-(a_{z}-b_{z})*(c_{x}-d_{x})) c_{z} t_{2} + ((a_{x}-b_{x})*(c_{z}-d_{z})-(a_{z}-b_{z})*(c_{x}-d_{x})) d_{x} i t_{2} + ((a_{x}-b_{x})*(c_{z}-d_{z})-(a_{z}-b_{z})*(c_{x}-d_{x})) d_{x} i + ((a_{x}-b_{x})*(c_{z}-d_{z})-(a_{z}-b_{z})*(c_{x}-d_{x})) d_{z} t_{2} + ((a_{x}-b_{x})*(c_{z}-d_{z})-(a_{z}-b_{z})*(c_{x}-d_{x})) d_{z} - ((a_{x}-b_{x})*(c_{z}-d_{z})-(a_{z}-b_{z})*(c_{x}-d_{x})) h_{x} i\\right)}{((a_{x}-b_{x})*(c_{y}-d_{y})-(a_{y}-b_{y})*(c_{x}-d_{x})) a_{x} i + ((a_{x}-b_{x})*(c_{y}-d_{y})-(a_{y}-b_{y})*(c_{x}-d_{x})) a_{y} - ((a_{x}-b_{x})*(c_{y}-d_{y})-(a_{y}-b_{y})*(c_{x}-d_{x})) b_{x} i - ((a_{x}-b_{x})*(c_{y}-d_{y})-(a_{y}-b_{y})*(c_{x}-d_{x})) b_{y} + ((a_{x}-b_{x})*(c_{z}-d_{z})-(a_{z}-b_{z})*(c_{x}-d_{x})) a_{x} i + ((a_{x}-b_{x})*(c_{z}-d_{z})-(a_{z}-b_{z})*(c_{x}-d_{x})) a_{z} - ((a_{x}-b_{x})*(c_{z}-d_{z})-(a_{z}-b_{z})*(c_{x}-d_{x})) b_{x} i - ((a_{x}-b_{x})*(c_{z}-d_{z})-(a_{z}-b_{z})*(c_{x}-d_{x})) b_{z}} - c_{x} i t_{2} - c_{z} t_{2} + d_{x} i t_{2} + d_{x} i + d_{z} t_{2} + d_{z} - h_{x} i\\right) + (-(a_{x}-b_{x})*(c_{y}-d_{y})+(a_{y}-b_{y})*(c_{x}-d_{x})) \\left(- a_{x} - \\frac{a_{x} \\left(- ((a_{x}-b_{x})*(c_{y}-d_{y})-(a_{y}-b_{y})*(c_{x}-d_{x})) a_{x} i - ((a_{x}-b_{x})*(c_{y}-d_{y})-(a_{y}-b_{y})*(c_{x}-d_{x})) a_{y} - ((a_{x}-b_{x})*(c_{y}-d_{y})-(a_{y}-b_{y})*(c_{x}-d_{x})) c_{x} i t_{2} - ((a_{x}-b_{x})*(c_{y}-d_{y})-(a_{y}-b_{y})*(c_{x}-d_{x})) c_{y} t_{2} + ((a_{x}-b_{x})*(c_{y}-d_{y})-(a_{y}-b_{y})*(c_{x}-d_{x})) d_{x} i t_{2} + ((a_{x}-b_{x})*(c_{y}-d_{y})-(a_{y}-b_{y})*(c_{x}-d_{x})) d_{x} i + ((a_{x}-b_{x})*(c_{y}-d_{y})-(a_{y}-b_{y})*(c_{x}-d_{x})) d_{y} t_{2} + ((a_{x}-b_{x})*(c_{y}-d_{y})-(a_{y}-b_{y})*(c_{x}-d_{x})) d_{y} - ((a_{x}-b_{x})*(c_{y}-d_{y})-(a_{y}-b_{y})*(c_{x}-d_{x})) h_{x} i - ((a_{x}-b_{x})*(c_{z}-d_{z})-(a_{z}-b_{z})*(c_{x}-d_{x})) a_{x} i - ((a_{x}-b_{x})*(c_{z}-d_{z})-(a_{z}-b_{z})*(c_{x}-d_{x})) a_{z} - ((a_{x}-b_{x})*(c_{z}-d_{z})-(a_{z}-b_{z})*(c_{x}-d_{x})) c_{x} i t_{2} - ((a_{x}-b_{x})*(c_{z}-d_{z})-(a_{z}-b_{z})*(c_{x}-d_{x})) c_{z} t_{2} + ((a_{x}-b_{x})*(c_{z}-d_{z})-(a_{z}-b_{z})*(c_{x}-d_{x})) d_{x} i t_{2} + ((a_{x}-b_{x})*(c_{z}-d_{z})-(a_{z}-b_{z})*(c_{x}-d_{x})) d_{x} i + ((a_{x}-b_{x})*(c_{z}-d_{z})-(a_{z}-b_{z})*(c_{x}-d_{x})) d_{z} t_{2} + ((a_{x}-b_{x})*(c_{z}-d_{z})-(a_{z}-b_{z})*(c_{x}-d_{x})) d_{z} - ((a_{x}-b_{x})*(c_{z}-d_{z})-(a_{z}-b_{z})*(c_{x}-d_{x})) h_{x} i\\right)}{((a_{x}-b_{x})*(c_{y}-d_{y})-(a_{y}-b_{y})*(c_{x}-d_{x})) a_{x} i + ((a_{x}-b_{x})*(c_{y}-d_{y})-(a_{y}-b_{y})*(c_{x}-d_{x})) a_{y} - ((a_{x}-b_{x})*(c_{y}-d_{y})-(a_{y}-b_{y})*(c_{x}-d_{x})) b_{x} i - ((a_{x}-b_{x})*(c_{y}-d_{y})-(a_{y}-b_{y})*(c_{x}-d_{x})) b_{y} + ((a_{x}-b_{x})*(c_{z}-d_{z})-(a_{z}-b_{z})*(c_{x}-d_{x})) a_{x} i + ((a_{x}-b_{x})*(c_{z}-d_{z})-(a_{z}-b_{z})*(c_{x}-d_{x})) a_{z} - ((a_{x}-b_{x})*(c_{z}-d_{z})-(a_{z}-b_{z})*(c_{x}-d_{x})) b_{x} i - ((a_{x}-b_{x})*(c_{z}-d_{z})-(a_{z}-b_{z})*(c_{x}-d_{x})) b_{z}} + \\frac{b_{x} \\left(- ((a_{x}-b_{x})*(c_{y}-d_{y})-(a_{y}-b_{y})*(c_{x}-d_{x})) a_{x} i - ((a_{x}-b_{x})*(c_{y}-d_{y})-(a_{y}-b_{y})*(c_{x}-d_{x})) a_{y} - ((a_{x}-b_{x})*(c_{y}-d_{y})-(a_{y}-b_{y})*(c_{x}-d_{x})) c_{x} i t_{2} - ((a_{x}-b_{x})*(c_{y}-d_{y})-(a_{y}-b_{y})*(c_{x}-d_{x})) c_{y} t_{2} + ((a_{x}-b_{x})*(c_{y}-d_{y})-(a_{y}-b_{y})*(c_{x}-d_{x})) d_{x} i t_{2} + ((a_{x}-b_{x})*(c_{y}-d_{y})-(a_{y}-b_{y})*(c_{x}-d_{x})) d_{x} i + ((a_{x}-b_{x})*(c_{y}-d_{y})-(a_{y}-b_{y})*(c_{x}-d_{x})) d_{y} t_{2} + ((a_{x}-b_{x})*(c_{y}-d_{y})-(a_{y}-b_{y})*(c_{x}-d_{x})) d_{y} - ((a_{x}-b_{x})*(c_{y}-d_{y})-(a_{y}-b_{y})*(c_{x}-d_{x})) h_{x} i - ((a_{x}-b_{x})*(c_{z}-d_{z})-(a_{z}-b_{z})*(c_{x}-d_{x})) a_{x} i - ((a_{x}-b_{x})*(c_{z}-d_{z})-(a_{z}-b_{z})*(c_{x}-d_{x})) a_{z} - ((a_{x}-b_{x})*(c_{z}-d_{z})-(a_{z}-b_{z})*(c_{x}-d_{x})) c_{x} i t_{2} - ((a_{x}-b_{x})*(c_{z}-d_{z})-(a_{z}-b_{z})*(c_{x}-d_{x})) c_{z} t_{2} + ((a_{x}-b_{x})*(c_{z}-d_{z})-(a_{z}-b_{z})*(c_{x}-d_{x})) d_{x} i t_{2} + ((a_{x}-b_{x})*(c_{z}-d_{z})-(a_{z}-b_{z})*(c_{x}-d_{x})) d_{x} i + ((a_{x}-b_{x})*(c_{z}-d_{z})-(a_{z}-b_{z})*(c_{x}-d_{x})) d_{z} t_{2} + ((a_{x}-b_{x})*(c_{z}-d_{z})-(a_{z}-b_{z})*(c_{x}-d_{x})) d_{z} - ((a_{x}-b_{x})*(c_{z}-d_{z})-(a_{z}-b_{z})*(c_{x}-d_{x})) h_{x} i\\right)}{((a_{x}-b_{x})*(c_{y}-d_{y})-(a_{y}-b_{y})*(c_{x}-d_{x})) a_{x} i + ((a_{x}-b_{x})*(c_{y}-d_{y})-(a_{y}-b_{y})*(c_{x}-d_{x})) a_{y} - ((a_{x}-b_{x})*(c_{y}-d_{y})-(a_{y}-b_{y})*(c_{x}-d_{x})) b_{x} i - ((a_{x}-b_{x})*(c_{y}-d_{y})-(a_{y}-b_{y})*(c_{x}-d_{x})) b_{y} + ((a_{x}-b_{x})*(c_{z}-d_{z})-(a_{z}-b_{z})*(c_{x}-d_{x})) a_{x} i + ((a_{x}-b_{x})*(c_{z}-d_{z})-(a_{z}-b_{z})*(c_{x}-d_{x})) a_{z} - ((a_{x}-b_{x})*(c_{z}-d_{z})-(a_{z}-b_{z})*(c_{x}-d_{x})) b_{x} i - ((a_{x}-b_{x})*(c_{z}-d_{z})-(a_{z}-b_{z})*(c_{x}-d_{x})) b_{z}} - c_{x} t_{2} + d_{x} t_{2} + d_{x}\\right)$"
      ],
      "text/plain": [
       "((a_{y}-b_{y})*(c_{z}-d_{z})-(a_{z}-b_{z})*(c_{y}-d_{y}))*(-a_x*i - a_x*i*(-((a_{x}-b_{x})*(c_{y}-d_{y})-(a_{y}-b_{y})*(c_{x}-d_{x}))*a_x*i - ((a_{x}-b_{x})*(c_{y}-d_{y})-(a_{y}-b_{y})*(c_{x}-d_{x}))*a_y - ((a_{x}-b_{x})*(c_{y}-d_{y})-(a_{y}-b_{y})*(c_{x}-d_{x}))*c_x*i*t_2 - ((a_{x}-b_{x})*(c_{y}-d_{y})-(a_{y}-b_{y})*(c_{x}-d_{x}))*c_y*t_2 + ((a_{x}-b_{x})*(c_{y}-d_{y})-(a_{y}-b_{y})*(c_{x}-d_{x}))*d_x*i*t_2 + ((a_{x}-b_{x})*(c_{y}-d_{y})-(a_{y}-b_{y})*(c_{x}-d_{x}))*d_x*i + ((a_{x}-b_{x})*(c_{y}-d_{y})-(a_{y}-b_{y})*(c_{x}-d_{x}))*d_y*t_2 + ((a_{x}-b_{x})*(c_{y}-d_{y})-(a_{y}-b_{y})*(c_{x}-d_{x}))*d_y - ((a_{x}-b_{x})*(c_{y}-d_{y})-(a_{y}-b_{y})*(c_{x}-d_{x}))*h_x*i - ((a_{x}-b_{x})*(c_{z}-d_{z})-(a_{z}-b_{z})*(c_{x}-d_{x}))*a_x*i - ((a_{x}-b_{x})*(c_{z}-d_{z})-(a_{z}-b_{z})*(c_{x}-d_{x}))*a_z - ((a_{x}-b_{x})*(c_{z}-d_{z})-(a_{z}-b_{z})*(c_{x}-d_{x}))*c_x*i*t_2 - ((a_{x}-b_{x})*(c_{z}-d_{z})-(a_{z}-b_{z})*(c_{x}-d_{x}))*c_z*t_2 + ((a_{x}-b_{x})*(c_{z}-d_{z})-(a_{z}-b_{z})*(c_{x}-d_{x}))*d_x*i*t_2 + ((a_{x}-b_{x})*(c_{z}-d_{z})-(a_{z}-b_{z})*(c_{x}-d_{x}))*d_x*i + ((a_{x}-b_{x})*(c_{z}-d_{z})-(a_{z}-b_{z})*(c_{x}-d_{x}))*d_z*t_2 + ((a_{x}-b_{x})*(c_{z}-d_{z})-(a_{z}-b_{z})*(c_{x}-d_{x}))*d_z - ((a_{x}-b_{x})*(c_{z}-d_{z})-(a_{z}-b_{z})*(c_{x}-d_{x}))*h_x*i)/(((a_{x}-b_{x})*(c_{y}-d_{y})-(a_{y}-b_{y})*(c_{x}-d_{x}))*a_x*i + ((a_{x}-b_{x})*(c_{y}-d_{y})-(a_{y}-b_{y})*(c_{x}-d_{x}))*a_y - ((a_{x}-b_{x})*(c_{y}-d_{y})-(a_{y}-b_{y})*(c_{x}-d_{x}))*b_x*i - ((a_{x}-b_{x})*(c_{y}-d_{y})-(a_{y}-b_{y})*(c_{x}-d_{x}))*b_y + ((a_{x}-b_{x})*(c_{z}-d_{z})-(a_{z}-b_{z})*(c_{x}-d_{x}))*a_x*i + ((a_{x}-b_{x})*(c_{z}-d_{z})-(a_{z}-b_{z})*(c_{x}-d_{x}))*a_z - ((a_{x}-b_{x})*(c_{z}-d_{z})-(a_{z}-b_{z})*(c_{x}-d_{x}))*b_x*i - ((a_{x}-b_{x})*(c_{z}-d_{z})-(a_{z}-b_{z})*(c_{x}-d_{x}))*b_z) - a_z - a_z*(-((a_{x}-b_{x})*(c_{y}-d_{y})-(a_{y}-b_{y})*(c_{x}-d_{x}))*a_x*i - ((a_{x}-b_{x})*(c_{y}-d_{y})-(a_{y}-b_{y})*(c_{x}-d_{x}))*a_y - ((a_{x}-b_{x})*(c_{y}-d_{y})-(a_{y}-b_{y})*(c_{x}-d_{x}))*c_x*i*t_2 - ((a_{x}-b_{x})*(c_{y}-d_{y})-(a_{y}-b_{y})*(c_{x}-d_{x}))*c_y*t_2 + ((a_{x}-b_{x})*(c_{y}-d_{y})-(a_{y}-b_{y})*(c_{x}-d_{x}))*d_x*i*t_2 + ((a_{x}-b_{x})*(c_{y}-d_{y})-(a_{y}-b_{y})*(c_{x}-d_{x}))*d_x*i + ((a_{x}-b_{x})*(c_{y}-d_{y})-(a_{y}-b_{y})*(c_{x}-d_{x}))*d_y*t_2 + ((a_{x}-b_{x})*(c_{y}-d_{y})-(a_{y}-b_{y})*(c_{x}-d_{x}))*d_y - ((a_{x}-b_{x})*(c_{y}-d_{y})-(a_{y}-b_{y})*(c_{x}-d_{x}))*h_x*i - ((a_{x}-b_{x})*(c_{z}-d_{z})-(a_{z}-b_{z})*(c_{x}-d_{x}))*a_x*i - ((a_{x}-b_{x})*(c_{z}-d_{z})-(a_{z}-b_{z})*(c_{x}-d_{x}))*a_z - ((a_{x}-b_{x})*(c_{z}-d_{z})-(a_{z}-b_{z})*(c_{x}-d_{x}))*c_x*i*t_2 - ((a_{x}-b_{x})*(c_{z}-d_{z})-(a_{z}-b_{z})*(c_{x}-d_{x}))*c_z*t_2 + ((a_{x}-b_{x})*(c_{z}-d_{z})-(a_{z}-b_{z})*(c_{x}-d_{x}))*d_x*i*t_2 + ((a_{x}-b_{x})*(c_{z}-d_{z})-(a_{z}-b_{z})*(c_{x}-d_{x}))*d_x*i + ((a_{x}-b_{x})*(c_{z}-d_{z})-(a_{z}-b_{z})*(c_{x}-d_{x}))*d_z*t_2 + ((a_{x}-b_{x})*(c_{z}-d_{z})-(a_{z}-b_{z})*(c_{x}-d_{x}))*d_z - ((a_{x}-b_{x})*(c_{z}-d_{z})-(a_{z}-b_{z})*(c_{x}-d_{x}))*h_x*i)/(((a_{x}-b_{x})*(c_{y}-d_{y})-(a_{y}-b_{y})*(c_{x}-d_{x}))*a_x*i + ((a_{x}-b_{x})*(c_{y}-d_{y})-(a_{y}-b_{y})*(c_{x}-d_{x}))*a_y - ((a_{x}-b_{x})*(c_{y}-d_{y})-(a_{y}-b_{y})*(c_{x}-d_{x}))*b_x*i - ((a_{x}-b_{x})*(c_{y}-d_{y})-(a_{y}-b_{y})*(c_{x}-d_{x}))*b_y + ((a_{x}-b_{x})*(c_{z}-d_{z})-(a_{z}-b_{z})*(c_{x}-d_{x}))*a_x*i + ((a_{x}-b_{x})*(c_{z}-d_{z})-(a_{z}-b_{z})*(c_{x}-d_{x}))*a_z - ((a_{x}-b_{x})*(c_{z}-d_{z})-(a_{z}-b_{z})*(c_{x}-d_{x}))*b_x*i - ((a_{x}-b_{x})*(c_{z}-d_{z})-(a_{z}-b_{z})*(c_{x}-d_{x}))*b_z) + b_x*i*(-((a_{x}-b_{x})*(c_{y}-d_{y})-(a_{y}-b_{y})*(c_{x}-d_{x}))*a_x*i - ((a_{x}-b_{x})*(c_{y}-d_{y})-(a_{y}-b_{y})*(c_{x}-d_{x}))*a_y - ((a_{x}-b_{x})*(c_{y}-d_{y})-(a_{y}-b_{y})*(c_{x}-d_{x}))*c_x*i*t_2 - ((a_{x}-b_{x})*(c_{y}-d_{y})-(a_{y}-b_{y})*(c_{x}-d_{x}))*c_y*t_2 + ((a_{x}-b_{x})*(c_{y}-d_{y})-(a_{y}-b_{y})*(c_{x}-d_{x}))*d_x*i*t_2 + ((a_{x}-b_{x})*(c_{y}-d_{y})-(a_{y}-b_{y})*(c_{x}-d_{x}))*d_x*i + ((a_{x}-b_{x})*(c_{y}-d_{y})-(a_{y}-b_{y})*(c_{x}-d_{x}))*d_y*t_2 + ((a_{x}-b_{x})*(c_{y}-d_{y})-(a_{y}-b_{y})*(c_{x}-d_{x}))*d_y - ((a_{x}-b_{x})*(c_{y}-d_{y})-(a_{y}-b_{y})*(c_{x}-d_{x}))*h_x*i - ((a_{x}-b_{x})*(c_{z}-d_{z})-(a_{z}-b_{z})*(c_{x}-d_{x}))*a_x*i - ((a_{x}-b_{x})*(c_{z}-d_{z})-(a_{z}-b_{z})*(c_{x}-d_{x}))*a_z - ((a_{x}-b_{x})*(c_{z}-d_{z})-(a_{z}-b_{z})*(c_{x}-d_{x}))*c_x*i*t_2 - ((a_{x}-b_{x})*(c_{z}-d_{z})-(a_{z}-b_{z})*(c_{x}-d_{x}))*c_z*t_2 + ((a_{x}-b_{x})*(c_{z}-d_{z})-(a_{z}-b_{z})*(c_{x}-d_{x}))*d_x*i*t_2 + ((a_{x}-b_{x})*(c_{z}-d_{z})-(a_{z}-b_{z})*(c_{x}-d_{x}))*d_x*i + ((a_{x}-b_{x})*(c_{z}-d_{z})-(a_{z}-b_{z})*(c_{x}-d_{x}))*d_z*t_2 + ((a_{x}-b_{x})*(c_{z}-d_{z})-(a_{z}-b_{z})*(c_{x}-d_{x}))*d_z - ((a_{x}-b_{x})*(c_{z}-d_{z})-(a_{z}-b_{z})*(c_{x}-d_{x}))*h_x*i)/(((a_{x}-b_{x})*(c_{y}-d_{y})-(a_{y}-b_{y})*(c_{x}-d_{x}))*a_x*i + ((a_{x}-b_{x})*(c_{y}-d_{y})-(a_{y}-b_{y})*(c_{x}-d_{x}))*a_y - ((a_{x}-b_{x})*(c_{y}-d_{y})-(a_{y}-b_{y})*(c_{x}-d_{x}))*b_x*i - ((a_{x}-b_{x})*(c_{y}-d_{y})-(a_{y}-b_{y})*(c_{x}-d_{x}))*b_y + ((a_{x}-b_{x})*(c_{z}-d_{z})-(a_{z}-b_{z})*(c_{x}-d_{x}))*a_x*i + ((a_{x}-b_{x})*(c_{z}-d_{z})-(a_{z}-b_{z})*(c_{x}-d_{x}))*a_z - ((a_{x}-b_{x})*(c_{z}-d_{z})-(a_{z}-b_{z})*(c_{x}-d_{x}))*b_x*i - ((a_{x}-b_{x})*(c_{z}-d_{z})-(a_{z}-b_{z})*(c_{x}-d_{x}))*b_z) + b_z*(-((a_{x}-b_{x})*(c_{y}-d_{y})-(a_{y}-b_{y})*(c_{x}-d_{x}))*a_x*i - ((a_{x}-b_{x})*(c_{y}-d_{y})-(a_{y}-b_{y})*(c_{x}-d_{x}))*a_y - ((a_{x}-b_{x})*(c_{y}-d_{y})-(a_{y}-b_{y})*(c_{x}-d_{x}))*c_x*i*t_2 - ((a_{x}-b_{x})*(c_{y}-d_{y})-(a_{y}-b_{y})*(c_{x}-d_{x}))*c_y*t_2 + ((a_{x}-b_{x})*(c_{y}-d_{y})-(a_{y}-b_{y})*(c_{x}-d_{x}))*d_x*i*t_2 + ((a_{x}-b_{x})*(c_{y}-d_{y})-(a_{y}-b_{y})*(c_{x}-d_{x}))*d_x*i + ((a_{x}-b_{x})*(c_{y}-d_{y})-(a_{y}-b_{y})*(c_{x}-d_{x}))*d_y*t_2 + ((a_{x}-b_{x})*(c_{y}-d_{y})-(a_{y}-b_{y})*(c_{x}-d_{x}))*d_y - ((a_{x}-b_{x})*(c_{y}-d_{y})-(a_{y}-b_{y})*(c_{x}-d_{x}))*h_x*i - ((a_{x}-b_{x})*(c_{z}-d_{z})-(a_{z}-b_{z})*(c_{x}-d_{x}))*a_x*i - ((a_{x}-b_{x})*(c_{z}-d_{z})-(a_{z}-b_{z})*(c_{x}-d_{x}))*a_z - ((a_{x}-b_{x})*(c_{z}-d_{z})-(a_{z}-b_{z})*(c_{x}-d_{x}))*c_x*i*t_2 - ((a_{x}-b_{x})*(c_{z}-d_{z})-(a_{z}-b_{z})*(c_{x}-d_{x}))*c_z*t_2 + ((a_{x}-b_{x})*(c_{z}-d_{z})-(a_{z}-b_{z})*(c_{x}-d_{x}))*d_x*i*t_2 + ((a_{x}-b_{x})*(c_{z}-d_{z})-(a_{z}-b_{z})*(c_{x}-d_{x}))*d_x*i + ((a_{x}-b_{x})*(c_{z}-d_{z})-(a_{z}-b_{z})*(c_{x}-d_{x}))*d_z*t_2 + ((a_{x}-b_{x})*(c_{z}-d_{z})-(a_{z}-b_{z})*(c_{x}-d_{x}))*d_z - ((a_{x}-b_{x})*(c_{z}-d_{z})-(a_{z}-b_{z})*(c_{x}-d_{x}))*h_x*i)/(((a_{x}-b_{x})*(c_{y}-d_{y})-(a_{y}-b_{y})*(c_{x}-d_{x}))*a_x*i + ((a_{x}-b_{x})*(c_{y}-d_{y})-(a_{y}-b_{y})*(c_{x}-d_{x}))*a_y - ((a_{x}-b_{x})*(c_{y}-d_{y})-(a_{y}-b_{y})*(c_{x}-d_{x}))*b_x*i - ((a_{x}-b_{x})*(c_{y}-d_{y})-(a_{y}-b_{y})*(c_{x}-d_{x}))*b_y + ((a_{x}-b_{x})*(c_{z}-d_{z})-(a_{z}-b_{z})*(c_{x}-d_{x}))*a_x*i + ((a_{x}-b_{x})*(c_{z}-d_{z})-(a_{z}-b_{z})*(c_{x}-d_{x}))*a_z - ((a_{x}-b_{x})*(c_{z}-d_{z})-(a_{z}-b_{z})*(c_{x}-d_{x}))*b_x*i - ((a_{x}-b_{x})*(c_{z}-d_{z})-(a_{z}-b_{z})*(c_{x}-d_{x}))*b_z) - c_x*i*t_2 - c_z*t_2 + d_x*i*t_2 + d_x*i + d_z*t_2 + d_z - h_x*i) + (-(a_{x}-b_{x})*(c_{y}-d_{y})+(a_{y}-b_{y})*(c_{x}-d_{x}))*(-a_x - a_x*(-((a_{x}-b_{x})*(c_{y}-d_{y})-(a_{y}-b_{y})*(c_{x}-d_{x}))*a_x*i - ((a_{x}-b_{x})*(c_{y}-d_{y})-(a_{y}-b_{y})*(c_{x}-d_{x}))*a_y - ((a_{x}-b_{x})*(c_{y}-d_{y})-(a_{y}-b_{y})*(c_{x}-d_{x}))*c_x*i*t_2 - ((a_{x}-b_{x})*(c_{y}-d_{y})-(a_{y}-b_{y})*(c_{x}-d_{x}))*c_y*t_2 + ((a_{x}-b_{x})*(c_{y}-d_{y})-(a_{y}-b_{y})*(c_{x}-d_{x}))*d_x*i*t_2 + ((a_{x}-b_{x})*(c_{y}-d_{y})-(a_{y}-b_{y})*(c_{x}-d_{x}))*d_x*i + ((a_{x}-b_{x})*(c_{y}-d_{y})-(a_{y}-b_{y})*(c_{x}-d_{x}))*d_y*t_2 + ((a_{x}-b_{x})*(c_{y}-d_{y})-(a_{y}-b_{y})*(c_{x}-d_{x}))*d_y - ((a_{x}-b_{x})*(c_{y}-d_{y})-(a_{y}-b_{y})*(c_{x}-d_{x}))*h_x*i - ((a_{x}-b_{x})*(c_{z}-d_{z})-(a_{z}-b_{z})*(c_{x}-d_{x}))*a_x*i - ((a_{x}-b_{x})*(c_{z}-d_{z})-(a_{z}-b_{z})*(c_{x}-d_{x}))*a_z - ((a_{x}-b_{x})*(c_{z}-d_{z})-(a_{z}-b_{z})*(c_{x}-d_{x}))*c_x*i*t_2 - ((a_{x}-b_{x})*(c_{z}-d_{z})-(a_{z}-b_{z})*(c_{x}-d_{x}))*c_z*t_2 + ((a_{x}-b_{x})*(c_{z}-d_{z})-(a_{z}-b_{z})*(c_{x}-d_{x}))*d_x*i*t_2 + ((a_{x}-b_{x})*(c_{z}-d_{z})-(a_{z}-b_{z})*(c_{x}-d_{x}))*d_x*i + ((a_{x}-b_{x})*(c_{z}-d_{z})-(a_{z}-b_{z})*(c_{x}-d_{x}))*d_z*t_2 + ((a_{x}-b_{x})*(c_{z}-d_{z})-(a_{z}-b_{z})*(c_{x}-d_{x}))*d_z - ((a_{x}-b_{x})*(c_{z}-d_{z})-(a_{z}-b_{z})*(c_{x}-d_{x}))*h_x*i)/(((a_{x}-b_{x})*(c_{y}-d_{y})-(a_{y}-b_{y})*(c_{x}-d_{x}))*a_x*i + ((a_{x}-b_{x})*(c_{y}-d_{y})-(a_{y}-b_{y})*(c_{x}-d_{x}))*a_y - ((a_{x}-b_{x})*(c_{y}-d_{y})-(a_{y}-b_{y})*(c_{x}-d_{x}))*b_x*i - ((a_{x}-b_{x})*(c_{y}-d_{y})-(a_{y}-b_{y})*(c_{x}-d_{x}))*b_y + ((a_{x}-b_{x})*(c_{z}-d_{z})-(a_{z}-b_{z})*(c_{x}-d_{x}))*a_x*i + ((a_{x}-b_{x})*(c_{z}-d_{z})-(a_{z}-b_{z})*(c_{x}-d_{x}))*a_z - ((a_{x}-b_{x})*(c_{z}-d_{z})-(a_{z}-b_{z})*(c_{x}-d_{x}))*b_x*i - ((a_{x}-b_{x})*(c_{z}-d_{z})-(a_{z}-b_{z})*(c_{x}-d_{x}))*b_z) + b_x*(-((a_{x}-b_{x})*(c_{y}-d_{y})-(a_{y}-b_{y})*(c_{x}-d_{x}))*a_x*i - ((a_{x}-b_{x})*(c_{y}-d_{y})-(a_{y}-b_{y})*(c_{x}-d_{x}))*a_y - ((a_{x}-b_{x})*(c_{y}-d_{y})-(a_{y}-b_{y})*(c_{x}-d_{x}))*c_x*i*t_2 - ((a_{x}-b_{x})*(c_{y}-d_{y})-(a_{y}-b_{y})*(c_{x}-d_{x}))*c_y*t_2 + ((a_{x}-b_{x})*(c_{y}-d_{y})-(a_{y}-b_{y})*(c_{x}-d_{x}))*d_x*i*t_2 + ((a_{x}-b_{x})*(c_{y}-d_{y})-(a_{y}-b_{y})*(c_{x}-d_{x}))*d_x*i + ((a_{x}-b_{x})*(c_{y}-d_{y})-(a_{y}-b_{y})*(c_{x}-d_{x}))*d_y*t_2 + ((a_{x}-b_{x})*(c_{y}-d_{y})-(a_{y}-b_{y})*(c_{x}-d_{x}))*d_y - ((a_{x}-b_{x})*(c_{y}-d_{y})-(a_{y}-b_{y})*(c_{x}-d_{x}))*h_x*i - ((a_{x}-b_{x})*(c_{z}-d_{z})-(a_{z}-b_{z})*(c_{x}-d_{x}))*a_x*i - ((a_{x}-b_{x})*(c_{z}-d_{z})-(a_{z}-b_{z})*(c_{x}-d_{x}))*a_z - ((a_{x}-b_{x})*(c_{z}-d_{z})-(a_{z}-b_{z})*(c_{x}-d_{x}))*c_x*i*t_2 - ((a_{x}-b_{x})*(c_{z}-d_{z})-(a_{z}-b_{z})*(c_{x}-d_{x}))*c_z*t_2 + ((a_{x}-b_{x})*(c_{z}-d_{z})-(a_{z}-b_{z})*(c_{x}-d_{x}))*d_x*i*t_2 + ((a_{x}-b_{x})*(c_{z}-d_{z})-(a_{z}-b_{z})*(c_{x}-d_{x}))*d_x*i + ((a_{x}-b_{x})*(c_{z}-d_{z})-(a_{z}-b_{z})*(c_{x}-d_{x}))*d_z*t_2 + ((a_{x}-b_{x})*(c_{z}-d_{z})-(a_{z}-b_{z})*(c_{x}-d_{x}))*d_z - ((a_{x}-b_{x})*(c_{z}-d_{z})-(a_{z}-b_{z})*(c_{x}-d_{x}))*h_x*i)/(((a_{x}-b_{x})*(c_{y}-d_{y})-(a_{y}-b_{y})*(c_{x}-d_{x}))*a_x*i + ((a_{x}-b_{x})*(c_{y}-d_{y})-(a_{y}-b_{y})*(c_{x}-d_{x}))*a_y - ((a_{x}-b_{x})*(c_{y}-d_{y})-(a_{y}-b_{y})*(c_{x}-d_{x}))*b_x*i - ((a_{x}-b_{x})*(c_{y}-d_{y})-(a_{y}-b_{y})*(c_{x}-d_{x}))*b_y + ((a_{x}-b_{x})*(c_{z}-d_{z})-(a_{z}-b_{z})*(c_{x}-d_{x}))*a_x*i + ((a_{x}-b_{x})*(c_{z}-d_{z})-(a_{z}-b_{z})*(c_{x}-d_{x}))*a_z - ((a_{x}-b_{x})*(c_{z}-d_{z})-(a_{z}-b_{z})*(c_{x}-d_{x}))*b_x*i - ((a_{x}-b_{x})*(c_{z}-d_{z})-(a_{z}-b_{z})*(c_{x}-d_{x}))*b_z) - c_x*t_2 + d_x*t_2 + d_x)"
      ]
     },
     "execution_count": 315,
     "metadata": {},
     "output_type": "execute_result"
    }
   ],
   "source": [
    "main_eq = eqtt[1].subs({t1: solve(eqtt[0], [t1])[0]})\n",
    "main_eq"
   ]
  },
  {
   "cell_type": "code",
   "execution_count": 316,
   "metadata": {},
   "outputs": [],
   "source": [
    "res = solve(main_eq, [t2])"
   ]
  },
  {
   "cell_type": "code",
   "execution_count": 317,
   "metadata": {},
   "outputs": [
    {
     "data": {
      "text/latex": [
       "$\\displaystyle \\frac{- ((a_{x}-b_{x})*(c_{y}-d_{y})-(a_{y}-b_{y})*(c_{x}-d_{x})) ((a_{y}-b_{y})*(c_{z}-d_{z})-(a_{z}-b_{z})*(c_{y}-d_{y})) a_{x} b_{y} i + ((a_{x}-b_{x})*(c_{y}-d_{y})-(a_{y}-b_{y})*(c_{x}-d_{x})) ((a_{y}-b_{y})*(c_{z}-d_{z})-(a_{z}-b_{z})*(c_{y}-d_{y})) a_{x} b_{z} i + ((a_{x}-b_{x})*(c_{y}-d_{y})-(a_{y}-b_{y})*(c_{x}-d_{x})) ((a_{y}-b_{y})*(c_{z}-d_{z})-(a_{z}-b_{z})*(c_{y}-d_{y})) a_{x} d_{y} i - ((a_{x}-b_{x})*(c_{y}-d_{y})-(a_{y}-b_{y})*(c_{x}-d_{x})) ((a_{y}-b_{y})*(c_{z}-d_{z})-(a_{z}-b_{z})*(c_{y}-d_{y})) a_{x} d_{z} i + ((a_{x}-b_{x})*(c_{y}-d_{y})-(a_{y}-b_{y})*(c_{x}-d_{x})) ((a_{y}-b_{y})*(c_{z}-d_{z})-(a_{z}-b_{z})*(c_{y}-d_{y})) a_{y} b_{x} i + ((a_{x}-b_{x})*(c_{y}-d_{y})-(a_{y}-b_{y})*(c_{x}-d_{x})) ((a_{y}-b_{y})*(c_{z}-d_{z})-(a_{z}-b_{z})*(c_{y}-d_{y})) a_{y} b_{z} - ((a_{x}-b_{x})*(c_{y}-d_{y})-(a_{y}-b_{y})*(c_{x}-d_{x})) ((a_{y}-b_{y})*(c_{z}-d_{z})-(a_{z}-b_{z})*(c_{y}-d_{y})) a_{y} d_{x} i - ((a_{x}-b_{x})*(c_{y}-d_{y})-(a_{y}-b_{y})*(c_{x}-d_{x})) ((a_{y}-b_{y})*(c_{z}-d_{z})-(a_{z}-b_{z})*(c_{y}-d_{y})) a_{y} d_{z} + ((a_{x}-b_{x})*(c_{y}-d_{y})-(a_{y}-b_{y})*(c_{x}-d_{x})) ((a_{y}-b_{y})*(c_{z}-d_{z})-(a_{z}-b_{z})*(c_{y}-d_{y})) a_{y} h_{x} i - ((a_{x}-b_{x})*(c_{y}-d_{y})-(a_{y}-b_{y})*(c_{x}-d_{x})) ((a_{y}-b_{y})*(c_{z}-d_{z})-(a_{z}-b_{z})*(c_{y}-d_{y})) a_{z} b_{x} i - ((a_{x}-b_{x})*(c_{y}-d_{y})-(a_{y}-b_{y})*(c_{x}-d_{x})) ((a_{y}-b_{y})*(c_{z}-d_{z})-(a_{z}-b_{z})*(c_{y}-d_{y})) a_{z} b_{y} + ((a_{x}-b_{x})*(c_{y}-d_{y})-(a_{y}-b_{y})*(c_{x}-d_{x})) ((a_{y}-b_{y})*(c_{z}-d_{z})-(a_{z}-b_{z})*(c_{y}-d_{y})) a_{z} d_{x} i + ((a_{x}-b_{x})*(c_{y}-d_{y})-(a_{y}-b_{y})*(c_{x}-d_{x})) ((a_{y}-b_{y})*(c_{z}-d_{z})-(a_{z}-b_{z})*(c_{y}-d_{y})) a_{z} d_{y} - ((a_{x}-b_{x})*(c_{y}-d_{y})-(a_{y}-b_{y})*(c_{x}-d_{x})) ((a_{y}-b_{y})*(c_{z}-d_{z})-(a_{z}-b_{z})*(c_{y}-d_{y})) a_{z} h_{x} i - ((a_{x}-b_{x})*(c_{y}-d_{y})-(a_{y}-b_{y})*(c_{x}-d_{x})) ((a_{y}-b_{y})*(c_{z}-d_{z})-(a_{z}-b_{z})*(c_{y}-d_{y})) b_{x} d_{y} i + ((a_{x}-b_{x})*(c_{y}-d_{y})-(a_{y}-b_{y})*(c_{x}-d_{x})) ((a_{y}-b_{y})*(c_{z}-d_{z})-(a_{z}-b_{z})*(c_{y}-d_{y})) b_{x} d_{z} i + ((a_{x}-b_{x})*(c_{y}-d_{y})-(a_{y}-b_{y})*(c_{x}-d_{x})) ((a_{y}-b_{y})*(c_{z}-d_{z})-(a_{z}-b_{z})*(c_{y}-d_{y})) b_{y} d_{x} i + ((a_{x}-b_{x})*(c_{y}-d_{y})-(a_{y}-b_{y})*(c_{x}-d_{x})) ((a_{y}-b_{y})*(c_{z}-d_{z})-(a_{z}-b_{z})*(c_{y}-d_{y})) b_{y} d_{z} - ((a_{x}-b_{x})*(c_{y}-d_{y})-(a_{y}-b_{y})*(c_{x}-d_{x})) ((a_{y}-b_{y})*(c_{z}-d_{z})-(a_{z}-b_{z})*(c_{y}-d_{y})) b_{y} h_{x} i - ((a_{x}-b_{x})*(c_{y}-d_{y})-(a_{y}-b_{y})*(c_{x}-d_{x})) ((a_{y}-b_{y})*(c_{z}-d_{z})-(a_{z}-b_{z})*(c_{y}-d_{y})) b_{z} d_{x} i - ((a_{x}-b_{x})*(c_{y}-d_{y})-(a_{y}-b_{y})*(c_{x}-d_{x})) ((a_{y}-b_{y})*(c_{z}-d_{z})-(a_{z}-b_{z})*(c_{y}-d_{y})) b_{z} d_{y} + ((a_{x}-b_{x})*(c_{y}-d_{y})-(a_{y}-b_{y})*(c_{x}-d_{x})) ((a_{y}-b_{y})*(c_{z}-d_{z})-(a_{z}-b_{z})*(c_{y}-d_{y})) b_{z} h_{x} i - ((a_{x}-b_{x})*(c_{y}-d_{y})-(a_{y}-b_{y})*(c_{x}-d_{x})) (-(a_{x}-b_{x})*(c_{y}-d_{y})+(a_{y}-b_{y})*(c_{x}-d_{x})) a_{x} b_{y} + ((a_{x}-b_{x})*(c_{y}-d_{y})-(a_{y}-b_{y})*(c_{x}-d_{x})) (-(a_{x}-b_{x})*(c_{y}-d_{y})+(a_{y}-b_{y})*(c_{x}-d_{x})) a_{x} d_{y} - ((a_{x}-b_{x})*(c_{y}-d_{y})-(a_{y}-b_{y})*(c_{x}-d_{x})) (-(a_{x}-b_{x})*(c_{y}-d_{y})+(a_{y}-b_{y})*(c_{x}-d_{x})) a_{x} h_{x} i + ((a_{x}-b_{x})*(c_{y}-d_{y})-(a_{y}-b_{y})*(c_{x}-d_{x})) (-(a_{x}-b_{x})*(c_{y}-d_{y})+(a_{y}-b_{y})*(c_{x}-d_{x})) a_{y} b_{x} - ((a_{x}-b_{x})*(c_{y}-d_{y})-(a_{y}-b_{y})*(c_{x}-d_{x})) (-(a_{x}-b_{x})*(c_{y}-d_{y})+(a_{y}-b_{y})*(c_{x}-d_{x})) a_{y} d_{x} - ((a_{x}-b_{x})*(c_{y}-d_{y})-(a_{y}-b_{y})*(c_{x}-d_{x})) (-(a_{x}-b_{x})*(c_{y}-d_{y})+(a_{y}-b_{y})*(c_{x}-d_{x})) b_{x} d_{y} + ((a_{x}-b_{x})*(c_{y}-d_{y})-(a_{y}-b_{y})*(c_{x}-d_{x})) (-(a_{x}-b_{x})*(c_{y}-d_{y})+(a_{y}-b_{y})*(c_{x}-d_{x})) b_{x} h_{x} i + ((a_{x}-b_{x})*(c_{y}-d_{y})-(a_{y}-b_{y})*(c_{x}-d_{x})) (-(a_{x}-b_{x})*(c_{y}-d_{y})+(a_{y}-b_{y})*(c_{x}-d_{x})) b_{y} d_{x} - ((a_{x}-b_{x})*(c_{z}-d_{z})-(a_{z}-b_{z})*(c_{x}-d_{x})) (-(a_{x}-b_{x})*(c_{y}-d_{y})+(a_{y}-b_{y})*(c_{x}-d_{x})) a_{x} b_{z} + ((a_{x}-b_{x})*(c_{z}-d_{z})-(a_{z}-b_{z})*(c_{x}-d_{x})) (-(a_{x}-b_{x})*(c_{y}-d_{y})+(a_{y}-b_{y})*(c_{x}-d_{x})) a_{x} d_{z} - ((a_{x}-b_{x})*(c_{z}-d_{z})-(a_{z}-b_{z})*(c_{x}-d_{x})) (-(a_{x}-b_{x})*(c_{y}-d_{y})+(a_{y}-b_{y})*(c_{x}-d_{x})) a_{x} h_{x} i + ((a_{x}-b_{x})*(c_{z}-d_{z})-(a_{z}-b_{z})*(c_{x}-d_{x})) (-(a_{x}-b_{x})*(c_{y}-d_{y})+(a_{y}-b_{y})*(c_{x}-d_{x})) a_{z} b_{x} - ((a_{x}-b_{x})*(c_{z}-d_{z})-(a_{z}-b_{z})*(c_{x}-d_{x})) (-(a_{x}-b_{x})*(c_{y}-d_{y})+(a_{y}-b_{y})*(c_{x}-d_{x})) a_{z} d_{x} - ((a_{x}-b_{x})*(c_{z}-d_{z})-(a_{z}-b_{z})*(c_{x}-d_{x})) (-(a_{x}-b_{x})*(c_{y}-d_{y})+(a_{y}-b_{y})*(c_{x}-d_{x})) b_{x} d_{z} + ((a_{x}-b_{x})*(c_{z}-d_{z})-(a_{z}-b_{z})*(c_{x}-d_{x})) (-(a_{x}-b_{x})*(c_{y}-d_{y})+(a_{y}-b_{y})*(c_{x}-d_{x})) b_{x} h_{x} i + ((a_{x}-b_{x})*(c_{z}-d_{z})-(a_{z}-b_{z})*(c_{x}-d_{x})) (-(a_{x}-b_{x})*(c_{y}-d_{y})+(a_{y}-b_{y})*(c_{x}-d_{x})) b_{z} d_{x}}{((a_{x}-b_{x})*(c_{y}-d_{y})-(a_{y}-b_{y})*(c_{x}-d_{x})) ((a_{y}-b_{y})*(c_{z}-d_{z})-(a_{z}-b_{z})*(c_{y}-d_{y})) a_{x} c_{y} i - ((a_{x}-b_{x})*(c_{y}-d_{y})-(a_{y}-b_{y})*(c_{x}-d_{x})) ((a_{y}-b_{y})*(c_{z}-d_{z})-(a_{z}-b_{z})*(c_{y}-d_{y})) a_{x} c_{z} i - ((a_{x}-b_{x})*(c_{y}-d_{y})-(a_{y}-b_{y})*(c_{x}-d_{x})) ((a_{y}-b_{y})*(c_{z}-d_{z})-(a_{z}-b_{z})*(c_{y}-d_{y})) a_{x} d_{y} i + ((a_{x}-b_{x})*(c_{y}-d_{y})-(a_{y}-b_{y})*(c_{x}-d_{x})) ((a_{y}-b_{y})*(c_{z}-d_{z})-(a_{z}-b_{z})*(c_{y}-d_{y})) a_{x} d_{z} i - ((a_{x}-b_{x})*(c_{y}-d_{y})-(a_{y}-b_{y})*(c_{x}-d_{x})) ((a_{y}-b_{y})*(c_{z}-d_{z})-(a_{z}-b_{z})*(c_{y}-d_{y})) a_{y} c_{x} i - ((a_{x}-b_{x})*(c_{y}-d_{y})-(a_{y}-b_{y})*(c_{x}-d_{x})) ((a_{y}-b_{y})*(c_{z}-d_{z})-(a_{z}-b_{z})*(c_{y}-d_{y})) a_{y} c_{z} + ((a_{x}-b_{x})*(c_{y}-d_{y})-(a_{y}-b_{y})*(c_{x}-d_{x})) ((a_{y}-b_{y})*(c_{z}-d_{z})-(a_{z}-b_{z})*(c_{y}-d_{y})) a_{y} d_{x} i + ((a_{x}-b_{x})*(c_{y}-d_{y})-(a_{y}-b_{y})*(c_{x}-d_{x})) ((a_{y}-b_{y})*(c_{z}-d_{z})-(a_{z}-b_{z})*(c_{y}-d_{y})) a_{y} d_{z} + ((a_{x}-b_{x})*(c_{y}-d_{y})-(a_{y}-b_{y})*(c_{x}-d_{x})) ((a_{y}-b_{y})*(c_{z}-d_{z})-(a_{z}-b_{z})*(c_{y}-d_{y})) a_{z} c_{x} i + ((a_{x}-b_{x})*(c_{y}-d_{y})-(a_{y}-b_{y})*(c_{x}-d_{x})) ((a_{y}-b_{y})*(c_{z}-d_{z})-(a_{z}-b_{z})*(c_{y}-d_{y})) a_{z} c_{y} - ((a_{x}-b_{x})*(c_{y}-d_{y})-(a_{y}-b_{y})*(c_{x}-d_{x})) ((a_{y}-b_{y})*(c_{z}-d_{z})-(a_{z}-b_{z})*(c_{y}-d_{y})) a_{z} d_{x} i - ((a_{x}-b_{x})*(c_{y}-d_{y})-(a_{y}-b_{y})*(c_{x}-d_{x})) ((a_{y}-b_{y})*(c_{z}-d_{z})-(a_{z}-b_{z})*(c_{y}-d_{y})) a_{z} d_{y} - ((a_{x}-b_{x})*(c_{y}-d_{y})-(a_{y}-b_{y})*(c_{x}-d_{x})) ((a_{y}-b_{y})*(c_{z}-d_{z})-(a_{z}-b_{z})*(c_{y}-d_{y})) b_{x} c_{y} i + ((a_{x}-b_{x})*(c_{y}-d_{y})-(a_{y}-b_{y})*(c_{x}-d_{x})) ((a_{y}-b_{y})*(c_{z}-d_{z})-(a_{z}-b_{z})*(c_{y}-d_{y})) b_{x} c_{z} i + ((a_{x}-b_{x})*(c_{y}-d_{y})-(a_{y}-b_{y})*(c_{x}-d_{x})) ((a_{y}-b_{y})*(c_{z}-d_{z})-(a_{z}-b_{z})*(c_{y}-d_{y})) b_{x} d_{y} i - ((a_{x}-b_{x})*(c_{y}-d_{y})-(a_{y}-b_{y})*(c_{x}-d_{x})) ((a_{y}-b_{y})*(c_{z}-d_{z})-(a_{z}-b_{z})*(c_{y}-d_{y})) b_{x} d_{z} i + ((a_{x}-b_{x})*(c_{y}-d_{y})-(a_{y}-b_{y})*(c_{x}-d_{x})) ((a_{y}-b_{y})*(c_{z}-d_{z})-(a_{z}-b_{z})*(c_{y}-d_{y})) b_{y} c_{x} i + ((a_{x}-b_{x})*(c_{y}-d_{y})-(a_{y}-b_{y})*(c_{x}-d_{x})) ((a_{y}-b_{y})*(c_{z}-d_{z})-(a_{z}-b_{z})*(c_{y}-d_{y})) b_{y} c_{z} - ((a_{x}-b_{x})*(c_{y}-d_{y})-(a_{y}-b_{y})*(c_{x}-d_{x})) ((a_{y}-b_{y})*(c_{z}-d_{z})-(a_{z}-b_{z})*(c_{y}-d_{y})) b_{y} d_{x} i - ((a_{x}-b_{x})*(c_{y}-d_{y})-(a_{y}-b_{y})*(c_{x}-d_{x})) ((a_{y}-b_{y})*(c_{z}-d_{z})-(a_{z}-b_{z})*(c_{y}-d_{y})) b_{y} d_{z} - ((a_{x}-b_{x})*(c_{y}-d_{y})-(a_{y}-b_{y})*(c_{x}-d_{x})) ((a_{y}-b_{y})*(c_{z}-d_{z})-(a_{z}-b_{z})*(c_{y}-d_{y})) b_{z} c_{x} i - ((a_{x}-b_{x})*(c_{y}-d_{y})-(a_{y}-b_{y})*(c_{x}-d_{x})) ((a_{y}-b_{y})*(c_{z}-d_{z})-(a_{z}-b_{z})*(c_{y}-d_{y})) b_{z} c_{y} + ((a_{x}-b_{x})*(c_{y}-d_{y})-(a_{y}-b_{y})*(c_{x}-d_{x})) ((a_{y}-b_{y})*(c_{z}-d_{z})-(a_{z}-b_{z})*(c_{y}-d_{y})) b_{z} d_{x} i + ((a_{x}-b_{x})*(c_{y}-d_{y})-(a_{y}-b_{y})*(c_{x}-d_{x})) ((a_{y}-b_{y})*(c_{z}-d_{z})-(a_{z}-b_{z})*(c_{y}-d_{y})) b_{z} d_{y} + ((a_{x}-b_{x})*(c_{y}-d_{y})-(a_{y}-b_{y})*(c_{x}-d_{x})) (-(a_{x}-b_{x})*(c_{y}-d_{y})+(a_{y}-b_{y})*(c_{x}-d_{x})) a_{x} c_{y} - ((a_{x}-b_{x})*(c_{y}-d_{y})-(a_{y}-b_{y})*(c_{x}-d_{x})) (-(a_{x}-b_{x})*(c_{y}-d_{y})+(a_{y}-b_{y})*(c_{x}-d_{x})) a_{x} d_{y} - ((a_{x}-b_{x})*(c_{y}-d_{y})-(a_{y}-b_{y})*(c_{x}-d_{x})) (-(a_{x}-b_{x})*(c_{y}-d_{y})+(a_{y}-b_{y})*(c_{x}-d_{x})) a_{y} c_{x} + ((a_{x}-b_{x})*(c_{y}-d_{y})-(a_{y}-b_{y})*(c_{x}-d_{x})) (-(a_{x}-b_{x})*(c_{y}-d_{y})+(a_{y}-b_{y})*(c_{x}-d_{x})) a_{y} d_{x} - ((a_{x}-b_{x})*(c_{y}-d_{y})-(a_{y}-b_{y})*(c_{x}-d_{x})) (-(a_{x}-b_{x})*(c_{y}-d_{y})+(a_{y}-b_{y})*(c_{x}-d_{x})) b_{x} c_{y} + ((a_{x}-b_{x})*(c_{y}-d_{y})-(a_{y}-b_{y})*(c_{x}-d_{x})) (-(a_{x}-b_{x})*(c_{y}-d_{y})+(a_{y}-b_{y})*(c_{x}-d_{x})) b_{x} d_{y} + ((a_{x}-b_{x})*(c_{y}-d_{y})-(a_{y}-b_{y})*(c_{x}-d_{x})) (-(a_{x}-b_{x})*(c_{y}-d_{y})+(a_{y}-b_{y})*(c_{x}-d_{x})) b_{y} c_{x} - ((a_{x}-b_{x})*(c_{y}-d_{y})-(a_{y}-b_{y})*(c_{x}-d_{x})) (-(a_{x}-b_{x})*(c_{y}-d_{y})+(a_{y}-b_{y})*(c_{x}-d_{x})) b_{y} d_{x} + ((a_{x}-b_{x})*(c_{z}-d_{z})-(a_{z}-b_{z})*(c_{x}-d_{x})) (-(a_{x}-b_{x})*(c_{y}-d_{y})+(a_{y}-b_{y})*(c_{x}-d_{x})) a_{x} c_{z} - ((a_{x}-b_{x})*(c_{z}-d_{z})-(a_{z}-b_{z})*(c_{x}-d_{x})) (-(a_{x}-b_{x})*(c_{y}-d_{y})+(a_{y}-b_{y})*(c_{x}-d_{x})) a_{x} d_{z} - ((a_{x}-b_{x})*(c_{z}-d_{z})-(a_{z}-b_{z})*(c_{x}-d_{x})) (-(a_{x}-b_{x})*(c_{y}-d_{y})+(a_{y}-b_{y})*(c_{x}-d_{x})) a_{z} c_{x} + ((a_{x}-b_{x})*(c_{z}-d_{z})-(a_{z}-b_{z})*(c_{x}-d_{x})) (-(a_{x}-b_{x})*(c_{y}-d_{y})+(a_{y}-b_{y})*(c_{x}-d_{x})) a_{z} d_{x} - ((a_{x}-b_{x})*(c_{z}-d_{z})-(a_{z}-b_{z})*(c_{x}-d_{x})) (-(a_{x}-b_{x})*(c_{y}-d_{y})+(a_{y}-b_{y})*(c_{x}-d_{x})) b_{x} c_{z} + ((a_{x}-b_{x})*(c_{z}-d_{z})-(a_{z}-b_{z})*(c_{x}-d_{x})) (-(a_{x}-b_{x})*(c_{y}-d_{y})+(a_{y}-b_{y})*(c_{x}-d_{x})) b_{x} d_{z} + ((a_{x}-b_{x})*(c_{z}-d_{z})-(a_{z}-b_{z})*(c_{x}-d_{x})) (-(a_{x}-b_{x})*(c_{y}-d_{y})+(a_{y}-b_{y})*(c_{x}-d_{x})) b_{z} c_{x} - ((a_{x}-b_{x})*(c_{z}-d_{z})-(a_{z}-b_{z})*(c_{x}-d_{x})) (-(a_{x}-b_{x})*(c_{y}-d_{y})+(a_{y}-b_{y})*(c_{x}-d_{x})) b_{z} d_{x}}$"
      ],
      "text/plain": [
       "(-((a_{x}-b_{x})*(c_{y}-d_{y})-(a_{y}-b_{y})*(c_{x}-d_{x}))*((a_{y}-b_{y})*(c_{z}-d_{z})-(a_{z}-b_{z})*(c_{y}-d_{y}))*a_x*b_y*i + ((a_{x}-b_{x})*(c_{y}-d_{y})-(a_{y}-b_{y})*(c_{x}-d_{x}))*((a_{y}-b_{y})*(c_{z}-d_{z})-(a_{z}-b_{z})*(c_{y}-d_{y}))*a_x*b_z*i + ((a_{x}-b_{x})*(c_{y}-d_{y})-(a_{y}-b_{y})*(c_{x}-d_{x}))*((a_{y}-b_{y})*(c_{z}-d_{z})-(a_{z}-b_{z})*(c_{y}-d_{y}))*a_x*d_y*i - ((a_{x}-b_{x})*(c_{y}-d_{y})-(a_{y}-b_{y})*(c_{x}-d_{x}))*((a_{y}-b_{y})*(c_{z}-d_{z})-(a_{z}-b_{z})*(c_{y}-d_{y}))*a_x*d_z*i + ((a_{x}-b_{x})*(c_{y}-d_{y})-(a_{y}-b_{y})*(c_{x}-d_{x}))*((a_{y}-b_{y})*(c_{z}-d_{z})-(a_{z}-b_{z})*(c_{y}-d_{y}))*a_y*b_x*i + ((a_{x}-b_{x})*(c_{y}-d_{y})-(a_{y}-b_{y})*(c_{x}-d_{x}))*((a_{y}-b_{y})*(c_{z}-d_{z})-(a_{z}-b_{z})*(c_{y}-d_{y}))*a_y*b_z - ((a_{x}-b_{x})*(c_{y}-d_{y})-(a_{y}-b_{y})*(c_{x}-d_{x}))*((a_{y}-b_{y})*(c_{z}-d_{z})-(a_{z}-b_{z})*(c_{y}-d_{y}))*a_y*d_x*i - ((a_{x}-b_{x})*(c_{y}-d_{y})-(a_{y}-b_{y})*(c_{x}-d_{x}))*((a_{y}-b_{y})*(c_{z}-d_{z})-(a_{z}-b_{z})*(c_{y}-d_{y}))*a_y*d_z + ((a_{x}-b_{x})*(c_{y}-d_{y})-(a_{y}-b_{y})*(c_{x}-d_{x}))*((a_{y}-b_{y})*(c_{z}-d_{z})-(a_{z}-b_{z})*(c_{y}-d_{y}))*a_y*h_x*i - ((a_{x}-b_{x})*(c_{y}-d_{y})-(a_{y}-b_{y})*(c_{x}-d_{x}))*((a_{y}-b_{y})*(c_{z}-d_{z})-(a_{z}-b_{z})*(c_{y}-d_{y}))*a_z*b_x*i - ((a_{x}-b_{x})*(c_{y}-d_{y})-(a_{y}-b_{y})*(c_{x}-d_{x}))*((a_{y}-b_{y})*(c_{z}-d_{z})-(a_{z}-b_{z})*(c_{y}-d_{y}))*a_z*b_y + ((a_{x}-b_{x})*(c_{y}-d_{y})-(a_{y}-b_{y})*(c_{x}-d_{x}))*((a_{y}-b_{y})*(c_{z}-d_{z})-(a_{z}-b_{z})*(c_{y}-d_{y}))*a_z*d_x*i + ((a_{x}-b_{x})*(c_{y}-d_{y})-(a_{y}-b_{y})*(c_{x}-d_{x}))*((a_{y}-b_{y})*(c_{z}-d_{z})-(a_{z}-b_{z})*(c_{y}-d_{y}))*a_z*d_y - ((a_{x}-b_{x})*(c_{y}-d_{y})-(a_{y}-b_{y})*(c_{x}-d_{x}))*((a_{y}-b_{y})*(c_{z}-d_{z})-(a_{z}-b_{z})*(c_{y}-d_{y}))*a_z*h_x*i - ((a_{x}-b_{x})*(c_{y}-d_{y})-(a_{y}-b_{y})*(c_{x}-d_{x}))*((a_{y}-b_{y})*(c_{z}-d_{z})-(a_{z}-b_{z})*(c_{y}-d_{y}))*b_x*d_y*i + ((a_{x}-b_{x})*(c_{y}-d_{y})-(a_{y}-b_{y})*(c_{x}-d_{x}))*((a_{y}-b_{y})*(c_{z}-d_{z})-(a_{z}-b_{z})*(c_{y}-d_{y}))*b_x*d_z*i + ((a_{x}-b_{x})*(c_{y}-d_{y})-(a_{y}-b_{y})*(c_{x}-d_{x}))*((a_{y}-b_{y})*(c_{z}-d_{z})-(a_{z}-b_{z})*(c_{y}-d_{y}))*b_y*d_x*i + ((a_{x}-b_{x})*(c_{y}-d_{y})-(a_{y}-b_{y})*(c_{x}-d_{x}))*((a_{y}-b_{y})*(c_{z}-d_{z})-(a_{z}-b_{z})*(c_{y}-d_{y}))*b_y*d_z - ((a_{x}-b_{x})*(c_{y}-d_{y})-(a_{y}-b_{y})*(c_{x}-d_{x}))*((a_{y}-b_{y})*(c_{z}-d_{z})-(a_{z}-b_{z})*(c_{y}-d_{y}))*b_y*h_x*i - ((a_{x}-b_{x})*(c_{y}-d_{y})-(a_{y}-b_{y})*(c_{x}-d_{x}))*((a_{y}-b_{y})*(c_{z}-d_{z})-(a_{z}-b_{z})*(c_{y}-d_{y}))*b_z*d_x*i - ((a_{x}-b_{x})*(c_{y}-d_{y})-(a_{y}-b_{y})*(c_{x}-d_{x}))*((a_{y}-b_{y})*(c_{z}-d_{z})-(a_{z}-b_{z})*(c_{y}-d_{y}))*b_z*d_y + ((a_{x}-b_{x})*(c_{y}-d_{y})-(a_{y}-b_{y})*(c_{x}-d_{x}))*((a_{y}-b_{y})*(c_{z}-d_{z})-(a_{z}-b_{z})*(c_{y}-d_{y}))*b_z*h_x*i - ((a_{x}-b_{x})*(c_{y}-d_{y})-(a_{y}-b_{y})*(c_{x}-d_{x}))*(-(a_{x}-b_{x})*(c_{y}-d_{y})+(a_{y}-b_{y})*(c_{x}-d_{x}))*a_x*b_y + ((a_{x}-b_{x})*(c_{y}-d_{y})-(a_{y}-b_{y})*(c_{x}-d_{x}))*(-(a_{x}-b_{x})*(c_{y}-d_{y})+(a_{y}-b_{y})*(c_{x}-d_{x}))*a_x*d_y - ((a_{x}-b_{x})*(c_{y}-d_{y})-(a_{y}-b_{y})*(c_{x}-d_{x}))*(-(a_{x}-b_{x})*(c_{y}-d_{y})+(a_{y}-b_{y})*(c_{x}-d_{x}))*a_x*h_x*i + ((a_{x}-b_{x})*(c_{y}-d_{y})-(a_{y}-b_{y})*(c_{x}-d_{x}))*(-(a_{x}-b_{x})*(c_{y}-d_{y})+(a_{y}-b_{y})*(c_{x}-d_{x}))*a_y*b_x - ((a_{x}-b_{x})*(c_{y}-d_{y})-(a_{y}-b_{y})*(c_{x}-d_{x}))*(-(a_{x}-b_{x})*(c_{y}-d_{y})+(a_{y}-b_{y})*(c_{x}-d_{x}))*a_y*d_x - ((a_{x}-b_{x})*(c_{y}-d_{y})-(a_{y}-b_{y})*(c_{x}-d_{x}))*(-(a_{x}-b_{x})*(c_{y}-d_{y})+(a_{y}-b_{y})*(c_{x}-d_{x}))*b_x*d_y + ((a_{x}-b_{x})*(c_{y}-d_{y})-(a_{y}-b_{y})*(c_{x}-d_{x}))*(-(a_{x}-b_{x})*(c_{y}-d_{y})+(a_{y}-b_{y})*(c_{x}-d_{x}))*b_x*h_x*i + ((a_{x}-b_{x})*(c_{y}-d_{y})-(a_{y}-b_{y})*(c_{x}-d_{x}))*(-(a_{x}-b_{x})*(c_{y}-d_{y})+(a_{y}-b_{y})*(c_{x}-d_{x}))*b_y*d_x - ((a_{x}-b_{x})*(c_{z}-d_{z})-(a_{z}-b_{z})*(c_{x}-d_{x}))*(-(a_{x}-b_{x})*(c_{y}-d_{y})+(a_{y}-b_{y})*(c_{x}-d_{x}))*a_x*b_z + ((a_{x}-b_{x})*(c_{z}-d_{z})-(a_{z}-b_{z})*(c_{x}-d_{x}))*(-(a_{x}-b_{x})*(c_{y}-d_{y})+(a_{y}-b_{y})*(c_{x}-d_{x}))*a_x*d_z - ((a_{x}-b_{x})*(c_{z}-d_{z})-(a_{z}-b_{z})*(c_{x}-d_{x}))*(-(a_{x}-b_{x})*(c_{y}-d_{y})+(a_{y}-b_{y})*(c_{x}-d_{x}))*a_x*h_x*i + ((a_{x}-b_{x})*(c_{z}-d_{z})-(a_{z}-b_{z})*(c_{x}-d_{x}))*(-(a_{x}-b_{x})*(c_{y}-d_{y})+(a_{y}-b_{y})*(c_{x}-d_{x}))*a_z*b_x - ((a_{x}-b_{x})*(c_{z}-d_{z})-(a_{z}-b_{z})*(c_{x}-d_{x}))*(-(a_{x}-b_{x})*(c_{y}-d_{y})+(a_{y}-b_{y})*(c_{x}-d_{x}))*a_z*d_x - ((a_{x}-b_{x})*(c_{z}-d_{z})-(a_{z}-b_{z})*(c_{x}-d_{x}))*(-(a_{x}-b_{x})*(c_{y}-d_{y})+(a_{y}-b_{y})*(c_{x}-d_{x}))*b_x*d_z + ((a_{x}-b_{x})*(c_{z}-d_{z})-(a_{z}-b_{z})*(c_{x}-d_{x}))*(-(a_{x}-b_{x})*(c_{y}-d_{y})+(a_{y}-b_{y})*(c_{x}-d_{x}))*b_x*h_x*i + ((a_{x}-b_{x})*(c_{z}-d_{z})-(a_{z}-b_{z})*(c_{x}-d_{x}))*(-(a_{x}-b_{x})*(c_{y}-d_{y})+(a_{y}-b_{y})*(c_{x}-d_{x}))*b_z*d_x)/(((a_{x}-b_{x})*(c_{y}-d_{y})-(a_{y}-b_{y})*(c_{x}-d_{x}))*((a_{y}-b_{y})*(c_{z}-d_{z})-(a_{z}-b_{z})*(c_{y}-d_{y}))*a_x*c_y*i - ((a_{x}-b_{x})*(c_{y}-d_{y})-(a_{y}-b_{y})*(c_{x}-d_{x}))*((a_{y}-b_{y})*(c_{z}-d_{z})-(a_{z}-b_{z})*(c_{y}-d_{y}))*a_x*c_z*i - ((a_{x}-b_{x})*(c_{y}-d_{y})-(a_{y}-b_{y})*(c_{x}-d_{x}))*((a_{y}-b_{y})*(c_{z}-d_{z})-(a_{z}-b_{z})*(c_{y}-d_{y}))*a_x*d_y*i + ((a_{x}-b_{x})*(c_{y}-d_{y})-(a_{y}-b_{y})*(c_{x}-d_{x}))*((a_{y}-b_{y})*(c_{z}-d_{z})-(a_{z}-b_{z})*(c_{y}-d_{y}))*a_x*d_z*i - ((a_{x}-b_{x})*(c_{y}-d_{y})-(a_{y}-b_{y})*(c_{x}-d_{x}))*((a_{y}-b_{y})*(c_{z}-d_{z})-(a_{z}-b_{z})*(c_{y}-d_{y}))*a_y*c_x*i - ((a_{x}-b_{x})*(c_{y}-d_{y})-(a_{y}-b_{y})*(c_{x}-d_{x}))*((a_{y}-b_{y})*(c_{z}-d_{z})-(a_{z}-b_{z})*(c_{y}-d_{y}))*a_y*c_z + ((a_{x}-b_{x})*(c_{y}-d_{y})-(a_{y}-b_{y})*(c_{x}-d_{x}))*((a_{y}-b_{y})*(c_{z}-d_{z})-(a_{z}-b_{z})*(c_{y}-d_{y}))*a_y*d_x*i + ((a_{x}-b_{x})*(c_{y}-d_{y})-(a_{y}-b_{y})*(c_{x}-d_{x}))*((a_{y}-b_{y})*(c_{z}-d_{z})-(a_{z}-b_{z})*(c_{y}-d_{y}))*a_y*d_z + ((a_{x}-b_{x})*(c_{y}-d_{y})-(a_{y}-b_{y})*(c_{x}-d_{x}))*((a_{y}-b_{y})*(c_{z}-d_{z})-(a_{z}-b_{z})*(c_{y}-d_{y}))*a_z*c_x*i + ((a_{x}-b_{x})*(c_{y}-d_{y})-(a_{y}-b_{y})*(c_{x}-d_{x}))*((a_{y}-b_{y})*(c_{z}-d_{z})-(a_{z}-b_{z})*(c_{y}-d_{y}))*a_z*c_y - ((a_{x}-b_{x})*(c_{y}-d_{y})-(a_{y}-b_{y})*(c_{x}-d_{x}))*((a_{y}-b_{y})*(c_{z}-d_{z})-(a_{z}-b_{z})*(c_{y}-d_{y}))*a_z*d_x*i - ((a_{x}-b_{x})*(c_{y}-d_{y})-(a_{y}-b_{y})*(c_{x}-d_{x}))*((a_{y}-b_{y})*(c_{z}-d_{z})-(a_{z}-b_{z})*(c_{y}-d_{y}))*a_z*d_y - ((a_{x}-b_{x})*(c_{y}-d_{y})-(a_{y}-b_{y})*(c_{x}-d_{x}))*((a_{y}-b_{y})*(c_{z}-d_{z})-(a_{z}-b_{z})*(c_{y}-d_{y}))*b_x*c_y*i + ((a_{x}-b_{x})*(c_{y}-d_{y})-(a_{y}-b_{y})*(c_{x}-d_{x}))*((a_{y}-b_{y})*(c_{z}-d_{z})-(a_{z}-b_{z})*(c_{y}-d_{y}))*b_x*c_z*i + ((a_{x}-b_{x})*(c_{y}-d_{y})-(a_{y}-b_{y})*(c_{x}-d_{x}))*((a_{y}-b_{y})*(c_{z}-d_{z})-(a_{z}-b_{z})*(c_{y}-d_{y}))*b_x*d_y*i - ((a_{x}-b_{x})*(c_{y}-d_{y})-(a_{y}-b_{y})*(c_{x}-d_{x}))*((a_{y}-b_{y})*(c_{z}-d_{z})-(a_{z}-b_{z})*(c_{y}-d_{y}))*b_x*d_z*i + ((a_{x}-b_{x})*(c_{y}-d_{y})-(a_{y}-b_{y})*(c_{x}-d_{x}))*((a_{y}-b_{y})*(c_{z}-d_{z})-(a_{z}-b_{z})*(c_{y}-d_{y}))*b_y*c_x*i + ((a_{x}-b_{x})*(c_{y}-d_{y})-(a_{y}-b_{y})*(c_{x}-d_{x}))*((a_{y}-b_{y})*(c_{z}-d_{z})-(a_{z}-b_{z})*(c_{y}-d_{y}))*b_y*c_z - ((a_{x}-b_{x})*(c_{y}-d_{y})-(a_{y}-b_{y})*(c_{x}-d_{x}))*((a_{y}-b_{y})*(c_{z}-d_{z})-(a_{z}-b_{z})*(c_{y}-d_{y}))*b_y*d_x*i - ((a_{x}-b_{x})*(c_{y}-d_{y})-(a_{y}-b_{y})*(c_{x}-d_{x}))*((a_{y}-b_{y})*(c_{z}-d_{z})-(a_{z}-b_{z})*(c_{y}-d_{y}))*b_y*d_z - ((a_{x}-b_{x})*(c_{y}-d_{y})-(a_{y}-b_{y})*(c_{x}-d_{x}))*((a_{y}-b_{y})*(c_{z}-d_{z})-(a_{z}-b_{z})*(c_{y}-d_{y}))*b_z*c_x*i - ((a_{x}-b_{x})*(c_{y}-d_{y})-(a_{y}-b_{y})*(c_{x}-d_{x}))*((a_{y}-b_{y})*(c_{z}-d_{z})-(a_{z}-b_{z})*(c_{y}-d_{y}))*b_z*c_y + ((a_{x}-b_{x})*(c_{y}-d_{y})-(a_{y}-b_{y})*(c_{x}-d_{x}))*((a_{y}-b_{y})*(c_{z}-d_{z})-(a_{z}-b_{z})*(c_{y}-d_{y}))*b_z*d_x*i + ((a_{x}-b_{x})*(c_{y}-d_{y})-(a_{y}-b_{y})*(c_{x}-d_{x}))*((a_{y}-b_{y})*(c_{z}-d_{z})-(a_{z}-b_{z})*(c_{y}-d_{y}))*b_z*d_y + ((a_{x}-b_{x})*(c_{y}-d_{y})-(a_{y}-b_{y})*(c_{x}-d_{x}))*(-(a_{x}-b_{x})*(c_{y}-d_{y})+(a_{y}-b_{y})*(c_{x}-d_{x}))*a_x*c_y - ((a_{x}-b_{x})*(c_{y}-d_{y})-(a_{y}-b_{y})*(c_{x}-d_{x}))*(-(a_{x}-b_{x})*(c_{y}-d_{y})+(a_{y}-b_{y})*(c_{x}-d_{x}))*a_x*d_y - ((a_{x}-b_{x})*(c_{y}-d_{y})-(a_{y}-b_{y})*(c_{x}-d_{x}))*(-(a_{x}-b_{x})*(c_{y}-d_{y})+(a_{y}-b_{y})*(c_{x}-d_{x}))*a_y*c_x + ((a_{x}-b_{x})*(c_{y}-d_{y})-(a_{y}-b_{y})*(c_{x}-d_{x}))*(-(a_{x}-b_{x})*(c_{y}-d_{y})+(a_{y}-b_{y})*(c_{x}-d_{x}))*a_y*d_x - ((a_{x}-b_{x})*(c_{y}-d_{y})-(a_{y}-b_{y})*(c_{x}-d_{x}))*(-(a_{x}-b_{x})*(c_{y}-d_{y})+(a_{y}-b_{y})*(c_{x}-d_{x}))*b_x*c_y + ((a_{x}-b_{x})*(c_{y}-d_{y})-(a_{y}-b_{y})*(c_{x}-d_{x}))*(-(a_{x}-b_{x})*(c_{y}-d_{y})+(a_{y}-b_{y})*(c_{x}-d_{x}))*b_x*d_y + ((a_{x}-b_{x})*(c_{y}-d_{y})-(a_{y}-b_{y})*(c_{x}-d_{x}))*(-(a_{x}-b_{x})*(c_{y}-d_{y})+(a_{y}-b_{y})*(c_{x}-d_{x}))*b_y*c_x - ((a_{x}-b_{x})*(c_{y}-d_{y})-(a_{y}-b_{y})*(c_{x}-d_{x}))*(-(a_{x}-b_{x})*(c_{y}-d_{y})+(a_{y}-b_{y})*(c_{x}-d_{x}))*b_y*d_x + ((a_{x}-b_{x})*(c_{z}-d_{z})-(a_{z}-b_{z})*(c_{x}-d_{x}))*(-(a_{x}-b_{x})*(c_{y}-d_{y})+(a_{y}-b_{y})*(c_{x}-d_{x}))*a_x*c_z - ((a_{x}-b_{x})*(c_{z}-d_{z})-(a_{z}-b_{z})*(c_{x}-d_{x}))*(-(a_{x}-b_{x})*(c_{y}-d_{y})+(a_{y}-b_{y})*(c_{x}-d_{x}))*a_x*d_z - ((a_{x}-b_{x})*(c_{z}-d_{z})-(a_{z}-b_{z})*(c_{x}-d_{x}))*(-(a_{x}-b_{x})*(c_{y}-d_{y})+(a_{y}-b_{y})*(c_{x}-d_{x}))*a_z*c_x + ((a_{x}-b_{x})*(c_{z}-d_{z})-(a_{z}-b_{z})*(c_{x}-d_{x}))*(-(a_{x}-b_{x})*(c_{y}-d_{y})+(a_{y}-b_{y})*(c_{x}-d_{x}))*a_z*d_x - ((a_{x}-b_{x})*(c_{z}-d_{z})-(a_{z}-b_{z})*(c_{x}-d_{x}))*(-(a_{x}-b_{x})*(c_{y}-d_{y})+(a_{y}-b_{y})*(c_{x}-d_{x}))*b_x*c_z + ((a_{x}-b_{x})*(c_{z}-d_{z})-(a_{z}-b_{z})*(c_{x}-d_{x}))*(-(a_{x}-b_{x})*(c_{y}-d_{y})+(a_{y}-b_{y})*(c_{x}-d_{x}))*b_x*d_z + ((a_{x}-b_{x})*(c_{z}-d_{z})-(a_{z}-b_{z})*(c_{x}-d_{x}))*(-(a_{x}-b_{x})*(c_{y}-d_{y})+(a_{y}-b_{y})*(c_{x}-d_{x}))*b_z*c_x - ((a_{x}-b_{x})*(c_{z}-d_{z})-(a_{z}-b_{z})*(c_{x}-d_{x}))*(-(a_{x}-b_{x})*(c_{y}-d_{y})+(a_{y}-b_{y})*(c_{x}-d_{x}))*b_z*d_x)"
      ]
     },
     "execution_count": 317,
     "metadata": {},
     "output_type": "execute_result"
    }
   ],
   "source": [
    "res[0]"
   ]
  },
  {
   "cell_type": "markdown",
   "metadata": {},
   "source": [
    "## By hand"
   ]
  },
  {
   "cell_type": "code",
   "execution_count": 80,
   "metadata": {},
   "outputs": [
    {
     "data": {
      "text/plain": [
       "(T_0, T_1, T_2, T_3, T_4, T_5, T_6)"
      ]
     },
     "execution_count": 80,
     "metadata": {},
     "output_type": "execute_result"
    }
   ],
   "source": [
    "ab = a - b\n",
    "cd = c - d\n",
    "t_list = symbols(' '.join([\"T_\"+str(i) for i in range(0, 7)]))\n",
    "t_list"
   ]
  },
  {
   "cell_type": "code",
   "execution_count": 81,
   "metadata": {},
   "outputs": [],
   "source": [
    "eq = ab * (t1 * t_list[1] + t2 * t_list[2] + t_list[3]) + cd* (t1 * t_list[4] + t2 * t_list[5] + t_list[6])"
   ]
  },
  {
   "cell_type": "code",
   "execution_count": 83,
   "metadata": {},
   "outputs": [
    {
     "data": {
      "text/plain": [
       "{t_1: (T_2*T_6 - T_3*T_5)/(T_1*T_5 - T_2*T_4),\n",
       " t_2: (-T_1*T_6 + T_3*T_4)/(T_1*T_5 - T_2*T_4)}"
      ]
     },
     "execution_count": 83,
     "metadata": {},
     "output_type": "execute_result"
    }
   ],
   "source": [
    "res = solve(ijk_to_vec(eq), [t1, t2])\n",
    "res"
   ]
  },
  {
   "cell_type": "markdown",
   "metadata": {},
   "source": [
    "## Check"
   ]
  },
  {
   "cell_type": "code",
   "execution_count": 84,
   "metadata": {},
   "outputs": [],
   "source": [
    "import plotly.express as px"
   ]
  },
  {
   "cell_type": "code",
   "execution_count": 120,
   "metadata": {},
   "outputs": [],
   "source": [
    "a_value = np.array([1.7, 1, 4.1])\n",
    "b_value = np.array([2, -0.2, 1.8])\n",
    "c_value = np.array([-2, -1.15, -0.7])\n",
    "d_value = np.array([-1.2, -0.9, -0.65])"
   ]
  },
  {
   "cell_type": "code",
   "execution_count": 121,
   "metadata": {},
   "outputs": [
    {
     "name": "stdout",
     "output_type": "stream",
     "text": [
      "t_1\n"
     ]
    },
    {
     "data": {
      "text/latex": [
       "$\\displaystyle \\frac{T_{2} T_{6} - T_{3} T_{5}}{T_{1} T_{5} - T_{2} T_{4}}$"
      ],
      "text/plain": [
       "(T_2*T_6 - T_3*T_5)/(T_1*T_5 - T_2*T_4)"
      ]
     },
     "metadata": {},
     "output_type": "display_data"
    },
    {
     "name": "stdout",
     "output_type": "stream",
     "text": [
      "t_2\n"
     ]
    },
    {
     "data": {
      "text/latex": [
       "$\\displaystyle \\frac{- T_{1} T_{6} + T_{3} T_{4}}{T_{1} T_{5} - T_{2} T_{4}}$"
      ],
      "text/plain": [
       "(-T_1*T_6 + T_3*T_4)/(T_1*T_5 - T_2*T_4)"
      ]
     },
     "metadata": {},
     "output_type": "display_data"
    }
   ],
   "source": [
    "for k, v in res.items():\n",
    "    print(k)\n",
    "    display(v)"
   ]
  },
  {
   "cell_type": "code",
   "execution_count": 122,
   "metadata": {},
   "outputs": [
    {
     "data": {
      "text/plain": [
       "array([  0.    ,   0.175 ,  -0.705 ,   3.0325,  -6.82  ,   0.175 ,\n",
       "       -12.335 ])"
      ]
     },
     "execution_count": 122,
     "metadata": {},
     "output_type": "execute_result"
    }
   ],
   "source": [
    "list_t = np.array([\n",
    "    0,\n",
    "    -(a_value-b_value).dot(c_value-d_value),\n",
    "    (d_value-c_value).dot(c_value-d_value),\n",
    "    (d_value-a_value).dot(c_value-d_value),\n",
    "    -(a_value-b_value).dot(a_value-b_value),\n",
    "    (d_value-c_value).dot(a_value-b_value),\n",
    "    (d_value-a_value).dot(a_value-b_value),\n",
    "])\n",
    "\n",
    "list_t"
   ]
  },
  {
   "cell_type": "code",
   "execution_count": 123,
   "metadata": {},
   "outputs": [
    {
     "name": "stdout",
     "output_type": "stream",
     "text": [
      "t_1 = -1.70916383654546\n",
      "t_2 = 3.87715791291425\n"
     ]
    }
   ],
   "source": [
    "res_t = list()\n",
    "\n",
    "for k, v in res.items():\n",
    "    res_t.append(v.subs({k:v for k,v in zip(t_list, list_t)}))\n",
    "    print(k, '=', res_t[-1])"
   ]
  },
  {
   "cell_type": "code",
   "execution_count": 124,
   "metadata": {},
   "outputs": [
    {
     "data": {
      "text/plain": [
       "(array([2.21274915096364, -1.05099660385455, 0.168923175945452],\n",
       "       dtype=object),\n",
       " array([1.90172633033140, 0.0692894782285615, -0.456142104354288],\n",
       "       dtype=object),\n",
       " array([2.05723774064752, -0.490853562812992, -0.143609464204418],\n",
       "       dtype=object))"
      ]
     },
     "execution_count": 124,
     "metadata": {},
     "output_type": "execute_result"
    }
   ],
   "source": [
    "p2_value = d_value+(d_value-c_value)*res_t[1]\n",
    "p1_value = a_value+(a_value-b_value)*res_t[0]\n",
    "p1_value, p2_value, (p1_value + p2_value) / 2"
   ]
  },
  {
   "cell_type": "code",
   "execution_count": 125,
   "metadata": {},
   "outputs": [
    {
     "data": {
      "application/vnd.plotly.v1+json": {
       "config": {
        "plotlyServerURL": "https://plot.ly"
       },
       "data": [
        {
         "hovertemplate": "x=%{x}<br>y=%{y}<br>z=%{z}<br>color=%{marker.color}<extra></extra>",
         "legendgroup": "",
         "marker": {
          "color": [
           0,
           0,
           0,
           0,
           1,
           1,
           2
          ],
          "coloraxis": "coloraxis",
          "symbol": "circle"
         },
         "mode": "markers",
         "name": "",
         "scene": "scene",
         "showlegend": false,
         "type": "scatter3d",
         "x": [
          1.7000000476837158,
          2,
          -2,
          -1.2000000476837158,
          2.2127492427825928,
          1.9017263650894165,
          2.0572376251220703
         ],
         "y": [
          1,
          -0.20000000298023224,
          -1.149999976158142,
          -0.8999999761581421,
          -1.0509966611862183,
          0.06928947567939758,
          -0.49085354804992676
         ],
         "z": [
          4.099999904632568,
          1.7999999523162842,
          -0.699999988079071,
          -0.6499999761581421,
          0.16892316937446594,
          -0.4561420977115631,
          -0.14360946416854858
         ]
        }
       ],
       "layout": {
        "coloraxis": {
         "colorbar": {
          "title": {
           "text": "color"
          }
         },
         "colorscale": [
          [
           0,
           "#0d0887"
          ],
          [
           0.1111111111111111,
           "#46039f"
          ],
          [
           0.2222222222222222,
           "#7201a8"
          ],
          [
           0.3333333333333333,
           "#9c179e"
          ],
          [
           0.4444444444444444,
           "#bd3786"
          ],
          [
           0.5555555555555556,
           "#d8576b"
          ],
          [
           0.6666666666666666,
           "#ed7953"
          ],
          [
           0.7777777777777778,
           "#fb9f3a"
          ],
          [
           0.8888888888888888,
           "#fdca26"
          ],
          [
           1,
           "#f0f921"
          ]
         ]
        },
        "legend": {
         "tracegroupgap": 0
        },
        "margin": {
         "t": 60
        },
        "scene": {
         "domain": {
          "x": [
           0,
           1
          ],
          "y": [
           0,
           1
          ]
         },
         "xaxis": {
          "title": {
           "text": "x"
          }
         },
         "yaxis": {
          "title": {
           "text": "y"
          }
         },
         "zaxis": {
          "title": {
           "text": "z"
          }
         }
        },
        "template": {
         "data": {
          "bar": [
           {
            "error_x": {
             "color": "#2a3f5f"
            },
            "error_y": {
             "color": "#2a3f5f"
            },
            "marker": {
             "line": {
              "color": "#E5ECF6",
              "width": 0.5
             },
             "pattern": {
              "fillmode": "overlay",
              "size": 10,
              "solidity": 0.2
             }
            },
            "type": "bar"
           }
          ],
          "barpolar": [
           {
            "marker": {
             "line": {
              "color": "#E5ECF6",
              "width": 0.5
             },
             "pattern": {
              "fillmode": "overlay",
              "size": 10,
              "solidity": 0.2
             }
            },
            "type": "barpolar"
           }
          ],
          "carpet": [
           {
            "aaxis": {
             "endlinecolor": "#2a3f5f",
             "gridcolor": "white",
             "linecolor": "white",
             "minorgridcolor": "white",
             "startlinecolor": "#2a3f5f"
            },
            "baxis": {
             "endlinecolor": "#2a3f5f",
             "gridcolor": "white",
             "linecolor": "white",
             "minorgridcolor": "white",
             "startlinecolor": "#2a3f5f"
            },
            "type": "carpet"
           }
          ],
          "choropleth": [
           {
            "colorbar": {
             "outlinewidth": 0,
             "ticks": ""
            },
            "type": "choropleth"
           }
          ],
          "contour": [
           {
            "colorbar": {
             "outlinewidth": 0,
             "ticks": ""
            },
            "colorscale": [
             [
              0,
              "#0d0887"
             ],
             [
              0.1111111111111111,
              "#46039f"
             ],
             [
              0.2222222222222222,
              "#7201a8"
             ],
             [
              0.3333333333333333,
              "#9c179e"
             ],
             [
              0.4444444444444444,
              "#bd3786"
             ],
             [
              0.5555555555555556,
              "#d8576b"
             ],
             [
              0.6666666666666666,
              "#ed7953"
             ],
             [
              0.7777777777777778,
              "#fb9f3a"
             ],
             [
              0.8888888888888888,
              "#fdca26"
             ],
             [
              1,
              "#f0f921"
             ]
            ],
            "type": "contour"
           }
          ],
          "contourcarpet": [
           {
            "colorbar": {
             "outlinewidth": 0,
             "ticks": ""
            },
            "type": "contourcarpet"
           }
          ],
          "heatmap": [
           {
            "colorbar": {
             "outlinewidth": 0,
             "ticks": ""
            },
            "colorscale": [
             [
              0,
              "#0d0887"
             ],
             [
              0.1111111111111111,
              "#46039f"
             ],
             [
              0.2222222222222222,
              "#7201a8"
             ],
             [
              0.3333333333333333,
              "#9c179e"
             ],
             [
              0.4444444444444444,
              "#bd3786"
             ],
             [
              0.5555555555555556,
              "#d8576b"
             ],
             [
              0.6666666666666666,
              "#ed7953"
             ],
             [
              0.7777777777777778,
              "#fb9f3a"
             ],
             [
              0.8888888888888888,
              "#fdca26"
             ],
             [
              1,
              "#f0f921"
             ]
            ],
            "type": "heatmap"
           }
          ],
          "heatmapgl": [
           {
            "colorbar": {
             "outlinewidth": 0,
             "ticks": ""
            },
            "colorscale": [
             [
              0,
              "#0d0887"
             ],
             [
              0.1111111111111111,
              "#46039f"
             ],
             [
              0.2222222222222222,
              "#7201a8"
             ],
             [
              0.3333333333333333,
              "#9c179e"
             ],
             [
              0.4444444444444444,
              "#bd3786"
             ],
             [
              0.5555555555555556,
              "#d8576b"
             ],
             [
              0.6666666666666666,
              "#ed7953"
             ],
             [
              0.7777777777777778,
              "#fb9f3a"
             ],
             [
              0.8888888888888888,
              "#fdca26"
             ],
             [
              1,
              "#f0f921"
             ]
            ],
            "type": "heatmapgl"
           }
          ],
          "histogram": [
           {
            "marker": {
             "pattern": {
              "fillmode": "overlay",
              "size": 10,
              "solidity": 0.2
             }
            },
            "type": "histogram"
           }
          ],
          "histogram2d": [
           {
            "colorbar": {
             "outlinewidth": 0,
             "ticks": ""
            },
            "colorscale": [
             [
              0,
              "#0d0887"
             ],
             [
              0.1111111111111111,
              "#46039f"
             ],
             [
              0.2222222222222222,
              "#7201a8"
             ],
             [
              0.3333333333333333,
              "#9c179e"
             ],
             [
              0.4444444444444444,
              "#bd3786"
             ],
             [
              0.5555555555555556,
              "#d8576b"
             ],
             [
              0.6666666666666666,
              "#ed7953"
             ],
             [
              0.7777777777777778,
              "#fb9f3a"
             ],
             [
              0.8888888888888888,
              "#fdca26"
             ],
             [
              1,
              "#f0f921"
             ]
            ],
            "type": "histogram2d"
           }
          ],
          "histogram2dcontour": [
           {
            "colorbar": {
             "outlinewidth": 0,
             "ticks": ""
            },
            "colorscale": [
             [
              0,
              "#0d0887"
             ],
             [
              0.1111111111111111,
              "#46039f"
             ],
             [
              0.2222222222222222,
              "#7201a8"
             ],
             [
              0.3333333333333333,
              "#9c179e"
             ],
             [
              0.4444444444444444,
              "#bd3786"
             ],
             [
              0.5555555555555556,
              "#d8576b"
             ],
             [
              0.6666666666666666,
              "#ed7953"
             ],
             [
              0.7777777777777778,
              "#fb9f3a"
             ],
             [
              0.8888888888888888,
              "#fdca26"
             ],
             [
              1,
              "#f0f921"
             ]
            ],
            "type": "histogram2dcontour"
           }
          ],
          "mesh3d": [
           {
            "colorbar": {
             "outlinewidth": 0,
             "ticks": ""
            },
            "type": "mesh3d"
           }
          ],
          "parcoords": [
           {
            "line": {
             "colorbar": {
              "outlinewidth": 0,
              "ticks": ""
             }
            },
            "type": "parcoords"
           }
          ],
          "pie": [
           {
            "automargin": true,
            "type": "pie"
           }
          ],
          "scatter": [
           {
            "fillpattern": {
             "fillmode": "overlay",
             "size": 10,
             "solidity": 0.2
            },
            "type": "scatter"
           }
          ],
          "scatter3d": [
           {
            "line": {
             "colorbar": {
              "outlinewidth": 0,
              "ticks": ""
             }
            },
            "marker": {
             "colorbar": {
              "outlinewidth": 0,
              "ticks": ""
             }
            },
            "type": "scatter3d"
           }
          ],
          "scattercarpet": [
           {
            "marker": {
             "colorbar": {
              "outlinewidth": 0,
              "ticks": ""
             }
            },
            "type": "scattercarpet"
           }
          ],
          "scattergeo": [
           {
            "marker": {
             "colorbar": {
              "outlinewidth": 0,
              "ticks": ""
             }
            },
            "type": "scattergeo"
           }
          ],
          "scattergl": [
           {
            "marker": {
             "colorbar": {
              "outlinewidth": 0,
              "ticks": ""
             }
            },
            "type": "scattergl"
           }
          ],
          "scattermapbox": [
           {
            "marker": {
             "colorbar": {
              "outlinewidth": 0,
              "ticks": ""
             }
            },
            "type": "scattermapbox"
           }
          ],
          "scatterpolar": [
           {
            "marker": {
             "colorbar": {
              "outlinewidth": 0,
              "ticks": ""
             }
            },
            "type": "scatterpolar"
           }
          ],
          "scatterpolargl": [
           {
            "marker": {
             "colorbar": {
              "outlinewidth": 0,
              "ticks": ""
             }
            },
            "type": "scatterpolargl"
           }
          ],
          "scatterternary": [
           {
            "marker": {
             "colorbar": {
              "outlinewidth": 0,
              "ticks": ""
             }
            },
            "type": "scatterternary"
           }
          ],
          "surface": [
           {
            "colorbar": {
             "outlinewidth": 0,
             "ticks": ""
            },
            "colorscale": [
             [
              0,
              "#0d0887"
             ],
             [
              0.1111111111111111,
              "#46039f"
             ],
             [
              0.2222222222222222,
              "#7201a8"
             ],
             [
              0.3333333333333333,
              "#9c179e"
             ],
             [
              0.4444444444444444,
              "#bd3786"
             ],
             [
              0.5555555555555556,
              "#d8576b"
             ],
             [
              0.6666666666666666,
              "#ed7953"
             ],
             [
              0.7777777777777778,
              "#fb9f3a"
             ],
             [
              0.8888888888888888,
              "#fdca26"
             ],
             [
              1,
              "#f0f921"
             ]
            ],
            "type": "surface"
           }
          ],
          "table": [
           {
            "cells": {
             "fill": {
              "color": "#EBF0F8"
             },
             "line": {
              "color": "white"
             }
            },
            "header": {
             "fill": {
              "color": "#C8D4E3"
             },
             "line": {
              "color": "white"
             }
            },
            "type": "table"
           }
          ]
         },
         "layout": {
          "annotationdefaults": {
           "arrowcolor": "#2a3f5f",
           "arrowhead": 0,
           "arrowwidth": 1
          },
          "autotypenumbers": "strict",
          "coloraxis": {
           "colorbar": {
            "outlinewidth": 0,
            "ticks": ""
           }
          },
          "colorscale": {
           "diverging": [
            [
             0,
             "#8e0152"
            ],
            [
             0.1,
             "#c51b7d"
            ],
            [
             0.2,
             "#de77ae"
            ],
            [
             0.3,
             "#f1b6da"
            ],
            [
             0.4,
             "#fde0ef"
            ],
            [
             0.5,
             "#f7f7f7"
            ],
            [
             0.6,
             "#e6f5d0"
            ],
            [
             0.7,
             "#b8e186"
            ],
            [
             0.8,
             "#7fbc41"
            ],
            [
             0.9,
             "#4d9221"
            ],
            [
             1,
             "#276419"
            ]
           ],
           "sequential": [
            [
             0,
             "#0d0887"
            ],
            [
             0.1111111111111111,
             "#46039f"
            ],
            [
             0.2222222222222222,
             "#7201a8"
            ],
            [
             0.3333333333333333,
             "#9c179e"
            ],
            [
             0.4444444444444444,
             "#bd3786"
            ],
            [
             0.5555555555555556,
             "#d8576b"
            ],
            [
             0.6666666666666666,
             "#ed7953"
            ],
            [
             0.7777777777777778,
             "#fb9f3a"
            ],
            [
             0.8888888888888888,
             "#fdca26"
            ],
            [
             1,
             "#f0f921"
            ]
           ],
           "sequentialminus": [
            [
             0,
             "#0d0887"
            ],
            [
             0.1111111111111111,
             "#46039f"
            ],
            [
             0.2222222222222222,
             "#7201a8"
            ],
            [
             0.3333333333333333,
             "#9c179e"
            ],
            [
             0.4444444444444444,
             "#bd3786"
            ],
            [
             0.5555555555555556,
             "#d8576b"
            ],
            [
             0.6666666666666666,
             "#ed7953"
            ],
            [
             0.7777777777777778,
             "#fb9f3a"
            ],
            [
             0.8888888888888888,
             "#fdca26"
            ],
            [
             1,
             "#f0f921"
            ]
           ]
          },
          "colorway": [
           "#636efa",
           "#EF553B",
           "#00cc96",
           "#ab63fa",
           "#FFA15A",
           "#19d3f3",
           "#FF6692",
           "#B6E880",
           "#FF97FF",
           "#FECB52"
          ],
          "font": {
           "color": "#2a3f5f"
          },
          "geo": {
           "bgcolor": "white",
           "lakecolor": "white",
           "landcolor": "#E5ECF6",
           "showlakes": true,
           "showland": true,
           "subunitcolor": "white"
          },
          "hoverlabel": {
           "align": "left"
          },
          "hovermode": "closest",
          "mapbox": {
           "style": "light"
          },
          "paper_bgcolor": "white",
          "plot_bgcolor": "#E5ECF6",
          "polar": {
           "angularaxis": {
            "gridcolor": "white",
            "linecolor": "white",
            "ticks": ""
           },
           "bgcolor": "#E5ECF6",
           "radialaxis": {
            "gridcolor": "white",
            "linecolor": "white",
            "ticks": ""
           }
          },
          "scene": {
           "xaxis": {
            "backgroundcolor": "#E5ECF6",
            "gridcolor": "white",
            "gridwidth": 2,
            "linecolor": "white",
            "showbackground": true,
            "ticks": "",
            "zerolinecolor": "white"
           },
           "yaxis": {
            "backgroundcolor": "#E5ECF6",
            "gridcolor": "white",
            "gridwidth": 2,
            "linecolor": "white",
            "showbackground": true,
            "ticks": "",
            "zerolinecolor": "white"
           },
           "zaxis": {
            "backgroundcolor": "#E5ECF6",
            "gridcolor": "white",
            "gridwidth": 2,
            "linecolor": "white",
            "showbackground": true,
            "ticks": "",
            "zerolinecolor": "white"
           }
          },
          "shapedefaults": {
           "line": {
            "color": "#2a3f5f"
           }
          },
          "ternary": {
           "aaxis": {
            "gridcolor": "white",
            "linecolor": "white",
            "ticks": ""
           },
           "baxis": {
            "gridcolor": "white",
            "linecolor": "white",
            "ticks": ""
           },
           "bgcolor": "#E5ECF6",
           "caxis": {
            "gridcolor": "white",
            "linecolor": "white",
            "ticks": ""
           }
          },
          "title": {
           "x": 0.05
          },
          "xaxis": {
           "automargin": true,
           "gridcolor": "white",
           "linecolor": "white",
           "ticks": "",
           "title": {
            "standoff": 15
           },
           "zerolinecolor": "white",
           "zerolinewidth": 2
          },
          "yaxis": {
           "automargin": true,
           "gridcolor": "white",
           "linecolor": "white",
           "ticks": "",
           "title": {
            "standoff": 15
           },
           "zerolinecolor": "white",
           "zerolinewidth": 2
          }
         }
        }
       }
      },
      "text/html": [
       "<div>                            <div id=\"a5dc26d2-5cd5-479b-ad07-830169e2daef\" class=\"plotly-graph-div\" style=\"height:525px; width:100%;\"></div>            <script type=\"text/javascript\">                require([\"plotly\"], function(Plotly) {                    window.PLOTLYENV=window.PLOTLYENV || {};                                    if (document.getElementById(\"a5dc26d2-5cd5-479b-ad07-830169e2daef\")) {                    Plotly.newPlot(                        \"a5dc26d2-5cd5-479b-ad07-830169e2daef\",                        [{\"hovertemplate\":\"x=%{x}\\u003cbr\\u003ey=%{y}\\u003cbr\\u003ez=%{z}\\u003cbr\\u003ecolor=%{marker.color}\\u003cextra\\u003e\\u003c\\u002fextra\\u003e\",\"legendgroup\":\"\",\"marker\":{\"color\":[0,0,0,0,1,1,2],\"coloraxis\":\"coloraxis\",\"symbol\":\"circle\"},\"mode\":\"markers\",\"name\":\"\",\"scene\":\"scene\",\"showlegend\":false,\"x\":[1.7000000476837158,2.0,-2.0,-1.2000000476837158,2.2127492427825928,1.9017263650894165,2.0572376251220703],\"y\":[1.0,-0.20000000298023224,-1.149999976158142,-0.8999999761581421,-1.0509966611862183,0.06928947567939758,-0.49085354804992676],\"z\":[4.099999904632568,1.7999999523162842,-0.699999988079071,-0.6499999761581421,0.16892316937446594,-0.4561420977115631,-0.14360946416854858],\"type\":\"scatter3d\"}],                        {\"template\":{\"data\":{\"histogram2dcontour\":[{\"type\":\"histogram2dcontour\",\"colorbar\":{\"outlinewidth\":0,\"ticks\":\"\"},\"colorscale\":[[0.0,\"#0d0887\"],[0.1111111111111111,\"#46039f\"],[0.2222222222222222,\"#7201a8\"],[0.3333333333333333,\"#9c179e\"],[0.4444444444444444,\"#bd3786\"],[0.5555555555555556,\"#d8576b\"],[0.6666666666666666,\"#ed7953\"],[0.7777777777777778,\"#fb9f3a\"],[0.8888888888888888,\"#fdca26\"],[1.0,\"#f0f921\"]]}],\"choropleth\":[{\"type\":\"choropleth\",\"colorbar\":{\"outlinewidth\":0,\"ticks\":\"\"}}],\"histogram2d\":[{\"type\":\"histogram2d\",\"colorbar\":{\"outlinewidth\":0,\"ticks\":\"\"},\"colorscale\":[[0.0,\"#0d0887\"],[0.1111111111111111,\"#46039f\"],[0.2222222222222222,\"#7201a8\"],[0.3333333333333333,\"#9c179e\"],[0.4444444444444444,\"#bd3786\"],[0.5555555555555556,\"#d8576b\"],[0.6666666666666666,\"#ed7953\"],[0.7777777777777778,\"#fb9f3a\"],[0.8888888888888888,\"#fdca26\"],[1.0,\"#f0f921\"]]}],\"heatmap\":[{\"type\":\"heatmap\",\"colorbar\":{\"outlinewidth\":0,\"ticks\":\"\"},\"colorscale\":[[0.0,\"#0d0887\"],[0.1111111111111111,\"#46039f\"],[0.2222222222222222,\"#7201a8\"],[0.3333333333333333,\"#9c179e\"],[0.4444444444444444,\"#bd3786\"],[0.5555555555555556,\"#d8576b\"],[0.6666666666666666,\"#ed7953\"],[0.7777777777777778,\"#fb9f3a\"],[0.8888888888888888,\"#fdca26\"],[1.0,\"#f0f921\"]]}],\"heatmapgl\":[{\"type\":\"heatmapgl\",\"colorbar\":{\"outlinewidth\":0,\"ticks\":\"\"},\"colorscale\":[[0.0,\"#0d0887\"],[0.1111111111111111,\"#46039f\"],[0.2222222222222222,\"#7201a8\"],[0.3333333333333333,\"#9c179e\"],[0.4444444444444444,\"#bd3786\"],[0.5555555555555556,\"#d8576b\"],[0.6666666666666666,\"#ed7953\"],[0.7777777777777778,\"#fb9f3a\"],[0.8888888888888888,\"#fdca26\"],[1.0,\"#f0f921\"]]}],\"contourcarpet\":[{\"type\":\"contourcarpet\",\"colorbar\":{\"outlinewidth\":0,\"ticks\":\"\"}}],\"contour\":[{\"type\":\"contour\",\"colorbar\":{\"outlinewidth\":0,\"ticks\":\"\"},\"colorscale\":[[0.0,\"#0d0887\"],[0.1111111111111111,\"#46039f\"],[0.2222222222222222,\"#7201a8\"],[0.3333333333333333,\"#9c179e\"],[0.4444444444444444,\"#bd3786\"],[0.5555555555555556,\"#d8576b\"],[0.6666666666666666,\"#ed7953\"],[0.7777777777777778,\"#fb9f3a\"],[0.8888888888888888,\"#fdca26\"],[1.0,\"#f0f921\"]]}],\"surface\":[{\"type\":\"surface\",\"colorbar\":{\"outlinewidth\":0,\"ticks\":\"\"},\"colorscale\":[[0.0,\"#0d0887\"],[0.1111111111111111,\"#46039f\"],[0.2222222222222222,\"#7201a8\"],[0.3333333333333333,\"#9c179e\"],[0.4444444444444444,\"#bd3786\"],[0.5555555555555556,\"#d8576b\"],[0.6666666666666666,\"#ed7953\"],[0.7777777777777778,\"#fb9f3a\"],[0.8888888888888888,\"#fdca26\"],[1.0,\"#f0f921\"]]}],\"mesh3d\":[{\"type\":\"mesh3d\",\"colorbar\":{\"outlinewidth\":0,\"ticks\":\"\"}}],\"scatter\":[{\"fillpattern\":{\"fillmode\":\"overlay\",\"size\":10,\"solidity\":0.2},\"type\":\"scatter\"}],\"parcoords\":[{\"type\":\"parcoords\",\"line\":{\"colorbar\":{\"outlinewidth\":0,\"ticks\":\"\"}}}],\"scatterpolargl\":[{\"type\":\"scatterpolargl\",\"marker\":{\"colorbar\":{\"outlinewidth\":0,\"ticks\":\"\"}}}],\"bar\":[{\"error_x\":{\"color\":\"#2a3f5f\"},\"error_y\":{\"color\":\"#2a3f5f\"},\"marker\":{\"line\":{\"color\":\"#E5ECF6\",\"width\":0.5},\"pattern\":{\"fillmode\":\"overlay\",\"size\":10,\"solidity\":0.2}},\"type\":\"bar\"}],\"scattergeo\":[{\"type\":\"scattergeo\",\"marker\":{\"colorbar\":{\"outlinewidth\":0,\"ticks\":\"\"}}}],\"scatterpolar\":[{\"type\":\"scatterpolar\",\"marker\":{\"colorbar\":{\"outlinewidth\":0,\"ticks\":\"\"}}}],\"histogram\":[{\"marker\":{\"pattern\":{\"fillmode\":\"overlay\",\"size\":10,\"solidity\":0.2}},\"type\":\"histogram\"}],\"scattergl\":[{\"type\":\"scattergl\",\"marker\":{\"colorbar\":{\"outlinewidth\":0,\"ticks\":\"\"}}}],\"scatter3d\":[{\"type\":\"scatter3d\",\"line\":{\"colorbar\":{\"outlinewidth\":0,\"ticks\":\"\"}},\"marker\":{\"colorbar\":{\"outlinewidth\":0,\"ticks\":\"\"}}}],\"scattermapbox\":[{\"type\":\"scattermapbox\",\"marker\":{\"colorbar\":{\"outlinewidth\":0,\"ticks\":\"\"}}}],\"scatterternary\":[{\"type\":\"scatterternary\",\"marker\":{\"colorbar\":{\"outlinewidth\":0,\"ticks\":\"\"}}}],\"scattercarpet\":[{\"type\":\"scattercarpet\",\"marker\":{\"colorbar\":{\"outlinewidth\":0,\"ticks\":\"\"}}}],\"carpet\":[{\"aaxis\":{\"endlinecolor\":\"#2a3f5f\",\"gridcolor\":\"white\",\"linecolor\":\"white\",\"minorgridcolor\":\"white\",\"startlinecolor\":\"#2a3f5f\"},\"baxis\":{\"endlinecolor\":\"#2a3f5f\",\"gridcolor\":\"white\",\"linecolor\":\"white\",\"minorgridcolor\":\"white\",\"startlinecolor\":\"#2a3f5f\"},\"type\":\"carpet\"}],\"table\":[{\"cells\":{\"fill\":{\"color\":\"#EBF0F8\"},\"line\":{\"color\":\"white\"}},\"header\":{\"fill\":{\"color\":\"#C8D4E3\"},\"line\":{\"color\":\"white\"}},\"type\":\"table\"}],\"barpolar\":[{\"marker\":{\"line\":{\"color\":\"#E5ECF6\",\"width\":0.5},\"pattern\":{\"fillmode\":\"overlay\",\"size\":10,\"solidity\":0.2}},\"type\":\"barpolar\"}],\"pie\":[{\"automargin\":true,\"type\":\"pie\"}]},\"layout\":{\"autotypenumbers\":\"strict\",\"colorway\":[\"#636efa\",\"#EF553B\",\"#00cc96\",\"#ab63fa\",\"#FFA15A\",\"#19d3f3\",\"#FF6692\",\"#B6E880\",\"#FF97FF\",\"#FECB52\"],\"font\":{\"color\":\"#2a3f5f\"},\"hovermode\":\"closest\",\"hoverlabel\":{\"align\":\"left\"},\"paper_bgcolor\":\"white\",\"plot_bgcolor\":\"#E5ECF6\",\"polar\":{\"bgcolor\":\"#E5ECF6\",\"angularaxis\":{\"gridcolor\":\"white\",\"linecolor\":\"white\",\"ticks\":\"\"},\"radialaxis\":{\"gridcolor\":\"white\",\"linecolor\":\"white\",\"ticks\":\"\"}},\"ternary\":{\"bgcolor\":\"#E5ECF6\",\"aaxis\":{\"gridcolor\":\"white\",\"linecolor\":\"white\",\"ticks\":\"\"},\"baxis\":{\"gridcolor\":\"white\",\"linecolor\":\"white\",\"ticks\":\"\"},\"caxis\":{\"gridcolor\":\"white\",\"linecolor\":\"white\",\"ticks\":\"\"}},\"coloraxis\":{\"colorbar\":{\"outlinewidth\":0,\"ticks\":\"\"}},\"colorscale\":{\"sequential\":[[0.0,\"#0d0887\"],[0.1111111111111111,\"#46039f\"],[0.2222222222222222,\"#7201a8\"],[0.3333333333333333,\"#9c179e\"],[0.4444444444444444,\"#bd3786\"],[0.5555555555555556,\"#d8576b\"],[0.6666666666666666,\"#ed7953\"],[0.7777777777777778,\"#fb9f3a\"],[0.8888888888888888,\"#fdca26\"],[1.0,\"#f0f921\"]],\"sequentialminus\":[[0.0,\"#0d0887\"],[0.1111111111111111,\"#46039f\"],[0.2222222222222222,\"#7201a8\"],[0.3333333333333333,\"#9c179e\"],[0.4444444444444444,\"#bd3786\"],[0.5555555555555556,\"#d8576b\"],[0.6666666666666666,\"#ed7953\"],[0.7777777777777778,\"#fb9f3a\"],[0.8888888888888888,\"#fdca26\"],[1.0,\"#f0f921\"]],\"diverging\":[[0,\"#8e0152\"],[0.1,\"#c51b7d\"],[0.2,\"#de77ae\"],[0.3,\"#f1b6da\"],[0.4,\"#fde0ef\"],[0.5,\"#f7f7f7\"],[0.6,\"#e6f5d0\"],[0.7,\"#b8e186\"],[0.8,\"#7fbc41\"],[0.9,\"#4d9221\"],[1,\"#276419\"]]},\"xaxis\":{\"gridcolor\":\"white\",\"linecolor\":\"white\",\"ticks\":\"\",\"title\":{\"standoff\":15},\"zerolinecolor\":\"white\",\"automargin\":true,\"zerolinewidth\":2},\"yaxis\":{\"gridcolor\":\"white\",\"linecolor\":\"white\",\"ticks\":\"\",\"title\":{\"standoff\":15},\"zerolinecolor\":\"white\",\"automargin\":true,\"zerolinewidth\":2},\"scene\":{\"xaxis\":{\"backgroundcolor\":\"#E5ECF6\",\"gridcolor\":\"white\",\"linecolor\":\"white\",\"showbackground\":true,\"ticks\":\"\",\"zerolinecolor\":\"white\",\"gridwidth\":2},\"yaxis\":{\"backgroundcolor\":\"#E5ECF6\",\"gridcolor\":\"white\",\"linecolor\":\"white\",\"showbackground\":true,\"ticks\":\"\",\"zerolinecolor\":\"white\",\"gridwidth\":2},\"zaxis\":{\"backgroundcolor\":\"#E5ECF6\",\"gridcolor\":\"white\",\"linecolor\":\"white\",\"showbackground\":true,\"ticks\":\"\",\"zerolinecolor\":\"white\",\"gridwidth\":2}},\"shapedefaults\":{\"line\":{\"color\":\"#2a3f5f\"}},\"annotationdefaults\":{\"arrowcolor\":\"#2a3f5f\",\"arrowhead\":0,\"arrowwidth\":1},\"geo\":{\"bgcolor\":\"white\",\"landcolor\":\"#E5ECF6\",\"subunitcolor\":\"white\",\"showland\":true,\"showlakes\":true,\"lakecolor\":\"white\"},\"title\":{\"x\":0.05},\"mapbox\":{\"style\":\"light\"}}},\"scene\":{\"domain\":{\"x\":[0.0,1.0],\"y\":[0.0,1.0]},\"xaxis\":{\"title\":{\"text\":\"x\"}},\"yaxis\":{\"title\":{\"text\":\"y\"}},\"zaxis\":{\"title\":{\"text\":\"z\"}}},\"coloraxis\":{\"colorbar\":{\"title\":{\"text\":\"color\"}},\"colorscale\":[[0.0,\"#0d0887\"],[0.1111111111111111,\"#46039f\"],[0.2222222222222222,\"#7201a8\"],[0.3333333333333333,\"#9c179e\"],[0.4444444444444444,\"#bd3786\"],[0.5555555555555556,\"#d8576b\"],[0.6666666666666666,\"#ed7953\"],[0.7777777777777778,\"#fb9f3a\"],[0.8888888888888888,\"#fdca26\"],[1.0,\"#f0f921\"]]},\"legend\":{\"tracegroupgap\":0},\"margin\":{\"t\":60}},                        {\"responsive\": true}                    ).then(function(){\n",
       "                            \n",
       "var gd = document.getElementById('a5dc26d2-5cd5-479b-ad07-830169e2daef');\n",
       "var x = new MutationObserver(function (mutations, observer) {{\n",
       "        var display = window.getComputedStyle(gd).display;\n",
       "        if (!display || display === 'none') {{\n",
       "            console.log([gd, 'removed!']);\n",
       "            Plotly.purge(gd);\n",
       "            observer.disconnect();\n",
       "        }}\n",
       "}});\n",
       "\n",
       "// Listen for the removal of the full notebook cells\n",
       "var notebookContainer = gd.closest('#notebook-container');\n",
       "if (notebookContainer) {{\n",
       "    x.observe(notebookContainer, {childList: true});\n",
       "}}\n",
       "\n",
       "// Listen for the clearing of the current output cell\n",
       "var outputEl = gd.closest('.output');\n",
       "if (outputEl) {{\n",
       "    x.observe(outputEl, {childList: true});\n",
       "}}\n",
       "\n",
       "                        })                };                });            </script>        </div>"
      ]
     },
     "metadata": {},
     "output_type": "display_data"
    }
   ],
   "source": [
    "points = np.array([\n",
    "    a_value,\n",
    "    b_value,\n",
    "    c_value,\n",
    "    d_value,\n",
    "    p1_value,\n",
    "    p2_value,\n",
    "    (p1_value + p2_value) / 2\n",
    "]).astype(np.float32)\n",
    "\n",
    "color = np.array([\n",
    "    0,0,0,0,1,1, 2\n",
    "])\n",
    "\n",
    "fig = px.scatter_3d(x=points[:, 0], y=points[:,1], z=points[:,2], color=color)\n",
    "fig.show()"
   ]
  },
  {
   "cell_type": "code",
   "execution_count": 126,
   "metadata": {},
   "outputs": [
    {
     "name": "stdout",
     "output_type": "stream",
     "text": [
      "t_1\n",
      "(T_2*T_6 - T_3*T_5)/(T_1*T_5 - T_2*T_4)\n",
      "t_2\n",
      "(-T_1*T_6 + T_3*T_4)/(T_1*T_5 - T_2*T_4)\n"
     ]
    }
   ],
   "source": [
    "for k, v in res.items():\n",
    "    print(k)\n",
    "    print(v)"
   ]
  },
  {
   "cell_type": "code",
   "execution_count": 135,
   "metadata": {},
   "outputs": [
    {
     "data": {
      "text/plain": [
       "(array([ 2.05723774, -0.49085356, -0.14360946]), 1.3200313273931596)"
      ]
     },
     "execution_count": 135,
     "metadata": {},
     "output_type": "execute_result"
    }
   ],
   "source": [
    "def get_closest_point_and_dist(line1_p1, line1_p2, line2_p1, line2_p2):\n",
    "    list_t = np.array(\n",
    "        [\n",
    "            0,\n",
    "            -(line1_p1 - line1_p2).dot(line2_p1 - line2_p2),\n",
    "            (line2_p2 - line2_p1).dot(line2_p1 - line2_p2),\n",
    "            (line2_p2 - line1_p1).dot(line2_p1 - line2_p2),\n",
    "            -(line1_p1 - line1_p2).dot(line1_p1 - line1_p2),\n",
    "            (line2_p2 - line2_p1).dot(line1_p1 - line1_p2),\n",
    "            (line2_p2 - line1_p1).dot(line1_p1 - line1_p2),\n",
    "        ]\n",
    "    )\n",
    "\n",
    "    t1 = (list_t[2] * list_t[6] - list_t[3] * list_t[5]) / (\n",
    "        list_t[1] * list_t[5] - list_t[2] * list_t[4]\n",
    "    )\n",
    "    t2 = (-list_t[1] * list_t[6] + list_t[3] * list_t[4]) / (\n",
    "        list_t[1] * list_t[5] - list_t[2] * list_t[4]\n",
    "    )\n",
    "\n",
    "    p2_value = line2_p2 + (line2_p2 - line2_p1) * t2\n",
    "    p1_value = line1_p1 + (line1_p1 - line1_p2) * t1\n",
    "    return (p1_value + p2_value) / 2, np.linalg.norm(p2_value - p1_value)\n",
    "\n",
    "def_res = get_closest_point_and_dist(\n",
    "    a_value,\n",
    "    b_value,\n",
    "    c_value,\n",
    "    d_value    \n",
    ")\n",
    "\n",
    "assert np.linalg.norm((def_res[0] - (p1_value + p2_value) / 2).astype(np.float32)) < 1e-10\n",
    "\n",
    "def_res"
   ]
  },
  {
   "cell_type": "code",
   "execution_count": null,
   "metadata": {},
   "outputs": [
    {
     "data": {
      "text/plain": [
       "4.9960036e-16"
      ]
     },
     "execution_count": 134,
     "metadata": {},
     "output_type": "execute_result"
    }
   ],
   "source": []
  }
 ],
 "metadata": {
  "kernelspec": {
   "display_name": "Python 3",
   "language": "python",
   "name": "python3"
  },
  "language_info": {
   "codemirror_mode": {
    "name": "ipython",
    "version": 3
   },
   "file_extension": ".py",
   "mimetype": "text/x-python",
   "name": "python",
   "nbconvert_exporter": "python",
   "pygments_lexer": "ipython3",
   "version": "3.10.12"
  }
 },
 "nbformat": 4,
 "nbformat_minor": 2
}
